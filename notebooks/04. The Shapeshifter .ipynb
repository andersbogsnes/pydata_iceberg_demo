{
 "cells": [
  {
   "cell_type": "markdown",
   "id": "ca6a9c5a-bb62-421f-9107-2b1c2303ffe5",
   "metadata": {},
   "source": [
    "# The Shapeshifter - Object Storage"
   ]
  },
  {
   "cell_type": "code",
   "execution_count": 79,
   "id": "33252b68-7d58-4ddc-9d78-1e3f1febe099",
   "metadata": {},
   "outputs": [],
   "source": [
    "import ibis"
   ]
  },
  {
   "cell_type": "code",
   "execution_count": 4,
   "id": "f0efd882-1625-42a7-aa1e-939d10a12255",
   "metadata": {
    "editable": true,
    "slideshow": {
     "slide_type": ""
    },
    "tags": []
   },
   "outputs": [],
   "source": [
    "ACCESS_KEY='LGMGAGLrVCiiEEo4p0LM'\n",
    "ACCESS_SECRET='V9iymcYnXVewTVRLPLMnw3Yh2TI72ZOijuuF1nN7'"
   ]
  },
  {
   "cell_type": "code",
   "execution_count": 92,
   "id": "7be93716-fecc-4d56-b00c-0bbb52ba9b47",
   "metadata": {},
   "outputs": [],
   "source": [
    "conn = ibis.duckdb.connect('test.ddb')"
   ]
  },
  {
   "cell_type": "code",
   "execution_count": 93,
   "id": "2b49fd36-9780-45a9-baf9-aefd74737ba3",
   "metadata": {},
   "outputs": [
    {
     "data": {
      "text/plain": [
       "<duckdb.duckdb.DuckDBPyConnection at 0x303b03830>"
      ]
     },
     "execution_count": 93,
     "metadata": {},
     "output_type": "execute_result"
    }
   ],
   "source": [
    "conn.raw_sql(f\"\"\"create or replace secret minio (type s3, \n",
    "                              key_id '{ACCESS_KEY}', \n",
    "                              secret '{ACCESS_SECRET}', \n",
    "                              endpoint 'localhost:9000',\n",
    "                              use_ssl false,\n",
    "                              url_style 'path'\n",
    "                              )\"\"\"\n",
    "                              )\n"
   ]
  },
  {
   "cell_type": "code",
   "execution_count": 97,
   "id": "b7d9d67d-3550-4a80-996c-ecac818c0f8d",
   "metadata": {},
   "outputs": [],
   "source": [
    "t = conn.read_parquet('s3://datalake/steam_reviews.parquet', table_name='reviews')"
   ]
  },
  {
   "cell_type": "code",
   "execution_count": 107,
   "id": "37534645-b8de-4f47-8371-c8e1c89e6845",
   "metadata": {
    "editable": true,
    "slideshow": {
     "slide_type": ""
    },
    "tags": []
   },
   "outputs": [
    {
     "name": "stdout",
     "output_type": "stream",
     "text": [
      "1.09 s ± 92.3 ms per loop (mean ± std. dev. of 7 runs, 1 loop each)\n"
     ]
    }
   ],
   "source": [
    "%%timeit\n",
    "t.group_by(t.year_created, t.month_created).aggregate(t.count().name(\"num_reviews\")).execute()"
   ]
  },
  {
   "cell_type": "code",
   "execution_count": 108,
   "id": "449ee164-f27c-41e1-83f6-8166f9bd7c6f",
   "metadata": {},
   "outputs": [
    {
     "name": "stdout",
     "output_type": "stream",
     "text": [
      "1.67 s ± 53.1 ms per loop (mean ± std. dev. of 7 runs, 1 loop each)\n"
     ]
    }
   ],
   "source": [
    "%%timeit\n",
    "t.group_by(t.year_created, t.month_created).aggregate(t.voted_up.sum()).to_polars()"
   ]
  },
  {
   "cell_type": "code",
   "execution_count": null,
   "id": "14daf471-329c-4bbc-8473-8d61f1b8b4b9",
   "metadata": {
    "editable": true,
    "slideshow": {
     "slide_type": ""
    },
    "tags": []
   },
   "outputs": [],
   "source": []
  }
 ],
 "metadata": {
  "kernelspec": {
   "display_name": "Python 3 (ipykernel)",
   "language": "python",
   "name": "python3"
  },
  "language_info": {
   "codemirror_mode": {
    "name": "ipython",
    "version": 3
   },
   "file_extension": ".py",
   "mimetype": "text/x-python",
   "name": "python",
   "nbconvert_exporter": "python",
   "pygments_lexer": "ipython3",
   "version": "3.12.2"
  }
 },
 "nbformat": 4,
 "nbformat_minor": 5
}
