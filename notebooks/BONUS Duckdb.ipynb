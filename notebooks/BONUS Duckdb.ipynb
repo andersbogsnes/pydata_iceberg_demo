{
 "cells": [
  {
   "cell_type": "markdown",
   "id": "28216506-88b3-4a67-a919-edcb56118425",
   "metadata": {},
   "source": [
    "# BONUS: Duckdb\n",
    "\n",
    "![DuckDB Logo](images/logos/DuckDB_Logo.png)\n",
    "\n",
    "DuckDB is the new black in data engineering - an in-process analytical database that aims for performance. DuckDB is focused on making it easy to query data from anywhere and has bindings to most popular languages, including Python of course. It even compiles to WASM, letting us do cool stuff like [this](https://shell.duckdb.org/)\n",
    "\n",
    "DuckDB takes advantage of Arrow as it's internal data format, making it easy to interop with popular Python libraries as DuckDB can read and write the Arrow memory directly"
   ]
  },
  {
   "cell_type": "code",
   "execution_count": 2,
   "id": "e66e6c8c-6870-40f1-bb3c-a26e4ec22e87",
   "metadata": {},
   "outputs": [],
   "source": [
    "import duckdb\n",
    "import polars as pl\n",
    "pl.Config().set_thousands_separator(',')"
   ]
  },
  {
   "cell_type": "code",
   "execution_count": 41,
   "id": "75edf689-b3d1-4488-bf1d-1c80fb881cba",
   "metadata": {},
   "outputs": [
    {
     "data": {
      "text/html": [
       "<div><style>\n",
       ".dataframe > thead > tr,\n",
       ".dataframe > tbody > tr {\n",
       "  text-align: right;\n",
       "  white-space: pre-wrap;\n",
       "}\n",
       "</style>\n",
       "<small>shape: (56_543, 21)</small><table border=\"1\" class=\"dataframe\"><thead><tr><th>recommendationid</th><th>language</th><th>timestamp_created</th><th>timestamp_updated</th><th>voted_up</th><th>votes_up</th><th>votes_funny</th><th>weighted_vote_score</th><th>comment_count</th><th>steam_purchase</th><th>received_for_free</th><th>written_during_early_access</th><th>hidden_in_steam_china</th><th>steam_china_location</th><th>author_steamid</th><th>author_num_games_owned</th><th>author_num_reviews</th><th>author_playtime_forever</th><th>author_playtime_last_two_weeks</th><th>author_playtime_at_review</th><th>author_last_played</th></tr><tr><td>i64</td><td>str</td><td>i64</td><td>i64</td><td>i64</td><td>i64</td><td>i64</td><td>f64</td><td>i64</td><td>i64</td><td>i64</td><td>i64</td><td>i64</td><td>str</td><td>i64</td><td>i64</td><td>i64</td><td>i64</td><td>i64</td><td>i64</td><td>i64</td></tr></thead><tbody><tr><td>147,937,429</td><td>&quot;english&quot;</td><td>1,696,875,102</td><td>1,717,510,986</td><td>1</td><td>3</td><td>0</td><td>0.5268</td><td>0</td><td>1</td><td>0</td><td>0</td><td>1</td><td>null</td><td>76,561,199,550,893,216</td><td>35</td><td>23</td><td>59,161</td><td>4,738</td><td>58,753</td><td>1,717,541,057</td></tr><tr><td>166,652,969</td><td>&quot;english&quot;</td><td>1,717,495,511</td><td>1,717,495,511</td><td>1</td><td>0</td><td>0</td><td>0.0</td><td>0</td><td>1</td><td>0</td><td>0</td><td>1</td><td>null</td><td>76,561,199,025,372,592</td><td>10</td><td>2</td><td>13,452</td><td>502</td><td>13,426</td><td>1,717,500,702</td></tr><tr><td>166,652,933</td><td>&quot;english&quot;</td><td>1,717,495,460</td><td>1,717,538,865</td><td>1</td><td>1</td><td>0</td><td>0.517767</td><td>0</td><td>1</td><td>0</td><td>0</td><td>1</td><td>null</td><td>76,561,197,975,930,688</td><td>436</td><td>180</td><td>3,197</td><td>0</td><td>3,197</td><td>1,714,457,233</td></tr><tr><td>137,537,621</td><td>&quot;english&quot;</td><td>1,682,843,335</td><td>1,717,481,847</td><td>1</td><td>0</td><td>0</td><td>0.0</td><td>0</td><td>0</td><td>0</td><td>0</td><td>1</td><td>null</td><td>76,561,199,148,051,920</td><td>43</td><td>6</td><td>10,173</td><td>2</td><td>10,173</td><td>1,716,744,841</td></tr><tr><td>154,253,089</td><td>&quot;english&quot;</td><td>1,703,375,726</td><td>1,717,478,605</td><td>1</td><td>0</td><td>0</td><td>0.0</td><td>0</td><td>1</td><td>0</td><td>0</td><td>1</td><td>null</td><td>76,561,199,179,558,352</td><td>50</td><td>25</td><td>195</td><td>92</td><td>195</td><td>1,717,478,564</td></tr><tr><td>&hellip;</td><td>&hellip;</td><td>&hellip;</td><td>&hellip;</td><td>&hellip;</td><td>&hellip;</td><td>&hellip;</td><td>&hellip;</td><td>&hellip;</td><td>&hellip;</td><td>&hellip;</td><td>&hellip;</td><td>&hellip;</td><td>&hellip;</td><td>&hellip;</td><td>&hellip;</td><td>&hellip;</td><td>&hellip;</td><td>&hellip;</td><td>&hellip;</td><td>&hellip;</td></tr><tr><td>30,564,247</td><td>&quot;english&quot;</td><td>1,489,733,442</td><td>1,574,109,131</td><td>1</td><td>0</td><td>1</td><td>0.41404</td><td>0</td><td>0</td><td>0</td><td>0</td><td>0</td><td>null</td><td>76,561,198,095,892,208</td><td>811</td><td>72</td><td>11</td><td>0</td><td>7</td><td>1,541,900,660</td></tr><tr><td>22,338,865</td><td>&quot;english&quot;</td><td>1,460,293,069</td><td>1,460,293,069</td><td>1</td><td>1</td><td>1</td><td>0.502488</td><td>0</td><td>0</td><td>0</td><td>0</td><td>0</td><td>null</td><td>76,561,198,149,865,296</td><td>18</td><td>1</td><td>113,891</td><td>0</td><td>30,245</td><td>1,690,362,335</td></tr><tr><td>15,043,110</td><td>&quot;english&quot;</td><td>1,427,259,949</td><td>1,571,474,648</td><td>1</td><td>0</td><td>0</td><td>0.0</td><td>0</td><td>0</td><td>0</td><td>0</td><td>0</td><td>null</td><td>76,561,198,072,567,552</td><td>38</td><td>34</td><td>7,302</td><td>0</td><td>4,661</td><td>1,571,062,471</td></tr><tr><td>149,284,037</td><td>&quot;english&quot;</td><td>1,698,800,321</td><td>1,698,800,321</td><td>1</td><td>0</td><td>0</td><td>0.0</td><td>0</td><td>0</td><td>1</td><td>0</td><td>1</td><td>null</td><td>76,561,199,052,025,216</td><td>46</td><td>3</td><td>3,367</td><td>2,694</td><td>3,016</td><td>1,698,892,194</td></tr><tr><td>1,092,034</td><td>&quot;english&quot;</td><td>1,291,918,689</td><td>1,291,918,689</td><td>1</td><td>0</td><td>0</td><td>0.0</td><td>0</td><td>0</td><td>0</td><td>0</td><td>0</td><td>null</td><td>76,561,197,986,485,904</td><td>0</td><td>2</td><td>119,070</td><td>0</td><td>116,910</td><td>1,396,684,983</td></tr></tbody></table></div>"
      ],
      "text/plain": [
       "shape: (56_543, 21)\n",
       "┌───────────┬──────────┬───────────┬───────────┬───┬───────────┬───────────┬───────────┬───────────┐\n",
       "│ recommend ┆ language ┆ timestamp ┆ timestamp ┆ … ┆ author_pl ┆ author_pl ┆ author_pl ┆ author_la │\n",
       "│ ationid   ┆ ---      ┆ _created  ┆ _updated  ┆   ┆ aytime_fo ┆ aytime_la ┆ aytime_at ┆ st_played │\n",
       "│ ---       ┆ str      ┆ ---       ┆ ---       ┆   ┆ rever     ┆ st_two_we ┆ _review   ┆ ---       │\n",
       "│ i64       ┆          ┆ i64       ┆ i64       ┆   ┆ ---       ┆ eks       ┆ ---       ┆ i64       │\n",
       "│           ┆          ┆           ┆           ┆   ┆ i64       ┆ ---       ┆ i64       ┆           │\n",
       "│           ┆          ┆           ┆           ┆   ┆           ┆ i64       ┆           ┆           │\n",
       "╞═══════════╪══════════╪═══════════╪═══════════╪═══╪═══════════╪═══════════╪═══════════╪═══════════╡\n",
       "│ 147,937,4 ┆ english  ┆ 1,696,875 ┆ 1,717,510 ┆ … ┆ 59,161    ┆ 4,738     ┆ 58,753    ┆ 1,717,541 │\n",
       "│ 29        ┆          ┆ ,102      ┆ ,986      ┆   ┆           ┆           ┆           ┆ ,057      │\n",
       "│ 166,652,9 ┆ english  ┆ 1,717,495 ┆ 1,717,495 ┆ … ┆ 13,452    ┆ 502       ┆ 13,426    ┆ 1,717,500 │\n",
       "│ 69        ┆          ┆ ,511      ┆ ,511      ┆   ┆           ┆           ┆           ┆ ,702      │\n",
       "│ 166,652,9 ┆ english  ┆ 1,717,495 ┆ 1,717,538 ┆ … ┆ 3,197     ┆ 0         ┆ 3,197     ┆ 1,714,457 │\n",
       "│ 33        ┆          ┆ ,460      ┆ ,865      ┆   ┆           ┆           ┆           ┆ ,233      │\n",
       "│ 137,537,6 ┆ english  ┆ 1,682,843 ┆ 1,717,481 ┆ … ┆ 10,173    ┆ 2         ┆ 10,173    ┆ 1,716,744 │\n",
       "│ 21        ┆          ┆ ,335      ┆ ,847      ┆   ┆           ┆           ┆           ┆ ,841      │\n",
       "│ 154,253,0 ┆ english  ┆ 1,703,375 ┆ 1,717,478 ┆ … ┆ 195       ┆ 92        ┆ 195       ┆ 1,717,478 │\n",
       "│ 89        ┆          ┆ ,726      ┆ ,605      ┆   ┆           ┆           ┆           ┆ ,564      │\n",
       "│ …         ┆ …        ┆ …         ┆ …         ┆ … ┆ …         ┆ …         ┆ …         ┆ …         │\n",
       "│ 30,564,24 ┆ english  ┆ 1,489,733 ┆ 1,574,109 ┆ … ┆ 11        ┆ 0         ┆ 7         ┆ 1,541,900 │\n",
       "│ 7         ┆          ┆ ,442      ┆ ,131      ┆   ┆           ┆           ┆           ┆ ,660      │\n",
       "│ 22,338,86 ┆ english  ┆ 1,460,293 ┆ 1,460,293 ┆ … ┆ 113,891   ┆ 0         ┆ 30,245    ┆ 1,690,362 │\n",
       "│ 5         ┆          ┆ ,069      ┆ ,069      ┆   ┆           ┆           ┆           ┆ ,335      │\n",
       "│ 15,043,11 ┆ english  ┆ 1,427,259 ┆ 1,571,474 ┆ … ┆ 7,302     ┆ 0         ┆ 4,661     ┆ 1,571,062 │\n",
       "│ 0         ┆          ┆ ,949      ┆ ,648      ┆   ┆           ┆           ┆           ┆ ,471      │\n",
       "│ 149,284,0 ┆ english  ┆ 1,698,800 ┆ 1,698,800 ┆ … ┆ 3,367     ┆ 2,694     ┆ 3,016     ┆ 1,698,892 │\n",
       "│ 37        ┆          ┆ ,321      ┆ ,321      ┆   ┆           ┆           ┆           ┆ ,194      │\n",
       "│ 1,092,034 ┆ english  ┆ 1,291,918 ┆ 1,291,918 ┆ … ┆ 119,070   ┆ 0         ┆ 116,910   ┆ 1,396,684 │\n",
       "│           ┆          ┆ ,689      ┆ ,689      ┆   ┆           ┆           ┆           ┆ ,983      │\n",
       "└───────────┴──────────┴───────────┴───────────┴───┴───────────┴───────────┴───────────┴───────────┘"
      ]
     },
     "execution_count": 41,
     "metadata": {},
     "output_type": "execute_result"
    }
   ],
   "source": [
    "sql = \"\"\"SELECT * FROM 'data/10.csv' WHERE language = 'english'\"\"\"\n",
    "\n",
    "duckdb.sql(sql).pl()"
   ]
  },
  {
   "cell_type": "markdown",
   "id": "3ef6df2d-3345-476a-b4fa-c93d6dd42898",
   "metadata": {},
   "source": [
    "DuckDB infers that we want to read a 'csv' file and calls it's `read_csv` function implicitly. We can of course do this explicitly if we want to pass options to handle those messy CSV files."
   ]
  },
  {
   "cell_type": "code",
   "execution_count": 42,
   "id": "e4f5b09b-bf8c-49b6-b0c1-b2e07f8b8060",
   "metadata": {},
   "outputs": [
    {
     "data": {
      "text/html": [
       "<div><style>\n",
       ".dataframe > thead > tr,\n",
       ".dataframe > tbody > tr {\n",
       "  text-align: right;\n",
       "  white-space: pre-wrap;\n",
       "}\n",
       "</style>\n",
       "<small>shape: (56_543, 23)</small><table border=\"1\" class=\"dataframe\"><thead><tr><th>filename</th><th>recommendationid</th><th>language</th><th>timestamp_created</th><th>timestamp_updated</th><th>voted_up</th><th>votes_up</th><th>votes_funny</th><th>weighted_vote_score</th><th>comment_count</th><th>steam_purchase</th><th>received_for_free</th><th>written_during_early_access</th><th>hidden_in_steam_china</th><th>steam_china_location</th><th>author_steamid</th><th>author_num_games_owned</th><th>author_num_reviews</th><th>author_playtime_forever</th><th>author_playtime_last_two_weeks</th><th>author_playtime_at_review</th><th>author_last_played</th><th>filename_1</th></tr><tr><td>str</td><td>i64</td><td>str</td><td>i64</td><td>i64</td><td>i64</td><td>i64</td><td>i64</td><td>f64</td><td>i64</td><td>i64</td><td>i64</td><td>i64</td><td>i64</td><td>str</td><td>i64</td><td>i64</td><td>i64</td><td>i64</td><td>i64</td><td>i64</td><td>i64</td><td>str</td></tr></thead><tbody><tr><td>&quot;data/10.csv&quot;</td><td>147,937,429</td><td>&quot;english&quot;</td><td>1,696,875,102</td><td>1,717,510,986</td><td>1</td><td>3</td><td>0</td><td>0.5268</td><td>0</td><td>1</td><td>0</td><td>0</td><td>1</td><td>null</td><td>76,561,199,550,893,216</td><td>35</td><td>23</td><td>59,161</td><td>4,738</td><td>58,753</td><td>1,717,541,057</td><td>&quot;data/10.csv&quot;</td></tr><tr><td>&quot;data/10.csv&quot;</td><td>166,652,969</td><td>&quot;english&quot;</td><td>1,717,495,511</td><td>1,717,495,511</td><td>1</td><td>0</td><td>0</td><td>0.0</td><td>0</td><td>1</td><td>0</td><td>0</td><td>1</td><td>null</td><td>76,561,199,025,372,592</td><td>10</td><td>2</td><td>13,452</td><td>502</td><td>13,426</td><td>1,717,500,702</td><td>&quot;data/10.csv&quot;</td></tr><tr><td>&quot;data/10.csv&quot;</td><td>166,652,933</td><td>&quot;english&quot;</td><td>1,717,495,460</td><td>1,717,538,865</td><td>1</td><td>1</td><td>0</td><td>0.517767</td><td>0</td><td>1</td><td>0</td><td>0</td><td>1</td><td>null</td><td>76,561,197,975,930,688</td><td>436</td><td>180</td><td>3,197</td><td>0</td><td>3,197</td><td>1,714,457,233</td><td>&quot;data/10.csv&quot;</td></tr><tr><td>&quot;data/10.csv&quot;</td><td>137,537,621</td><td>&quot;english&quot;</td><td>1,682,843,335</td><td>1,717,481,847</td><td>1</td><td>0</td><td>0</td><td>0.0</td><td>0</td><td>0</td><td>0</td><td>0</td><td>1</td><td>null</td><td>76,561,199,148,051,920</td><td>43</td><td>6</td><td>10,173</td><td>2</td><td>10,173</td><td>1,716,744,841</td><td>&quot;data/10.csv&quot;</td></tr><tr><td>&quot;data/10.csv&quot;</td><td>154,253,089</td><td>&quot;english&quot;</td><td>1,703,375,726</td><td>1,717,478,605</td><td>1</td><td>0</td><td>0</td><td>0.0</td><td>0</td><td>1</td><td>0</td><td>0</td><td>1</td><td>null</td><td>76,561,199,179,558,352</td><td>50</td><td>25</td><td>195</td><td>92</td><td>195</td><td>1,717,478,564</td><td>&quot;data/10.csv&quot;</td></tr><tr><td>&hellip;</td><td>&hellip;</td><td>&hellip;</td><td>&hellip;</td><td>&hellip;</td><td>&hellip;</td><td>&hellip;</td><td>&hellip;</td><td>&hellip;</td><td>&hellip;</td><td>&hellip;</td><td>&hellip;</td><td>&hellip;</td><td>&hellip;</td><td>&hellip;</td><td>&hellip;</td><td>&hellip;</td><td>&hellip;</td><td>&hellip;</td><td>&hellip;</td><td>&hellip;</td><td>&hellip;</td><td>&hellip;</td></tr><tr><td>&quot;data/10.csv&quot;</td><td>30,564,247</td><td>&quot;english&quot;</td><td>1,489,733,442</td><td>1,574,109,131</td><td>1</td><td>0</td><td>1</td><td>0.41404</td><td>0</td><td>0</td><td>0</td><td>0</td><td>0</td><td>null</td><td>76,561,198,095,892,208</td><td>811</td><td>72</td><td>11</td><td>0</td><td>7</td><td>1,541,900,660</td><td>&quot;data/10.csv&quot;</td></tr><tr><td>&quot;data/10.csv&quot;</td><td>22,338,865</td><td>&quot;english&quot;</td><td>1,460,293,069</td><td>1,460,293,069</td><td>1</td><td>1</td><td>1</td><td>0.502488</td><td>0</td><td>0</td><td>0</td><td>0</td><td>0</td><td>null</td><td>76,561,198,149,865,296</td><td>18</td><td>1</td><td>113,891</td><td>0</td><td>30,245</td><td>1,690,362,335</td><td>&quot;data/10.csv&quot;</td></tr><tr><td>&quot;data/10.csv&quot;</td><td>15,043,110</td><td>&quot;english&quot;</td><td>1,427,259,949</td><td>1,571,474,648</td><td>1</td><td>0</td><td>0</td><td>0.0</td><td>0</td><td>0</td><td>0</td><td>0</td><td>0</td><td>null</td><td>76,561,198,072,567,552</td><td>38</td><td>34</td><td>7,302</td><td>0</td><td>4,661</td><td>1,571,062,471</td><td>&quot;data/10.csv&quot;</td></tr><tr><td>&quot;data/10.csv&quot;</td><td>149,284,037</td><td>&quot;english&quot;</td><td>1,698,800,321</td><td>1,698,800,321</td><td>1</td><td>0</td><td>0</td><td>0.0</td><td>0</td><td>0</td><td>1</td><td>0</td><td>1</td><td>null</td><td>76,561,199,052,025,216</td><td>46</td><td>3</td><td>3,367</td><td>2,694</td><td>3,016</td><td>1,698,892,194</td><td>&quot;data/10.csv&quot;</td></tr><tr><td>&quot;data/10.csv&quot;</td><td>1,092,034</td><td>&quot;english&quot;</td><td>1,291,918,689</td><td>1,291,918,689</td><td>1</td><td>0</td><td>0</td><td>0.0</td><td>0</td><td>0</td><td>0</td><td>0</td><td>0</td><td>null</td><td>76,561,197,986,485,904</td><td>0</td><td>2</td><td>119,070</td><td>0</td><td>116,910</td><td>1,396,684,983</td><td>&quot;data/10.csv&quot;</td></tr></tbody></table></div>"
      ],
      "text/plain": [
       "shape: (56_543, 23)\n",
       "┌───────────┬───────────┬──────────┬───────────┬───┬───────────┬───────────┬───────────┬───────────┐\n",
       "│ filename  ┆ recommend ┆ language ┆ timestamp ┆ … ┆ author_pl ┆ author_pl ┆ author_la ┆ filename_ │\n",
       "│ ---       ┆ ationid   ┆ ---      ┆ _created  ┆   ┆ aytime_la ┆ aytime_at ┆ st_played ┆ 1         │\n",
       "│ str       ┆ ---       ┆ str      ┆ ---       ┆   ┆ st_two_we ┆ _review   ┆ ---       ┆ ---       │\n",
       "│           ┆ i64       ┆          ┆ i64       ┆   ┆ eks       ┆ ---       ┆ i64       ┆ str       │\n",
       "│           ┆           ┆          ┆           ┆   ┆ ---       ┆ i64       ┆           ┆           │\n",
       "│           ┆           ┆          ┆           ┆   ┆ i64       ┆           ┆           ┆           │\n",
       "╞═══════════╪═══════════╪══════════╪═══════════╪═══╪═══════════╪═══════════╪═══════════╪═══════════╡\n",
       "│ data/10.c ┆ 147,937,4 ┆ english  ┆ 1,696,875 ┆ … ┆ 4,738     ┆ 58,753    ┆ 1,717,541 ┆ data/10.c │\n",
       "│ sv        ┆ 29        ┆          ┆ ,102      ┆   ┆           ┆           ┆ ,057      ┆ sv        │\n",
       "│ data/10.c ┆ 166,652,9 ┆ english  ┆ 1,717,495 ┆ … ┆ 502       ┆ 13,426    ┆ 1,717,500 ┆ data/10.c │\n",
       "│ sv        ┆ 69        ┆          ┆ ,511      ┆   ┆           ┆           ┆ ,702      ┆ sv        │\n",
       "│ data/10.c ┆ 166,652,9 ┆ english  ┆ 1,717,495 ┆ … ┆ 0         ┆ 3,197     ┆ 1,714,457 ┆ data/10.c │\n",
       "│ sv        ┆ 33        ┆          ┆ ,460      ┆   ┆           ┆           ┆ ,233      ┆ sv        │\n",
       "│ data/10.c ┆ 137,537,6 ┆ english  ┆ 1,682,843 ┆ … ┆ 2         ┆ 10,173    ┆ 1,716,744 ┆ data/10.c │\n",
       "│ sv        ┆ 21        ┆          ┆ ,335      ┆   ┆           ┆           ┆ ,841      ┆ sv        │\n",
       "│ data/10.c ┆ 154,253,0 ┆ english  ┆ 1,703,375 ┆ … ┆ 92        ┆ 195       ┆ 1,717,478 ┆ data/10.c │\n",
       "│ sv        ┆ 89        ┆          ┆ ,726      ┆   ┆           ┆           ┆ ,564      ┆ sv        │\n",
       "│ …         ┆ …         ┆ …        ┆ …         ┆ … ┆ …         ┆ …         ┆ …         ┆ …         │\n",
       "│ data/10.c ┆ 30,564,24 ┆ english  ┆ 1,489,733 ┆ … ┆ 0         ┆ 7         ┆ 1,541,900 ┆ data/10.c │\n",
       "│ sv        ┆ 7         ┆          ┆ ,442      ┆   ┆           ┆           ┆ ,660      ┆ sv        │\n",
       "│ data/10.c ┆ 22,338,86 ┆ english  ┆ 1,460,293 ┆ … ┆ 0         ┆ 30,245    ┆ 1,690,362 ┆ data/10.c │\n",
       "│ sv        ┆ 5         ┆          ┆ ,069      ┆   ┆           ┆           ┆ ,335      ┆ sv        │\n",
       "│ data/10.c ┆ 15,043,11 ┆ english  ┆ 1,427,259 ┆ … ┆ 0         ┆ 4,661     ┆ 1,571,062 ┆ data/10.c │\n",
       "│ sv        ┆ 0         ┆          ┆ ,949      ┆   ┆           ┆           ┆ ,471      ┆ sv        │\n",
       "│ data/10.c ┆ 149,284,0 ┆ english  ┆ 1,698,800 ┆ … ┆ 2,694     ┆ 3,016     ┆ 1,698,892 ┆ data/10.c │\n",
       "│ sv        ┆ 37        ┆          ┆ ,321      ┆   ┆           ┆           ┆ ,194      ┆ sv        │\n",
       "│ data/10.c ┆ 1,092,034 ┆ english  ┆ 1,291,918 ┆ … ┆ 0         ┆ 116,910   ┆ 1,396,684 ┆ data/10.c │\n",
       "│ sv        ┆           ┆          ┆ ,689      ┆   ┆           ┆           ┆ ,983      ┆ sv        │\n",
       "└───────────┴───────────┴──────────┴───────────┴───┴───────────┴───────────┴───────────┴───────────┘"
      ]
     },
     "execution_count": 42,
     "metadata": {},
     "output_type": "execute_result"
    }
   ],
   "source": [
    "sql = \"\"\"SELECT filename, * FROM read_csv('data/10.csv', filename = true) WHERE language = 'english'\"\"\"\n",
    "my_polars_df = duckdb.sql(sql).pl()\n",
    "my_polars_df"
   ]
  },
  {
   "cell_type": "markdown",
   "id": "10d6df69-ae64-4ba9-af3c-652fea10dee3",
   "metadata": {},
   "source": [
    "Because DuckDB is both in-process, as well as Arrow-backed, it's able to easily interop with other analytical tools, such as `polars` and `pandas`"
   ]
  },
  {
   "cell_type": "code",
   "execution_count": 43,
   "id": "dde701d0-600a-4638-b148-738f7b1126a2",
   "metadata": {},
   "outputs": [
    {
     "data": {
      "text/html": [
       "<div><style>\n",
       ".dataframe > thead > tr,\n",
       ".dataframe > tbody > tr {\n",
       "  text-align: right;\n",
       "  white-space: pre-wrap;\n",
       "}\n",
       "</style>\n",
       "<small>shape: (2, 2)</small><table border=\"1\" class=\"dataframe\"><thead><tr><th>received_for_free</th><th>num_upvotes</th></tr><tr><td>bool</td><td>f64</td></tr></thead><tbody><tr><td>true</td><td>0.860875</td></tr><tr><td>false</td><td>1.384894</td></tr></tbody></table></div>"
      ],
      "text/plain": [
       "shape: (2, 2)\n",
       "┌───────────────────┬─────────────┐\n",
       "│ received_for_free ┆ num_upvotes │\n",
       "│ ---               ┆ ---         │\n",
       "│ bool              ┆ f64         │\n",
       "╞═══════════════════╪═════════════╡\n",
       "│ true              ┆ 0.860875    │\n",
       "│ false             ┆ 1.384894    │\n",
       "└───────────────────┴─────────────┘"
      ]
     },
     "execution_count": 43,
     "metadata": {},
     "output_type": "execute_result"
    }
   ],
   "source": [
    "sql = \"\"\"\n",
    "SELECT CAST(received_for_free as bool) as received_for_free, \n",
    "AVG(votes_up) as num_upvotes  \n",
    "FROM my_polars_df \n",
    "GROUP BY ALL\n",
    "\"\"\"\n",
    "duckdb.execute(sql).pl()"
   ]
  },
  {
   "cell_type": "markdown",
   "id": "43f3d158-02f7-49ec-af92-63a54e17e633",
   "metadata": {},
   "source": [
    "This works with Parquet as well, while supporting using the Parquet metadata to filter data, allowing us to process larger-than-RAM data easily"
   ]
  },
  {
   "cell_type": "code",
   "execution_count": 44,
   "id": "9bb9cc0c-29b1-4d95-83a8-41bea2123e42",
   "metadata": {},
   "outputs": [
    {
     "data": {
      "text/html": [
       "<div><style>\n",
       ".dataframe > thead > tr,\n",
       ".dataframe > tbody > tr {\n",
       "  text-align: right;\n",
       "  white-space: pre-wrap;\n",
       "}\n",
       "</style>\n",
       "<small>shape: (29, 2)</small><table border=\"1\" class=\"dataframe\"><thead><tr><th>language</th><th>num_languages</th></tr><tr><td>str</td><td>i64</td></tr></thead><tbody><tr><td>&quot;english&quot;</td><td>57,424,874</td></tr><tr><td>&quot;schinese&quot;</td><td>19,799,992</td></tr><tr><td>&quot;russian&quot;</td><td>15,069,437</td></tr><tr><td>&quot;spanish&quot;</td><td>5,461,393</td></tr><tr><td>&quot;brazilian&quot;</td><td>5,329,227</td></tr><tr><td>&hellip;</td><td>&hellip;</td></tr><tr><td>&quot;norwegian&quot;</td><td>180,191</td></tr><tr><td>&quot;greek&quot;</td><td>82,484</td></tr><tr><td>&quot;vietnamese&quot;</td><td>66,599</td></tr><tr><td>&quot;bulgarian&quot;</td><td>58,637</td></tr><tr><td>&quot;indonesian&quot;</td><td>6,158</td></tr></tbody></table></div>"
      ],
      "text/plain": [
       "shape: (29, 2)\n",
       "┌────────────┬───────────────┐\n",
       "│ language   ┆ num_languages │\n",
       "│ ---        ┆ ---           │\n",
       "│ str        ┆ i64           │\n",
       "╞════════════╪═══════════════╡\n",
       "│ english    ┆ 57,424,874    │\n",
       "│ schinese   ┆ 19,799,992    │\n",
       "│ russian    ┆ 15,069,437    │\n",
       "│ spanish    ┆ 5,461,393     │\n",
       "│ brazilian  ┆ 5,329,227     │\n",
       "│ …          ┆ …             │\n",
       "│ norwegian  ┆ 180,191       │\n",
       "│ greek      ┆ 82,484        │\n",
       "│ vietnamese ┆ 66,599        │\n",
       "│ bulgarian  ┆ 58,637        │\n",
       "│ indonesian ┆ 6,158         │\n",
       "└────────────┴───────────────┘"
      ]
     },
     "execution_count": 44,
     "metadata": {},
     "output_type": "execute_result"
    }
   ],
   "source": [
    "sql = \"\"\"\n",
    "SELECT language, count() as num_languages\n",
    "FROM 'data/parquet/all_reviews.parquet' \n",
    "GROUP BY ALL\n",
    "ORDER BY num_languages DESC\n",
    "\"\"\"\n",
    "duckdb.sql(sql).pl()"
   ]
  },
  {
   "cell_type": "markdown",
   "id": "428eff36-28a1-40ee-8343-45886c5ddf2e",
   "metadata": {},
   "source": [
    "## Reading remote data\n",
    "A killer feature is the nativeness of reading data from object stores directly, including common data lake formats such as Parquet. It can even query MySQL and Postgres!\n",
    "\n",
    "Duckdb comes with a built-in secrets manager to handle credentials for connecting to remote stores so lets set that up"
   ]
  },
  {
   "cell_type": "code",
   "execution_count": 45,
   "id": "2f15de14-0cd7-4ce9-bc67-d418761e859e",
   "metadata": {},
   "outputs": [],
   "source": [
    "duckdb.execute(\"\"\"CREATE OR REPLACE SECRET minio (\n",
    "    TYPE S3,\n",
    "    KEY_ID 'minio',\n",
    "    SECRET 'minio1234',\n",
    "    ENDPOINT 'minio:9000',\n",
    "    URL_STYLE 'path',\n",
    "    USE_SSL false,\n",
    "    REGION 'us-east-1'\n",
    ")\n",
    "\"\"\");"
   ]
  },
  {
   "cell_type": "markdown",
   "id": "d2b4d586-5f3a-4220-83e7-3469d5b259c6",
   "metadata": {},
   "source": [
    "Secrets can be stored persistently or in-memory - here we persist in-memory"
   ]
  },
  {
   "cell_type": "code",
   "execution_count": 46,
   "id": "5e92cd54-a3a3-4758-9ffa-35fd1e0f2628",
   "metadata": {},
   "outputs": [
    {
     "data": {
      "text/html": [
       "<div><style>\n",
       ".dataframe > thead > tr,\n",
       ".dataframe > tbody > tr {\n",
       "  text-align: right;\n",
       "  white-space: pre-wrap;\n",
       "}\n",
       "</style>\n",
       "<small>shape: (2, 7)</small><table border=\"1\" class=\"dataframe\"><thead><tr><th>name</th><th>type</th><th>provider</th><th>persistent</th><th>storage</th><th>scope</th><th>secret_string</th></tr><tr><td>str</td><td>str</td><td>str</td><td>bool</td><td>str</td><td>list[str]</td><td>str</td></tr></thead><tbody><tr><td>&quot;minio&quot;</td><td>&quot;s3&quot;</td><td>&quot;config&quot;</td><td>false</td><td>&quot;memory&quot;</td><td>[&quot;s3://&quot;,&nbsp;&quot;s3n://&quot;,&nbsp;&quot;s3a://&quot;]</td><td>&quot;name=minio;type=s3;provider=co…</td></tr><tr><td>&quot;pydata&quot;</td><td>&quot;s3&quot;</td><td>&quot;credential_chain&quot;</td><td>false</td><td>&quot;memory&quot;</td><td>[&quot;s3://pydata-copenhagen-datalake&quot;]</td><td>&quot;name=pydata;type=s3;provider=c…</td></tr></tbody></table></div>"
      ],
      "text/plain": [
       "shape: (2, 7)\n",
       "┌────────┬──────┬──────────────────┬────────────┬─────────┬────────────────────┬───────────────────┐\n",
       "│ name   ┆ type ┆ provider         ┆ persistent ┆ storage ┆ scope              ┆ secret_string     │\n",
       "│ ---    ┆ ---  ┆ ---              ┆ ---        ┆ ---     ┆ ---                ┆ ---               │\n",
       "│ str    ┆ str  ┆ str              ┆ bool       ┆ str     ┆ list[str]          ┆ str               │\n",
       "╞════════╪══════╪══════════════════╪════════════╪═════════╪════════════════════╪═══════════════════╡\n",
       "│ minio  ┆ s3   ┆ config           ┆ false      ┆ memory  ┆ [\"s3://\",          ┆ name=minio;type=s │\n",
       "│        ┆      ┆                  ┆            ┆         ┆ \"s3n://\",          ┆ 3;provider=co…    │\n",
       "│        ┆      ┆                  ┆            ┆         ┆ \"s3a://\"]          ┆                   │\n",
       "│ pydata ┆ s3   ┆ credential_chain ┆ false      ┆ memory  ┆ [\"s3://pydata-cope ┆ name=pydata;type= │\n",
       "│        ┆      ┆                  ┆            ┆         ┆ nhagen-datal…      ┆ s3;provider=c…    │\n",
       "└────────┴──────┴──────────────────┴────────────┴─────────┴────────────────────┴───────────────────┘"
      ]
     },
     "execution_count": 46,
     "metadata": {},
     "output_type": "execute_result"
    }
   ],
   "source": [
    "duckdb.execute(\"FROM duckdb_secrets()\").pl()"
   ]
  },
  {
   "cell_type": "markdown",
   "id": "a338182d-5c9a-41f3-8947-d7ae01440a99",
   "metadata": {},
   "source": [
    "With credentials in order, we can treat S3 as just another file location"
   ]
  },
  {
   "cell_type": "code",
   "execution_count": 47,
   "id": "59d147d0-1331-40fe-8298-765cb63bfde9",
   "metadata": {
    "scrolled": true
   },
   "outputs": [
    {
     "data": {
      "text/html": [
       "<div><style>\n",
       ".dataframe > thead > tr,\n",
       ".dataframe > tbody > tr {\n",
       "  text-align: right;\n",
       "  white-space: pre-wrap;\n",
       "}\n",
       "</style>\n",
       "<small>shape: (238_828, 21)</small><table border=\"1\" class=\"dataframe\"><thead><tr><th>recommendationid</th><th>language</th><th>timestamp_created</th><th>timestamp_updated</th><th>voted_up</th><th>votes_up</th><th>votes_funny</th><th>weighted_vote_score</th><th>comment_count</th><th>steam_purchase</th><th>received_for_free</th><th>written_during_early_access</th><th>hidden_in_steam_china</th><th>steam_china_location</th><th>author_steamid</th><th>author_num_games_owned</th><th>author_num_reviews</th><th>author_playtime_forever</th><th>author_playtime_last_two_weeks</th><th>author_playtime_at_review</th><th>author_last_played</th></tr><tr><td>i64</td><td>str</td><td>i64</td><td>i64</td><td>i64</td><td>i64</td><td>i64</td><td>f64</td><td>i64</td><td>i64</td><td>i64</td><td>i64</td><td>i64</td><td>str</td><td>i64</td><td>i64</td><td>i64</td><td>i64</td><td>i64</td><td>i64</td><td>i64</td></tr></thead><tbody><tr><td>147,937,429</td><td>&quot;english&quot;</td><td>1,696,875,102</td><td>1,717,510,986</td><td>1</td><td>3</td><td>0</td><td>0.5268</td><td>0</td><td>1</td><td>0</td><td>0</td><td>1</td><td>null</td><td>76,561,199,550,893,216</td><td>35</td><td>23</td><td>59,161</td><td>4,738</td><td>58,753</td><td>1,717,541,057</td></tr><tr><td>166,664,841</td><td>&quot;russian&quot;</td><td>1,717,510,100</td><td>1,717,510,100</td><td>1</td><td>0</td><td>0</td><td>0.0</td><td>0</td><td>1</td><td>0</td><td>0</td><td>1</td><td>null</td><td>76,561,199,161,536,896</td><td>24</td><td>11</td><td>436</td><td>71</td><td>385</td><td>1,717,512,997</td></tr><tr><td>166,664,763</td><td>&quot;russian&quot;</td><td>1,717,510,009</td><td>1,717,510,009</td><td>1</td><td>0</td><td>0</td><td>0.0</td><td>0</td><td>0</td><td>0</td><td>0</td><td>1</td><td>null</td><td>76,561,198,046,827,632</td><td>0</td><td>7</td><td>23,750</td><td>7</td><td>23,743</td><td>1,717,510,490</td></tr><tr><td>166,663,001</td><td>&quot;turkish&quot;</td><td>1,717,508,182</td><td>1,717,508,182</td><td>0</td><td>0</td><td>0</td><td>0.0</td><td>0</td><td>0</td><td>0</td><td>0</td><td>1</td><td>null</td><td>76,561,199,374,468,448</td><td>32</td><td>4</td><td>361</td><td>19</td><td>356</td><td>1,717,508,513</td></tr><tr><td>166,658,743</td><td>&quot;brazilian&quot;</td><td>1,717,503,385</td><td>1,717,503,385</td><td>1</td><td>1</td><td>0</td><td>0.52381</td><td>0</td><td>1</td><td>0</td><td>0</td><td>1</td><td>null</td><td>76,561,198,018,922,960</td><td>9</td><td>1</td><td>1,497</td><td>0</td><td>1,497</td><td>1,478,272,196</td></tr><tr><td>&hellip;</td><td>&hellip;</td><td>&hellip;</td><td>&hellip;</td><td>&hellip;</td><td>&hellip;</td><td>&hellip;</td><td>&hellip;</td><td>&hellip;</td><td>&hellip;</td><td>&hellip;</td><td>&hellip;</td><td>&hellip;</td><td>&hellip;</td><td>&hellip;</td><td>&hellip;</td><td>&hellip;</td><td>&hellip;</td><td>&hellip;</td><td>&hellip;</td><td>&hellip;</td></tr><tr><td>null</td><td>&quot;1351380029&quot;</td><td>1</td><td>0</td><td>0</td><td>0</td><td>0</td><td>1.0</td><td>0</td><td>0</td><td>0</td><td>null</td><td>76,561,198,008,269,840</td><td>&quot;0.0&quot;</td><td>2</td><td>95,521</td><td>0</td><td>37,952</td><td>1,547,225,350</td><td>null</td><td>null</td></tr><tr><td>149,330,962</td><td>&quot;russian&quot;</td><td>1,698,868,683</td><td>1,698,868,683</td><td>1</td><td>0</td><td>0</td><td>0.0</td><td>0</td><td>1</td><td>0</td><td>0</td><td>1</td><td>null</td><td>76,561,199,093,871,104</td><td>62</td><td>26</td><td>29</td><td>10</td><td>29</td><td>1,698,427,415</td></tr><tr><td>149,284,037</td><td>&quot;english&quot;</td><td>1,698,800,321</td><td>1,698,800,321</td><td>1</td><td>0</td><td>0</td><td>0.0</td><td>0</td><td>0</td><td>1</td><td>0</td><td>1</td><td>null</td><td>76,561,199,052,025,216</td><td>46</td><td>3</td><td>3,367</td><td>2,694</td><td>3,016</td><td>1,698,892,194</td></tr><tr><td>127,959,835</td><td>&quot;schinese&quot;</td><td>1,670,214,704</td><td>1,698,915,106</td><td>1</td><td>0</td><td>0</td><td>0.0</td><td>0</td><td>1</td><td>0</td><td>0</td><td>1</td><td>null</td><td>76,561,199,209,656,688</td><td>47</td><td>11</td><td>1,179</td><td>0</td><td>1,179</td><td>1,694,817,767</td></tr><tr><td>1,092,034</td><td>&quot;english&quot;</td><td>1,291,918,689</td><td>1,291,918,689</td><td>1</td><td>0</td><td>0</td><td>0.0</td><td>0</td><td>0</td><td>0</td><td>0</td><td>0</td><td>null</td><td>76,561,197,986,485,904</td><td>0</td><td>2</td><td>119,070</td><td>0</td><td>116,910</td><td>1,396,684,983</td></tr></tbody></table></div>"
      ],
      "text/plain": [
       "shape: (238_828, 21)\n",
       "┌───────────┬───────────┬───────────┬───────────┬───┬───────────┬───────────┬───────────┬──────────┐\n",
       "│ recommend ┆ language  ┆ timestamp ┆ timestamp ┆ … ┆ author_pl ┆ author_pl ┆ author_pl ┆ author_l │\n",
       "│ ationid   ┆ ---       ┆ _created  ┆ _updated  ┆   ┆ aytime_fo ┆ aytime_la ┆ aytime_at ┆ ast_play │\n",
       "│ ---       ┆ str       ┆ ---       ┆ ---       ┆   ┆ rever     ┆ st_two_we ┆ _review   ┆ ed       │\n",
       "│ i64       ┆           ┆ i64       ┆ i64       ┆   ┆ ---       ┆ eks       ┆ ---       ┆ ---      │\n",
       "│           ┆           ┆           ┆           ┆   ┆ i64       ┆ ---       ┆ i64       ┆ i64      │\n",
       "│           ┆           ┆           ┆           ┆   ┆           ┆ i64       ┆           ┆          │\n",
       "╞═══════════╪═══════════╪═══════════╪═══════════╪═══╪═══════════╪═══════════╪═══════════╪══════════╡\n",
       "│ 147,937,4 ┆ english   ┆ 1,696,875 ┆ 1,717,510 ┆ … ┆ 59,161    ┆ 4,738     ┆ 58,753    ┆ 1,717,54 │\n",
       "│ 29        ┆           ┆ ,102      ┆ ,986      ┆   ┆           ┆           ┆           ┆ 1,057    │\n",
       "│ 166,664,8 ┆ russian   ┆ 1,717,510 ┆ 1,717,510 ┆ … ┆ 436       ┆ 71        ┆ 385       ┆ 1,717,51 │\n",
       "│ 41        ┆           ┆ ,100      ┆ ,100      ┆   ┆           ┆           ┆           ┆ 2,997    │\n",
       "│ 166,664,7 ┆ russian   ┆ 1,717,510 ┆ 1,717,510 ┆ … ┆ 23,750    ┆ 7         ┆ 23,743    ┆ 1,717,51 │\n",
       "│ 63        ┆           ┆ ,009      ┆ ,009      ┆   ┆           ┆           ┆           ┆ 0,490    │\n",
       "│ 166,663,0 ┆ turkish   ┆ 1,717,508 ┆ 1,717,508 ┆ … ┆ 361       ┆ 19        ┆ 356       ┆ 1,717,50 │\n",
       "│ 01        ┆           ┆ ,182      ┆ ,182      ┆   ┆           ┆           ┆           ┆ 8,513    │\n",
       "│ 166,658,7 ┆ brazilian ┆ 1,717,503 ┆ 1,717,503 ┆ … ┆ 1,497     ┆ 0         ┆ 1,497     ┆ 1,478,27 │\n",
       "│ 43        ┆           ┆ ,385      ┆ ,385      ┆   ┆           ┆           ┆           ┆ 2,196    │\n",
       "│ …         ┆ …         ┆ …         ┆ …         ┆ … ┆ …         ┆ …         ┆ …         ┆ …        │\n",
       "│ null      ┆ 135138002 ┆ 1         ┆ 0         ┆ … ┆ 37,952    ┆ 1,547,225 ┆ null      ┆ null     │\n",
       "│           ┆ 9         ┆           ┆           ┆   ┆           ┆ ,350      ┆           ┆          │\n",
       "│ 149,330,9 ┆ russian   ┆ 1,698,868 ┆ 1,698,868 ┆ … ┆ 29        ┆ 10        ┆ 29        ┆ 1,698,42 │\n",
       "│ 62        ┆           ┆ ,683      ┆ ,683      ┆   ┆           ┆           ┆           ┆ 7,415    │\n",
       "│ 149,284,0 ┆ english   ┆ 1,698,800 ┆ 1,698,800 ┆ … ┆ 3,367     ┆ 2,694     ┆ 3,016     ┆ 1,698,89 │\n",
       "│ 37        ┆           ┆ ,321      ┆ ,321      ┆   ┆           ┆           ┆           ┆ 2,194    │\n",
       "│ 127,959,8 ┆ schinese  ┆ 1,670,214 ┆ 1,698,915 ┆ … ┆ 1,179     ┆ 0         ┆ 1,179     ┆ 1,694,81 │\n",
       "│ 35        ┆           ┆ ,704      ┆ ,106      ┆   ┆           ┆           ┆           ┆ 7,767    │\n",
       "│ 1,092,034 ┆ english   ┆ 1,291,918 ┆ 1,291,918 ┆ … ┆ 119,070   ┆ 0         ┆ 116,910   ┆ 1,396,68 │\n",
       "│           ┆           ┆ ,689      ┆ ,689      ┆   ┆           ┆           ┆           ┆ 4,983    │\n",
       "└───────────┴───────────┴───────────┴───────────┴───┴───────────┴───────────┴───────────┴──────────┘"
      ]
     },
     "execution_count": 47,
     "metadata": {},
     "output_type": "execute_result"
    }
   ],
   "source": [
    "sql = \"FROM 's3://datalake/extract/reviews/10.csv'\"\n",
    "\n",
    "duckdb.execute(sql).pl()"
   ]
  },
  {
   "cell_type": "markdown",
   "id": "af4ec412-7a89-4a9b-8104-566fb479c0ef",
   "metadata": {},
   "source": [
    "Since DuckDB can both read and write from remote locations in a number of file formats, it's a great swiss army knife for ETL - let's build a tiny pipeline to clean up the review data and convert to Parquet."
   ]
  },
  {
   "cell_type": "code",
   "execution_count": 48,
   "id": "e2589504-a4af-4b38-984c-8b586d35bd64",
   "metadata": {},
   "outputs": [],
   "source": [
    "sql = \"COPY (SELECT * FROM 's3://datalake/extract/reviews/10.csv' WHERE recommendationid is not null) TO 's3://datalake/extract/duckdb/10.parquet' (FORMAT PARQUET)\"\n",
    "duckdb.sql(sql)"
   ]
  },
  {
   "cell_type": "code",
   "execution_count": 49,
   "id": "777a6231-e6d4-45c4-b610-c4014108745a",
   "metadata": {},
   "outputs": [
    {
     "data": {
      "text/html": [
       "<div><style>\n",
       ".dataframe > thead > tr,\n",
       ".dataframe > tbody > tr {\n",
       "  text-align: right;\n",
       "  white-space: pre-wrap;\n",
       "}\n",
       "</style>\n",
       "<small>shape: (29, 2)</small><table border=\"1\" class=\"dataframe\"><thead><tr><th>language</th><th>num_languages</th></tr><tr><td>str</td><td>i64</td></tr></thead><tbody><tr><td>&quot;russian&quot;</td><td>73,425</td></tr><tr><td>&quot;english&quot;</td><td>56,543</td></tr><tr><td>&quot;spanish&quot;</td><td>28,800</td></tr><tr><td>&quot;brazilian&quot;</td><td>15,574</td></tr><tr><td>&quot;turkish&quot;</td><td>14,753</td></tr><tr><td>&hellip;</td><td>&hellip;</td></tr><tr><td>&quot;greek&quot;</td><td>168</td></tr><tr><td>&quot;norwegian&quot;</td><td>139</td></tr><tr><td>&quot;thai&quot;</td><td>118</td></tr><tr><td>&quot;vietnamese&quot;</td><td>50</td></tr><tr><td>&quot;indonesian&quot;</td><td>5</td></tr></tbody></table></div>"
      ],
      "text/plain": [
       "shape: (29, 2)\n",
       "┌────────────┬───────────────┐\n",
       "│ language   ┆ num_languages │\n",
       "│ ---        ┆ ---           │\n",
       "│ str        ┆ i64           │\n",
       "╞════════════╪═══════════════╡\n",
       "│ russian    ┆ 73,425        │\n",
       "│ english    ┆ 56,543        │\n",
       "│ spanish    ┆ 28,800        │\n",
       "│ brazilian  ┆ 15,574        │\n",
       "│ turkish    ┆ 14,753        │\n",
       "│ …          ┆ …             │\n",
       "│ greek      ┆ 168           │\n",
       "│ norwegian  ┆ 139           │\n",
       "│ thai       ┆ 118           │\n",
       "│ vietnamese ┆ 50            │\n",
       "│ indonesian ┆ 5             │\n",
       "└────────────┴───────────────┘"
      ]
     },
     "execution_count": 49,
     "metadata": {},
     "output_type": "execute_result"
    }
   ],
   "source": [
    "sql = \"SELECT language, COUNT() as num_languages FROM 's3://datalake/extract/duckdb/10.parquet' GROUP BY ALL ORDER BY num_languages DESC\"\n",
    "duckdb.sql(sql).pl()"
   ]
  },
  {
   "cell_type": "markdown",
   "id": "79434785-ce23-44f4-8d08-6b4d80f09ff6",
   "metadata": {},
   "source": [
    "DuckDB will intelligently use the S3 `Range` header to fetch only the data that is required from the Parquet file, unlike the CSV where we need to read the whole CSV file first"
   ]
  },
  {
   "cell_type": "code",
   "execution_count": 53,
   "id": "f7cb2a50-545c-4cd7-9801-a40075955910",
   "metadata": {},
   "outputs": [
    {
     "data": {
      "text/html": [
       "<div><style>\n",
       ".dataframe > thead > tr,\n",
       ".dataframe > tbody > tr {\n",
       "  text-align: right;\n",
       "  white-space: pre-wrap;\n",
       "}\n",
       "</style>\n",
       "<small>shape: (29, 2)</small><table border=\"1\" class=\"dataframe\"><thead><tr><th>language</th><th>num_rows</th></tr><tr><td>str</td><td>i64</td></tr></thead><tbody><tr><td>&quot;english&quot;</td><td>57,424,874</td></tr><tr><td>&quot;schinese&quot;</td><td>19,799,992</td></tr><tr><td>&quot;russian&quot;</td><td>15,069,437</td></tr><tr><td>&quot;spanish&quot;</td><td>5,461,393</td></tr><tr><td>&quot;brazilian&quot;</td><td>5,329,227</td></tr><tr><td>&hellip;</td><td>&hellip;</td></tr><tr><td>&quot;norwegian&quot;</td><td>180,191</td></tr><tr><td>&quot;greek&quot;</td><td>82,484</td></tr><tr><td>&quot;vietnamese&quot;</td><td>66,599</td></tr><tr><td>&quot;bulgarian&quot;</td><td>58,637</td></tr><tr><td>&quot;indonesian&quot;</td><td>6,158</td></tr></tbody></table></div>"
      ],
      "text/plain": [
       "shape: (29, 2)\n",
       "┌────────────┬────────────┐\n",
       "│ language   ┆ num_rows   │\n",
       "│ ---        ┆ ---        │\n",
       "│ str        ┆ i64        │\n",
       "╞════════════╪════════════╡\n",
       "│ english    ┆ 57,424,874 │\n",
       "│ schinese   ┆ 19,799,992 │\n",
       "│ russian    ┆ 15,069,437 │\n",
       "│ spanish    ┆ 5,461,393  │\n",
       "│ brazilian  ┆ 5,329,227  │\n",
       "│ …          ┆ …          │\n",
       "│ norwegian  ┆ 180,191    │\n",
       "│ greek      ┆ 82,484     │\n",
       "│ vietnamese ┆ 66,599     │\n",
       "│ bulgarian  ┆ 58,637     │\n",
       "│ indonesian ┆ 6,158      │\n",
       "└────────────┴────────────┘"
      ]
     },
     "execution_count": 53,
     "metadata": {},
     "output_type": "execute_result"
    }
   ],
   "source": [
    "sql = \"\"\"\n",
    "SELECT language, COUNT() as num_rows \n",
    "FROM 's3://datalake/extract/duckdb/all_reviews.parquet' \n",
    "GROUP BY ALL \n",
    "ORDER BY num_rows DESC\n",
    "\"\"\"\n",
    "duckdb.sql(sql).pl()"
   ]
  },
  {
   "cell_type": "markdown",
   "id": "89948829-9612-43f3-8b9e-dd5b85c3fec2",
   "metadata": {},
   "source": [
    "We can also parse multiple files using a glob - very handy for folders of data"
   ]
  },
  {
   "cell_type": "code",
   "execution_count": 12,
   "id": "a6228dd8-ee97-4354-b5e2-8d423c836c4f",
   "metadata": {},
   "outputs": [
    {
     "data": {
      "text/html": [
       "<div><style>\n",
       ".dataframe > thead > tr,\n",
       ".dataframe > tbody > tr {\n",
       "  text-align: right;\n",
       "  white-space: pre-wrap;\n",
       "}\n",
       "</style>\n",
       "<small>shape: (100, 22)</small><table border=\"1\" class=\"dataframe\"><thead><tr><th>game_id</th><th>recommendationid</th><th>language</th><th>timestamp_created</th><th>timestamp_updated</th><th>voted_up</th><th>votes_up</th><th>votes_funny</th><th>weighted_vote_score</th><th>comment_count</th><th>steam_purchase</th><th>received_for_free</th><th>written_during_early_access</th><th>hidden_in_steam_china</th><th>steam_china_location</th><th>author_steamid</th><th>author_num_games_owned</th><th>author_num_reviews</th><th>author_playtime_forever</th><th>author_playtime_last_two_weeks</th><th>author_playtime_at_review</th><th>author_last_played</th></tr><tr><td>str</td><td>i64</td><td>str</td><td>i64</td><td>i64</td><td>i64</td><td>i64</td><td>i64</td><td>f64</td><td>i64</td><td>i64</td><td>i64</td><td>i64</td><td>i64</td><td>str</td><td>i64</td><td>i64</td><td>i64</td><td>i64</td><td>i64</td><td>i64</td><td>i64</td></tr></thead><tbody><tr><td>&quot;10&quot;</td><td>147937429</td><td>&quot;english&quot;</td><td>1696875102</td><td>1717510986</td><td>1</td><td>3</td><td>0</td><td>0.5268</td><td>0</td><td>1</td><td>0</td><td>0</td><td>1</td><td>null</td><td>76561199550893216</td><td>35</td><td>23</td><td>59161</td><td>4738</td><td>58753</td><td>1717541057</td></tr><tr><td>&quot;10&quot;</td><td>166664841</td><td>&quot;russian&quot;</td><td>1717510100</td><td>1717510100</td><td>1</td><td>0</td><td>0</td><td>0.0</td><td>0</td><td>1</td><td>0</td><td>0</td><td>1</td><td>null</td><td>76561199161536896</td><td>24</td><td>11</td><td>436</td><td>71</td><td>385</td><td>1717512997</td></tr><tr><td>&quot;10&quot;</td><td>166664763</td><td>&quot;russian&quot;</td><td>1717510009</td><td>1717510009</td><td>1</td><td>0</td><td>0</td><td>0.0</td><td>0</td><td>0</td><td>0</td><td>0</td><td>1</td><td>null</td><td>76561198046827632</td><td>0</td><td>7</td><td>23750</td><td>7</td><td>23743</td><td>1717510490</td></tr><tr><td>&quot;10&quot;</td><td>166663001</td><td>&quot;turkish&quot;</td><td>1717508182</td><td>1717508182</td><td>0</td><td>0</td><td>0</td><td>0.0</td><td>0</td><td>0</td><td>0</td><td>0</td><td>1</td><td>null</td><td>76561199374468448</td><td>32</td><td>4</td><td>361</td><td>19</td><td>356</td><td>1717508513</td></tr><tr><td>&quot;10&quot;</td><td>166658743</td><td>&quot;brazilian&quot;</td><td>1717503385</td><td>1717503385</td><td>1</td><td>1</td><td>0</td><td>0.52381</td><td>0</td><td>1</td><td>0</td><td>0</td><td>1</td><td>null</td><td>76561198018922960</td><td>9</td><td>1</td><td>1497</td><td>0</td><td>1497</td><td>1478272196</td></tr><tr><td>&hellip;</td><td>&hellip;</td><td>&hellip;</td><td>&hellip;</td><td>&hellip;</td><td>&hellip;</td><td>&hellip;</td><td>&hellip;</td><td>&hellip;</td><td>&hellip;</td><td>&hellip;</td><td>&hellip;</td><td>&hellip;</td><td>&hellip;</td><td>&hellip;</td><td>&hellip;</td><td>&hellip;</td><td>&hellip;</td><td>&hellip;</td><td>&hellip;</td><td>&hellip;</td><td>&hellip;</td></tr><tr><td>&quot;10&quot;</td><td>166533117</td><td>&quot;polish&quot;</td><td>1717338208</td><td>1717338208</td><td>1</td><td>0</td><td>0</td><td>0.0</td><td>0</td><td>1</td><td>0</td><td>0</td><td>1</td><td>null</td><td>76561198193120528</td><td>60</td><td>8</td><td>43649</td><td>0</td><td>43649</td><td>1712682796</td></tr><tr><td>&quot;10&quot;</td><td>163650359</td><td>&quot;spanish&quot;</td><td>1714167060</td><td>1717333972</td><td>1</td><td>0</td><td>0</td><td>0.0</td><td>0</td><td>1</td><td>0</td><td>0</td><td>1</td><td>null</td><td>76561199226138608</td><td>39</td><td>21</td><td>2712</td><td>1839</td><td>1922</td><td>1717506042</td></tr><tr><td>&quot;10&quot;</td><td>166525327</td><td>&quot;romanian&quot;</td><td>1717329933</td><td>1717329933</td><td>1</td><td>0</td><td>0</td><td>0.0</td><td>0</td><td>1</td><td>0</td><td>0</td><td>1</td><td>null</td><td>76561199491549024</td><td>10</td><td>1</td><td>951</td><td>349</td><td>804</td><td>1717480813</td></tr><tr><td>&quot;10&quot;</td><td>166524383</td><td>&quot;russian&quot;</td><td>1717328789</td><td>1717328789</td><td>1</td><td>0</td><td>0</td><td>0.0</td><td>0</td><td>1</td><td>0</td><td>0</td><td>1</td><td>null</td><td>76561199098111520</td><td>0</td><td>1</td><td>5398</td><td>1884</td><td>4926</td><td>1717498719</td></tr><tr><td>&quot;10&quot;</td><td>114755187</td><td>&quot;spanish&quot;</td><td>1651374058</td><td>1717328561</td><td>1</td><td>0</td><td>0</td><td>0.0</td><td>0</td><td>0</td><td>0</td><td>0</td><td>0</td><td>null</td><td>76561199108290304</td><td>48</td><td>5</td><td>120097</td><td>1541</td><td>119998</td><td>1717459317</td></tr></tbody></table></div>"
      ],
      "text/plain": [
       "shape: (100, 22)\n",
       "┌─────────┬────────────┬───────────┬───────────┬───┬───────────┬───────────┬───────────┬───────────┐\n",
       "│ game_id ┆ recommenda ┆ language  ┆ timestamp ┆ … ┆ author_pl ┆ author_pl ┆ author_pl ┆ author_la │\n",
       "│ ---     ┆ tionid     ┆ ---       ┆ _created  ┆   ┆ aytime_fo ┆ aytime_la ┆ aytime_at ┆ st_played │\n",
       "│ str     ┆ ---        ┆ str       ┆ ---       ┆   ┆ rever     ┆ st_two_we ┆ _review   ┆ ---       │\n",
       "│         ┆ i64        ┆           ┆ i64       ┆   ┆ ---       ┆ eks       ┆ ---       ┆ i64       │\n",
       "│         ┆            ┆           ┆           ┆   ┆ i64       ┆ ---       ┆ i64       ┆           │\n",
       "│         ┆            ┆           ┆           ┆   ┆           ┆ i64       ┆           ┆           │\n",
       "╞═════════╪════════════╪═══════════╪═══════════╪═══╪═══════════╪═══════════╪═══════════╪═══════════╡\n",
       "│ 10      ┆ 147937429  ┆ english   ┆ 169687510 ┆ … ┆ 59161     ┆ 4738      ┆ 58753     ┆ 171754105 │\n",
       "│         ┆            ┆           ┆ 2         ┆   ┆           ┆           ┆           ┆ 7         │\n",
       "│ 10      ┆ 166664841  ┆ russian   ┆ 171751010 ┆ … ┆ 436       ┆ 71        ┆ 385       ┆ 171751299 │\n",
       "│         ┆            ┆           ┆ 0         ┆   ┆           ┆           ┆           ┆ 7         │\n",
       "│ 10      ┆ 166664763  ┆ russian   ┆ 171751000 ┆ … ┆ 23750     ┆ 7         ┆ 23743     ┆ 171751049 │\n",
       "│         ┆            ┆           ┆ 9         ┆   ┆           ┆           ┆           ┆ 0         │\n",
       "│ 10      ┆ 166663001  ┆ turkish   ┆ 171750818 ┆ … ┆ 361       ┆ 19        ┆ 356       ┆ 171750851 │\n",
       "│         ┆            ┆           ┆ 2         ┆   ┆           ┆           ┆           ┆ 3         │\n",
       "│ 10      ┆ 166658743  ┆ brazilian ┆ 171750338 ┆ … ┆ 1497      ┆ 0         ┆ 1497      ┆ 147827219 │\n",
       "│         ┆            ┆           ┆ 5         ┆   ┆           ┆           ┆           ┆ 6         │\n",
       "│ …       ┆ …          ┆ …         ┆ …         ┆ … ┆ …         ┆ …         ┆ …         ┆ …         │\n",
       "│ 10      ┆ 166533117  ┆ polish    ┆ 171733820 ┆ … ┆ 43649     ┆ 0         ┆ 43649     ┆ 171268279 │\n",
       "│         ┆            ┆           ┆ 8         ┆   ┆           ┆           ┆           ┆ 6         │\n",
       "│ 10      ┆ 163650359  ┆ spanish   ┆ 171416706 ┆ … ┆ 2712      ┆ 1839      ┆ 1922      ┆ 171750604 │\n",
       "│         ┆            ┆           ┆ 0         ┆   ┆           ┆           ┆           ┆ 2         │\n",
       "│ 10      ┆ 166525327  ┆ romanian  ┆ 171732993 ┆ … ┆ 951       ┆ 349       ┆ 804       ┆ 171748081 │\n",
       "│         ┆            ┆           ┆ 3         ┆   ┆           ┆           ┆           ┆ 3         │\n",
       "│ 10      ┆ 166524383  ┆ russian   ┆ 171732878 ┆ … ┆ 5398      ┆ 1884      ┆ 4926      ┆ 171749871 │\n",
       "│         ┆            ┆           ┆ 9         ┆   ┆           ┆           ┆           ┆ 9         │\n",
       "│ 10      ┆ 114755187  ┆ spanish   ┆ 165137405 ┆ … ┆ 120097    ┆ 1541      ┆ 119998    ┆ 171745931 │\n",
       "│         ┆            ┆           ┆ 8         ┆   ┆           ┆           ┆           ┆ 7         │\n",
       "└─────────┴────────────┴───────────┴───────────┴───┴───────────┴───────────┴───────────┴───────────┘"
      ]
     },
     "execution_count": 12,
     "metadata": {},
     "output_type": "execute_result"
    }
   ],
   "source": [
    "sql = \"\"\"\n",
    "SELECT filename.parse_filename(true) as game_id, * EXCLUDE filename\n",
    "FROM read_csv('s3://datalake/extract/reviews/*.csv', filename = true)\n",
    "WHERE recommendationid is not null\n",
    "LIMIT 100\n",
    "\"\"\"\n",
    "duckdb.execute(sql).pl()"
   ]
  },
  {
   "cell_type": "markdown",
   "id": "05737541-f7f5-4284-a37c-6435d05b3b3d",
   "metadata": {},
   "source": [
    "### Iceberg\n",
    "Can we do this with Iceberg? Of course! Let's use the AWS data from before to show off a more common usecase. "
   ]
  },
  {
   "cell_type": "code",
   "execution_count": 13,
   "id": "a1f9c40f-fd0d-4311-be6b-67dc99a1dec6",
   "metadata": {},
   "outputs": [
    {
     "data": {
      "text/plain": [
       "┌─────────┐\n",
       "│ Success │\n",
       "│ boolean │\n",
       "├─────────┤\n",
       "│ true    │\n",
       "└─────────┘"
      ]
     },
     "execution_count": 13,
     "metadata": {},
     "output_type": "execute_result"
    }
   ],
   "source": [
    "sql = \"\"\"CREATE OR REPLACE SECRET pydata (\n",
    "    TYPE S3,\n",
    "    PROVIDER CREDENTIAL_CHAIN,\n",
    "    SCOPE 's3://pydata-copenhagen-datalake'\n",
    ")\n",
    "\"\"\"\n",
    "duckdb.sql(sql)"
   ]
  },
  {
   "cell_type": "markdown",
   "id": "b46d7f07-3375-4c66-8b6b-9e191f122595",
   "metadata": {},
   "source": [
    "DuckDB needs to know what Metadata file is the most current one, so we can use our Iceberg Catalog to get that information"
   ]
  },
  {
   "cell_type": "code",
   "execution_count": 14,
   "id": "58b41953-1141-40d7-93fe-ffba1921afb2",
   "metadata": {},
   "outputs": [],
   "source": [
    "from pyiceberg.catalog import load_catalog"
   ]
  },
  {
   "cell_type": "code",
   "execution_count": 15,
   "id": "7872e9a8-ebac-4163-8718-dc0b1b834bd3",
   "metadata": {},
   "outputs": [],
   "source": [
    "catalog = load_catalog(\"aws_iceberg\", **{\"type\": \"glue\", \"glue.region\": \"eu-north-1\"})"
   ]
  },
  {
   "cell_type": "code",
   "execution_count": 16,
   "id": "e3304569-3b48-4575-a5ea-fdd11ddb7d6c",
   "metadata": {},
   "outputs": [],
   "source": [
    "table = catalog.load_table(\"steam.reviews\")"
   ]
  },
  {
   "cell_type": "code",
   "execution_count": 17,
   "id": "fd5c1c84-7a1e-47b4-92a3-3a2ca31ee807",
   "metadata": {},
   "outputs": [
    {
     "data": {
      "text/plain": [
       "'s3://pydata-copenhagen-datalake/staging/reviews/metadata/00000-4f5fb7d0-8833-4b0e-8db6-0a5ad986fb2d.metadata.json'"
      ]
     },
     "execution_count": 17,
     "metadata": {},
     "output_type": "execute_result"
    }
   ],
   "source": [
    "table.metadata_location"
   ]
  },
  {
   "cell_type": "markdown",
   "id": "13f02db7-a0d7-493a-9260-effedc7aefd7",
   "metadata": {},
   "source": [
    "DuckDB is extendible via `extensions`. We have actually been using the `httpfs` extension to talk to S3, but that one is auto-loaded when used since it's a common one to use. The Iceberg extension needs to be explicitly installed and loaded"
   ]
  },
  {
   "cell_type": "code",
   "execution_count": 18,
   "id": "cbbc1dbe-313a-4db1-9307-0e45cb323844",
   "metadata": {},
   "outputs": [],
   "source": [
    "duckdb.install_extension('iceberg')\n",
    "duckdb.load_extension('iceberg')"
   ]
  },
  {
   "cell_type": "code",
   "execution_count": 54,
   "id": "7520659d-baff-4722-a53f-27a591a96175",
   "metadata": {},
   "outputs": [],
   "source": [
    "sql = f\"SELECT COUNT() as num_reviews FROM iceberg_scan('{table.metadata_location}')\""
   ]
  },
  {
   "cell_type": "code",
   "execution_count": 57,
   "id": "5cac4ea3-329e-400a-9272-7ef5f2025925",
   "metadata": {},
   "outputs": [
    {
     "data": {
      "text/html": [
       "<div><style>\n",
       ".dataframe > thead > tr,\n",
       ".dataframe > tbody > tr {\n",
       "  text-align: right;\n",
       "  white-space: pre-wrap;\n",
       "}\n",
       "</style>\n",
       "<small>shape: (1, 1)</small><table border=\"1\" class=\"dataframe\"><thead><tr><th>num_reviews</th></tr><tr><td>i64</td></tr></thead><tbody><tr><td>127,572,734</td></tr></tbody></table></div>"
      ],
      "text/plain": [
       "shape: (1, 1)\n",
       "┌─────────────┐\n",
       "│ num_reviews │\n",
       "│ ---         │\n",
       "│ i64         │\n",
       "╞═════════════╡\n",
       "│ 127,572,734 │\n",
       "└─────────────┘"
      ]
     },
     "execution_count": 57,
     "metadata": {},
     "output_type": "execute_result"
    }
   ],
   "source": [
    "duckdb.sql(sql).pl()"
   ]
  },
  {
   "cell_type": "markdown",
   "id": "f72eedea-6d83-459c-9151-ab5184e59c0e",
   "metadata": {},
   "source": [
    "### Taking it up a notch\n",
    "Let's do something slightly more complicated - finding what language a given game_id has the most reviews in. We will also combine local and external data by fetching a mapping of game_id to name from the Steam API"
   ]
  },
  {
   "cell_type": "code",
   "execution_count": 103,
   "id": "372a2083-6cdd-45e7-ae2a-4c87bcb13451",
   "metadata": {},
   "outputs": [],
   "source": [
    "sql = \"CREATE TABLE apps as (SELECT unnest(applist.apps, recursive := true) FROM read_json('https://api.steampowered.com/ISteamApps/GetAppList/v2'))\"\n",
    "duckdb.sql(sql)"
   ]
  },
  {
   "cell_type": "code",
   "execution_count": 109,
   "id": "bcef2a6d-a959-449b-b57b-f6c2dca3a538",
   "metadata": {},
   "outputs": [
    {
     "data": {
      "application/vnd.jupyter.widget-view+json": {
       "model_id": "3554f719284f499f8685d4a294911854",
       "version_major": 2,
       "version_minor": 0
      },
      "text/plain": [
       "FloatProgress(value=0.0, layout=Layout(width='auto'), style=ProgressStyle(bar_color='black'))"
      ]
     },
     "metadata": {},
     "output_type": "display_data"
    },
    {
     "data": {
      "text/html": [
       "<div><style>\n",
       ".dataframe > thead > tr,\n",
       ".dataframe > tbody > tr {\n",
       "  text-align: right;\n",
       "  white-space: pre-wrap;\n",
       "}\n",
       "</style>\n",
       "<small>shape: (79_193, 3)</small><table border=\"1\" class=\"dataframe\"><thead><tr><th>name</th><th>language</th><th>num_reviews</th></tr><tr><td>str</td><td>str</td><td>i64</td></tr></thead><tbody><tr><td>&quot;Counter-Strike&nbsp;2&quot;</td><td>&quot;english&quot;</td><td>2,102,886</td></tr><tr><td>&quot;PUBG:&nbsp;BATTLEGROUNDS&quot;</td><td>&quot;schinese&quot;</td><td>1,166,691</td></tr><tr><td>&quot;Dota&nbsp;2&quot;</td><td>&quot;russian&quot;</td><td>1,050,547</td></tr><tr><td>&quot;Team&nbsp;Fortress&nbsp;2&quot;</td><td>&quot;english&quot;</td><td>670,174</td></tr><tr><td>&quot;Terraria&quot;</td><td>&quot;english&quot;</td><td>642,661</td></tr><tr><td>&hellip;</td><td>&hellip;</td><td>&hellip;</td></tr><tr><td>&quot;Atlas&nbsp;Tile&nbsp;Editor&nbsp;(ATE)&quot;</td><td>&quot;english&quot;</td><td>1</td></tr><tr><td>&quot;Radio&nbsp;Violence&quot;</td><td>&quot;english&quot;</td><td>1</td></tr><tr><td>&quot;Kill&nbsp;The&nbsp;Monster&quot;</td><td>&quot;schinese&quot;</td><td>1</td></tr><tr><td>&quot;Food&nbsp;Bomber&quot;</td><td>&quot;koreana&quot;</td><td>1</td></tr><tr><td>&quot;Super&nbsp;Darts&nbsp;VR&quot;</td><td>&quot;koreana&quot;</td><td>1</td></tr></tbody></table></div>"
      ],
      "text/plain": [
       "shape: (79_193, 3)\n",
       "┌─────────────────────────┬──────────┬─────────────┐\n",
       "│ name                    ┆ language ┆ num_reviews │\n",
       "│ ---                     ┆ ---      ┆ ---         │\n",
       "│ str                     ┆ str      ┆ i64         │\n",
       "╞═════════════════════════╪══════════╪═════════════╡\n",
       "│ Counter-Strike 2        ┆ english  ┆ 2,102,886   │\n",
       "│ PUBG: BATTLEGROUNDS     ┆ schinese ┆ 1,166,691   │\n",
       "│ Dota 2                  ┆ russian  ┆ 1,050,547   │\n",
       "│ Team Fortress 2         ┆ english  ┆ 670,174     │\n",
       "│ Terraria                ┆ english  ┆ 642,661     │\n",
       "│ …                       ┆ …        ┆ …           │\n",
       "│ Atlas Tile Editor (ATE) ┆ english  ┆ 1           │\n",
       "│ Radio Violence          ┆ english  ┆ 1           │\n",
       "│ Kill The Monster        ┆ schinese ┆ 1           │\n",
       "│ Food Bomber             ┆ koreana  ┆ 1           │\n",
       "│ Super Darts VR          ┆ koreana  ┆ 1           │\n",
       "└─────────────────────────┴──────────┴─────────────┘"
      ]
     },
     "execution_count": 109,
     "metadata": {},
     "output_type": "execute_result"
    }
   ],
   "source": [
    "sql = f\"\"\"\n",
    "with ranked_reviews as (\n",
    "SELECT \n",
    "    game_id, \n",
    "    language, \n",
    "    count() as num_reviews,\n",
    "    row_number() OVER (PARTITION BY game_id ORDER BY num_reviews DESC) as rank\n",
    "    FROM iceberg_scan('{table.metadata_location}')\n",
    "    GROUP BY game_id, language\n",
    "    QUALIFY\n",
    "        rank = 1\n",
    ")\n",
    "SELECT \n",
    "apps.name, \n",
    "language, \n",
    "num_reviews \n",
    "FROM ranked_reviews\n",
    "JOIN apps on ranked_reviews.game_id = apps.appid\n",
    "ORDER BY num_reviews DESC\n",
    "\"\"\"\n",
    "duckdb.sql(sql).pl()"
   ]
  },
  {
   "cell_type": "markdown",
   "id": "42bc4cb5-9fb2-4280-be3d-98e21b81d532",
   "metadata": {},
   "source": [
    "This is such a common pattern, that pyiceberg by default has a `to_duckdb` method. Note, that this will download the data locally to work with in memory, so we would no longer be pushing queries to the storage backend - large datasets need to be filtered first."
   ]
  },
  {
   "cell_type": "code",
   "execution_count": null,
   "id": "26adb194-8e66-4ab9-b84b-907098ac7e10",
   "metadata": {},
   "outputs": [],
   "source": [
    "db = table.scan(selected_fields=[\"language\"]).to_duckdb(table_name='languages')"
   ]
  },
  {
   "cell_type": "code",
   "execution_count": 24,
   "id": "2e9a0f51-b577-4638-9908-c7c00d3529f4",
   "metadata": {},
   "outputs": [
    {
     "data": {
      "text/html": [
       "<div><style>\n",
       ".dataframe > thead > tr,\n",
       ".dataframe > tbody > tr {\n",
       "  text-align: right;\n",
       "  white-space: pre-wrap;\n",
       "}\n",
       "</style>\n",
       "<small>shape: (29, 2)</small><table border=\"1\" class=\"dataframe\"><thead><tr><th>language</th><th>num_languages</th></tr><tr><td>str</td><td>i64</td></tr></thead><tbody><tr><td>&quot;english&quot;</td><td>57424874</td></tr><tr><td>&quot;schinese&quot;</td><td>19799992</td></tr><tr><td>&quot;russian&quot;</td><td>15069437</td></tr><tr><td>&quot;spanish&quot;</td><td>5461393</td></tr><tr><td>&quot;brazilian&quot;</td><td>5329227</td></tr><tr><td>&hellip;</td><td>&hellip;</td></tr><tr><td>&quot;norwegian&quot;</td><td>180191</td></tr><tr><td>&quot;greek&quot;</td><td>82484</td></tr><tr><td>&quot;vietnamese&quot;</td><td>66599</td></tr><tr><td>&quot;bulgarian&quot;</td><td>58637</td></tr><tr><td>&quot;indonesian&quot;</td><td>6158</td></tr></tbody></table></div>"
      ],
      "text/plain": [
       "shape: (29, 2)\n",
       "┌────────────┬───────────────┐\n",
       "│ language   ┆ num_languages │\n",
       "│ ---        ┆ ---           │\n",
       "│ str        ┆ i64           │\n",
       "╞════════════╪═══════════════╡\n",
       "│ english    ┆ 57424874      │\n",
       "│ schinese   ┆ 19799992      │\n",
       "│ russian    ┆ 15069437      │\n",
       "│ spanish    ┆ 5461393       │\n",
       "│ brazilian  ┆ 5329227       │\n",
       "│ …          ┆ …             │\n",
       "│ norwegian  ┆ 180191        │\n",
       "│ greek      ┆ 82484         │\n",
       "│ vietnamese ┆ 66599         │\n",
       "│ bulgarian  ┆ 58637         │\n",
       "│ indonesian ┆ 6158          │\n",
       "└────────────┴───────────────┘"
      ]
     },
     "execution_count": 24,
     "metadata": {},
     "output_type": "execute_result"
    }
   ],
   "source": [
    "db.sql(\"\"\"\n",
    "SELECT language, count() as num_languages \n",
    "FROM languages \n",
    "GROUP BY ALL\n",
    "ORDER BY num_languages DESC\"\"\").pl()"
   ]
  },
  {
   "cell_type": "code",
   "execution_count": null,
   "id": "e847a8be-8fbd-4be1-b1f5-f5d972d140fc",
   "metadata": {},
   "outputs": [],
   "source": []
  }
 ],
 "metadata": {
  "kernelspec": {
   "display_name": "Python 3 (ipykernel)",
   "language": "python",
   "name": "python3"
  },
  "language_info": {
   "codemirror_mode": {
    "name": "ipython",
    "version": 3
   },
   "file_extension": ".py",
   "mimetype": "text/x-python",
   "name": "python",
   "nbconvert_exporter": "python",
   "pygments_lexer": "ipython3",
   "version": "3.12.7"
  }
 },
 "nbformat": 4,
 "nbformat_minor": 5
}
