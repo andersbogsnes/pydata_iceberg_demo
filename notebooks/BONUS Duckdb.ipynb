{
 "cells": [
  {
   "cell_type": "markdown",
   "id": "28216506-88b3-4a67-a919-edcb56118425",
   "metadata": {},
   "source": [
    "# BONUS: Duckdb\n",
    "\n",
    "![DuckDB Logo](images/logos/DuckDB_Logo.png)\n",
    "\n",
    "DuckDB is the new black in data engineering - an in-process analytical database that aims for performance. DuckDB is focused on making it easy to query data from anywhere and has bindings to most popular languages, including Python of course. It even compiles to WASM, letting us do cool stuff like [this](https://shell.duckdb.org/)\n",
    "\n",
    "DuckDB takes advantage of Arrow as it's internal data format, making it easy to interop with popular Python libraries as DuckDB can read and write the Arrow memory directly"
   ]
  },
  {
   "cell_type": "code",
   "execution_count": 1,
   "id": "e66e6c8c-6870-40f1-bb3c-a26e4ec22e87",
   "metadata": {},
   "outputs": [],
   "source": [
    "import duckdb"
   ]
  },
  {
   "cell_type": "code",
   "execution_count": 2,
   "id": "75edf689-b3d1-4488-bf1d-1c80fb881cba",
   "metadata": {},
   "outputs": [
    {
     "data": {
      "text/html": [
       "<div><style>\n",
       ".dataframe > thead > tr,\n",
       ".dataframe > tbody > tr {\n",
       "  text-align: right;\n",
       "  white-space: pre-wrap;\n",
       "}\n",
       "</style>\n",
       "<small>shape: (56_543, 21)</small><table border=\"1\" class=\"dataframe\"><thead><tr><th>recommendationid</th><th>language</th><th>timestamp_created</th><th>timestamp_updated</th><th>voted_up</th><th>votes_up</th><th>votes_funny</th><th>weighted_vote_score</th><th>comment_count</th><th>steam_purchase</th><th>received_for_free</th><th>written_during_early_access</th><th>hidden_in_steam_china</th><th>steam_china_location</th><th>author_steamid</th><th>author_num_games_owned</th><th>author_num_reviews</th><th>author_playtime_forever</th><th>author_playtime_last_two_weeks</th><th>author_playtime_at_review</th><th>author_last_played</th></tr><tr><td>i64</td><td>str</td><td>i64</td><td>i64</td><td>i64</td><td>i64</td><td>i64</td><td>f64</td><td>i64</td><td>i64</td><td>i64</td><td>i64</td><td>i64</td><td>str</td><td>i64</td><td>i64</td><td>i64</td><td>i64</td><td>i64</td><td>i64</td><td>i64</td></tr></thead><tbody><tr><td>147937429</td><td>&quot;english&quot;</td><td>1696875102</td><td>1717510986</td><td>1</td><td>3</td><td>0</td><td>0.5268</td><td>0</td><td>1</td><td>0</td><td>0</td><td>1</td><td>null</td><td>76561199550893216</td><td>35</td><td>23</td><td>59161</td><td>4738</td><td>58753</td><td>1717541057</td></tr><tr><td>166652969</td><td>&quot;english&quot;</td><td>1717495511</td><td>1717495511</td><td>1</td><td>0</td><td>0</td><td>0.0</td><td>0</td><td>1</td><td>0</td><td>0</td><td>1</td><td>null</td><td>76561199025372592</td><td>10</td><td>2</td><td>13452</td><td>502</td><td>13426</td><td>1717500702</td></tr><tr><td>166652933</td><td>&quot;english&quot;</td><td>1717495460</td><td>1717538865</td><td>1</td><td>1</td><td>0</td><td>0.517767</td><td>0</td><td>1</td><td>0</td><td>0</td><td>1</td><td>null</td><td>76561197975930688</td><td>436</td><td>180</td><td>3197</td><td>0</td><td>3197</td><td>1714457233</td></tr><tr><td>137537621</td><td>&quot;english&quot;</td><td>1682843335</td><td>1717481847</td><td>1</td><td>0</td><td>0</td><td>0.0</td><td>0</td><td>0</td><td>0</td><td>0</td><td>1</td><td>null</td><td>76561199148051920</td><td>43</td><td>6</td><td>10173</td><td>2</td><td>10173</td><td>1716744841</td></tr><tr><td>154253089</td><td>&quot;english&quot;</td><td>1703375726</td><td>1717478605</td><td>1</td><td>0</td><td>0</td><td>0.0</td><td>0</td><td>1</td><td>0</td><td>0</td><td>1</td><td>null</td><td>76561199179558352</td><td>50</td><td>25</td><td>195</td><td>92</td><td>195</td><td>1717478564</td></tr><tr><td>&hellip;</td><td>&hellip;</td><td>&hellip;</td><td>&hellip;</td><td>&hellip;</td><td>&hellip;</td><td>&hellip;</td><td>&hellip;</td><td>&hellip;</td><td>&hellip;</td><td>&hellip;</td><td>&hellip;</td><td>&hellip;</td><td>&hellip;</td><td>&hellip;</td><td>&hellip;</td><td>&hellip;</td><td>&hellip;</td><td>&hellip;</td><td>&hellip;</td><td>&hellip;</td></tr><tr><td>30564247</td><td>&quot;english&quot;</td><td>1489733442</td><td>1574109131</td><td>1</td><td>0</td><td>1</td><td>0.41404</td><td>0</td><td>0</td><td>0</td><td>0</td><td>0</td><td>null</td><td>76561198095892208</td><td>811</td><td>72</td><td>11</td><td>0</td><td>7</td><td>1541900660</td></tr><tr><td>22338865</td><td>&quot;english&quot;</td><td>1460293069</td><td>1460293069</td><td>1</td><td>1</td><td>1</td><td>0.502488</td><td>0</td><td>0</td><td>0</td><td>0</td><td>0</td><td>null</td><td>76561198149865296</td><td>18</td><td>1</td><td>113891</td><td>0</td><td>30245</td><td>1690362335</td></tr><tr><td>15043110</td><td>&quot;english&quot;</td><td>1427259949</td><td>1571474648</td><td>1</td><td>0</td><td>0</td><td>0.0</td><td>0</td><td>0</td><td>0</td><td>0</td><td>0</td><td>null</td><td>76561198072567552</td><td>38</td><td>34</td><td>7302</td><td>0</td><td>4661</td><td>1571062471</td></tr><tr><td>149284037</td><td>&quot;english&quot;</td><td>1698800321</td><td>1698800321</td><td>1</td><td>0</td><td>0</td><td>0.0</td><td>0</td><td>0</td><td>1</td><td>0</td><td>1</td><td>null</td><td>76561199052025216</td><td>46</td><td>3</td><td>3367</td><td>2694</td><td>3016</td><td>1698892194</td></tr><tr><td>1092034</td><td>&quot;english&quot;</td><td>1291918689</td><td>1291918689</td><td>1</td><td>0</td><td>0</td><td>0.0</td><td>0</td><td>0</td><td>0</td><td>0</td><td>0</td><td>null</td><td>76561197986485904</td><td>0</td><td>2</td><td>119070</td><td>0</td><td>116910</td><td>1396684983</td></tr></tbody></table></div>"
      ],
      "text/plain": [
       "shape: (56_543, 21)\n",
       "┌───────────┬──────────┬───────────┬───────────┬───┬───────────┬───────────┬───────────┬───────────┐\n",
       "│ recommend ┆ language ┆ timestamp ┆ timestamp ┆ … ┆ author_pl ┆ author_pl ┆ author_pl ┆ author_la │\n",
       "│ ationid   ┆ ---      ┆ _created  ┆ _updated  ┆   ┆ aytime_fo ┆ aytime_la ┆ aytime_at ┆ st_played │\n",
       "│ ---       ┆ str      ┆ ---       ┆ ---       ┆   ┆ rever     ┆ st_two_we ┆ _review   ┆ ---       │\n",
       "│ i64       ┆          ┆ i64       ┆ i64       ┆   ┆ ---       ┆ eks       ┆ ---       ┆ i64       │\n",
       "│           ┆          ┆           ┆           ┆   ┆ i64       ┆ ---       ┆ i64       ┆           │\n",
       "│           ┆          ┆           ┆           ┆   ┆           ┆ i64       ┆           ┆           │\n",
       "╞═══════════╪══════════╪═══════════╪═══════════╪═══╪═══════════╪═══════════╪═══════════╪═══════════╡\n",
       "│ 147937429 ┆ english  ┆ 169687510 ┆ 171751098 ┆ … ┆ 59161     ┆ 4738      ┆ 58753     ┆ 171754105 │\n",
       "│           ┆          ┆ 2         ┆ 6         ┆   ┆           ┆           ┆           ┆ 7         │\n",
       "│ 166652969 ┆ english  ┆ 171749551 ┆ 171749551 ┆ … ┆ 13452     ┆ 502       ┆ 13426     ┆ 171750070 │\n",
       "│           ┆          ┆ 1         ┆ 1         ┆   ┆           ┆           ┆           ┆ 2         │\n",
       "│ 166652933 ┆ english  ┆ 171749546 ┆ 171753886 ┆ … ┆ 3197      ┆ 0         ┆ 3197      ┆ 171445723 │\n",
       "│           ┆          ┆ 0         ┆ 5         ┆   ┆           ┆           ┆           ┆ 3         │\n",
       "│ 137537621 ┆ english  ┆ 168284333 ┆ 171748184 ┆ … ┆ 10173     ┆ 2         ┆ 10173     ┆ 171674484 │\n",
       "│           ┆          ┆ 5         ┆ 7         ┆   ┆           ┆           ┆           ┆ 1         │\n",
       "│ 154253089 ┆ english  ┆ 170337572 ┆ 171747860 ┆ … ┆ 195       ┆ 92        ┆ 195       ┆ 171747856 │\n",
       "│           ┆          ┆ 6         ┆ 5         ┆   ┆           ┆           ┆           ┆ 4         │\n",
       "│ …         ┆ …        ┆ …         ┆ …         ┆ … ┆ …         ┆ …         ┆ …         ┆ …         │\n",
       "│ 30564247  ┆ english  ┆ 148973344 ┆ 157410913 ┆ … ┆ 11        ┆ 0         ┆ 7         ┆ 154190066 │\n",
       "│           ┆          ┆ 2         ┆ 1         ┆   ┆           ┆           ┆           ┆ 0         │\n",
       "│ 22338865  ┆ english  ┆ 146029306 ┆ 146029306 ┆ … ┆ 113891    ┆ 0         ┆ 30245     ┆ 169036233 │\n",
       "│           ┆          ┆ 9         ┆ 9         ┆   ┆           ┆           ┆           ┆ 5         │\n",
       "│ 15043110  ┆ english  ┆ 142725994 ┆ 157147464 ┆ … ┆ 7302      ┆ 0         ┆ 4661      ┆ 157106247 │\n",
       "│           ┆          ┆ 9         ┆ 8         ┆   ┆           ┆           ┆           ┆ 1         │\n",
       "│ 149284037 ┆ english  ┆ 169880032 ┆ 169880032 ┆ … ┆ 3367      ┆ 2694      ┆ 3016      ┆ 169889219 │\n",
       "│           ┆          ┆ 1         ┆ 1         ┆   ┆           ┆           ┆           ┆ 4         │\n",
       "│ 1092034   ┆ english  ┆ 129191868 ┆ 129191868 ┆ … ┆ 119070    ┆ 0         ┆ 116910    ┆ 139668498 │\n",
       "│           ┆          ┆ 9         ┆ 9         ┆   ┆           ┆           ┆           ┆ 3         │\n",
       "└───────────┴──────────┴───────────┴───────────┴───┴───────────┴───────────┴───────────┴───────────┘"
      ]
     },
     "execution_count": 2,
     "metadata": {},
     "output_type": "execute_result"
    }
   ],
   "source": [
    "sql = \"\"\"SELECT * FROM 'data/10.csv' WHERE language = 'english'\"\"\"\n",
    "\n",
    "duckdb.execute(sql).pl()"
   ]
  },
  {
   "cell_type": "markdown",
   "id": "3ef6df2d-3345-476a-b4fa-c93d6dd42898",
   "metadata": {},
   "source": [
    "DuckDB infers that we want to read a 'csv' file and calls it's `read_csv` function implicitly. We can of course do this explicitly if we want to pass options to handle those messy CSV files."
   ]
  },
  {
   "cell_type": "code",
   "execution_count": 3,
   "id": "e4f5b09b-bf8c-49b6-b0c1-b2e07f8b8060",
   "metadata": {},
   "outputs": [
    {
     "data": {
      "text/html": [
       "<div><style>\n",
       ".dataframe > thead > tr,\n",
       ".dataframe > tbody > tr {\n",
       "  text-align: right;\n",
       "  white-space: pre-wrap;\n",
       "}\n",
       "</style>\n",
       "<small>shape: (56_543, 22)</small><table border=\"1\" class=\"dataframe\"><thead><tr><th>filename</th><th>recommendationid</th><th>language</th><th>timestamp_created</th><th>timestamp_updated</th><th>voted_up</th><th>votes_up</th><th>votes_funny</th><th>weighted_vote_score</th><th>comment_count</th><th>steam_purchase</th><th>received_for_free</th><th>written_during_early_access</th><th>hidden_in_steam_china</th><th>steam_china_location</th><th>author_steamid</th><th>author_num_games_owned</th><th>author_num_reviews</th><th>author_playtime_forever</th><th>author_playtime_last_two_weeks</th><th>author_playtime_at_review</th><th>author_last_played</th></tr><tr><td>str</td><td>i64</td><td>str</td><td>i64</td><td>i64</td><td>i64</td><td>i64</td><td>i64</td><td>f64</td><td>i64</td><td>i64</td><td>i64</td><td>i64</td><td>i64</td><td>str</td><td>i64</td><td>i64</td><td>i64</td><td>i64</td><td>i64</td><td>i64</td><td>i64</td></tr></thead><tbody><tr><td>&quot;data/10.csv&quot;</td><td>147937429</td><td>&quot;english&quot;</td><td>1696875102</td><td>1717510986</td><td>1</td><td>3</td><td>0</td><td>0.5268</td><td>0</td><td>1</td><td>0</td><td>0</td><td>1</td><td>null</td><td>76561199550893216</td><td>35</td><td>23</td><td>59161</td><td>4738</td><td>58753</td><td>1717541057</td></tr><tr><td>&quot;data/10.csv&quot;</td><td>166652969</td><td>&quot;english&quot;</td><td>1717495511</td><td>1717495511</td><td>1</td><td>0</td><td>0</td><td>0.0</td><td>0</td><td>1</td><td>0</td><td>0</td><td>1</td><td>null</td><td>76561199025372592</td><td>10</td><td>2</td><td>13452</td><td>502</td><td>13426</td><td>1717500702</td></tr><tr><td>&quot;data/10.csv&quot;</td><td>166652933</td><td>&quot;english&quot;</td><td>1717495460</td><td>1717538865</td><td>1</td><td>1</td><td>0</td><td>0.517767</td><td>0</td><td>1</td><td>0</td><td>0</td><td>1</td><td>null</td><td>76561197975930688</td><td>436</td><td>180</td><td>3197</td><td>0</td><td>3197</td><td>1714457233</td></tr><tr><td>&quot;data/10.csv&quot;</td><td>137537621</td><td>&quot;english&quot;</td><td>1682843335</td><td>1717481847</td><td>1</td><td>0</td><td>0</td><td>0.0</td><td>0</td><td>0</td><td>0</td><td>0</td><td>1</td><td>null</td><td>76561199148051920</td><td>43</td><td>6</td><td>10173</td><td>2</td><td>10173</td><td>1716744841</td></tr><tr><td>&quot;data/10.csv&quot;</td><td>154253089</td><td>&quot;english&quot;</td><td>1703375726</td><td>1717478605</td><td>1</td><td>0</td><td>0</td><td>0.0</td><td>0</td><td>1</td><td>0</td><td>0</td><td>1</td><td>null</td><td>76561199179558352</td><td>50</td><td>25</td><td>195</td><td>92</td><td>195</td><td>1717478564</td></tr><tr><td>&hellip;</td><td>&hellip;</td><td>&hellip;</td><td>&hellip;</td><td>&hellip;</td><td>&hellip;</td><td>&hellip;</td><td>&hellip;</td><td>&hellip;</td><td>&hellip;</td><td>&hellip;</td><td>&hellip;</td><td>&hellip;</td><td>&hellip;</td><td>&hellip;</td><td>&hellip;</td><td>&hellip;</td><td>&hellip;</td><td>&hellip;</td><td>&hellip;</td><td>&hellip;</td><td>&hellip;</td></tr><tr><td>&quot;data/10.csv&quot;</td><td>30564247</td><td>&quot;english&quot;</td><td>1489733442</td><td>1574109131</td><td>1</td><td>0</td><td>1</td><td>0.41404</td><td>0</td><td>0</td><td>0</td><td>0</td><td>0</td><td>null</td><td>76561198095892208</td><td>811</td><td>72</td><td>11</td><td>0</td><td>7</td><td>1541900660</td></tr><tr><td>&quot;data/10.csv&quot;</td><td>22338865</td><td>&quot;english&quot;</td><td>1460293069</td><td>1460293069</td><td>1</td><td>1</td><td>1</td><td>0.502488</td><td>0</td><td>0</td><td>0</td><td>0</td><td>0</td><td>null</td><td>76561198149865296</td><td>18</td><td>1</td><td>113891</td><td>0</td><td>30245</td><td>1690362335</td></tr><tr><td>&quot;data/10.csv&quot;</td><td>15043110</td><td>&quot;english&quot;</td><td>1427259949</td><td>1571474648</td><td>1</td><td>0</td><td>0</td><td>0.0</td><td>0</td><td>0</td><td>0</td><td>0</td><td>0</td><td>null</td><td>76561198072567552</td><td>38</td><td>34</td><td>7302</td><td>0</td><td>4661</td><td>1571062471</td></tr><tr><td>&quot;data/10.csv&quot;</td><td>149284037</td><td>&quot;english&quot;</td><td>1698800321</td><td>1698800321</td><td>1</td><td>0</td><td>0</td><td>0.0</td><td>0</td><td>0</td><td>1</td><td>0</td><td>1</td><td>null</td><td>76561199052025216</td><td>46</td><td>3</td><td>3367</td><td>2694</td><td>3016</td><td>1698892194</td></tr><tr><td>&quot;data/10.csv&quot;</td><td>1092034</td><td>&quot;english&quot;</td><td>1291918689</td><td>1291918689</td><td>1</td><td>0</td><td>0</td><td>0.0</td><td>0</td><td>0</td><td>0</td><td>0</td><td>0</td><td>null</td><td>76561197986485904</td><td>0</td><td>2</td><td>119070</td><td>0</td><td>116910</td><td>1396684983</td></tr></tbody></table></div>"
      ],
      "text/plain": [
       "shape: (56_543, 22)\n",
       "┌───────────┬───────────┬──────────┬───────────┬───┬───────────┬───────────┬───────────┬───────────┐\n",
       "│ filename  ┆ recommend ┆ language ┆ timestamp ┆ … ┆ author_pl ┆ author_pl ┆ author_pl ┆ author_la │\n",
       "│ ---       ┆ ationid   ┆ ---      ┆ _created  ┆   ┆ aytime_fo ┆ aytime_la ┆ aytime_at ┆ st_played │\n",
       "│ str       ┆ ---       ┆ str      ┆ ---       ┆   ┆ rever     ┆ st_two_we ┆ _review   ┆ ---       │\n",
       "│           ┆ i64       ┆          ┆ i64       ┆   ┆ ---       ┆ eks       ┆ ---       ┆ i64       │\n",
       "│           ┆           ┆          ┆           ┆   ┆ i64       ┆ ---       ┆ i64       ┆           │\n",
       "│           ┆           ┆          ┆           ┆   ┆           ┆ i64       ┆           ┆           │\n",
       "╞═══════════╪═══════════╪══════════╪═══════════╪═══╪═══════════╪═══════════╪═══════════╪═══════════╡\n",
       "│ data/10.c ┆ 147937429 ┆ english  ┆ 169687510 ┆ … ┆ 59161     ┆ 4738      ┆ 58753     ┆ 171754105 │\n",
       "│ sv        ┆           ┆          ┆ 2         ┆   ┆           ┆           ┆           ┆ 7         │\n",
       "│ data/10.c ┆ 166652969 ┆ english  ┆ 171749551 ┆ … ┆ 13452     ┆ 502       ┆ 13426     ┆ 171750070 │\n",
       "│ sv        ┆           ┆          ┆ 1         ┆   ┆           ┆           ┆           ┆ 2         │\n",
       "│ data/10.c ┆ 166652933 ┆ english  ┆ 171749546 ┆ … ┆ 3197      ┆ 0         ┆ 3197      ┆ 171445723 │\n",
       "│ sv        ┆           ┆          ┆ 0         ┆   ┆           ┆           ┆           ┆ 3         │\n",
       "│ data/10.c ┆ 137537621 ┆ english  ┆ 168284333 ┆ … ┆ 10173     ┆ 2         ┆ 10173     ┆ 171674484 │\n",
       "│ sv        ┆           ┆          ┆ 5         ┆   ┆           ┆           ┆           ┆ 1         │\n",
       "│ data/10.c ┆ 154253089 ┆ english  ┆ 170337572 ┆ … ┆ 195       ┆ 92        ┆ 195       ┆ 171747856 │\n",
       "│ sv        ┆           ┆          ┆ 6         ┆   ┆           ┆           ┆           ┆ 4         │\n",
       "│ …         ┆ …         ┆ …        ┆ …         ┆ … ┆ …         ┆ …         ┆ …         ┆ …         │\n",
       "│ data/10.c ┆ 30564247  ┆ english  ┆ 148973344 ┆ … ┆ 11        ┆ 0         ┆ 7         ┆ 154190066 │\n",
       "│ sv        ┆           ┆          ┆ 2         ┆   ┆           ┆           ┆           ┆ 0         │\n",
       "│ data/10.c ┆ 22338865  ┆ english  ┆ 146029306 ┆ … ┆ 113891    ┆ 0         ┆ 30245     ┆ 169036233 │\n",
       "│ sv        ┆           ┆          ┆ 9         ┆   ┆           ┆           ┆           ┆ 5         │\n",
       "│ data/10.c ┆ 15043110  ┆ english  ┆ 142725994 ┆ … ┆ 7302      ┆ 0         ┆ 4661      ┆ 157106247 │\n",
       "│ sv        ┆           ┆          ┆ 9         ┆   ┆           ┆           ┆           ┆ 1         │\n",
       "│ data/10.c ┆ 149284037 ┆ english  ┆ 169880032 ┆ … ┆ 3367      ┆ 2694      ┆ 3016      ┆ 169889219 │\n",
       "│ sv        ┆           ┆          ┆ 1         ┆   ┆           ┆           ┆           ┆ 4         │\n",
       "│ data/10.c ┆ 1092034   ┆ english  ┆ 129191868 ┆ … ┆ 119070    ┆ 0         ┆ 116910    ┆ 139668498 │\n",
       "│ sv        ┆           ┆          ┆ 9         ┆   ┆           ┆           ┆           ┆ 3         │\n",
       "└───────────┴───────────┴──────────┴───────────┴───┴───────────┴───────────┴───────────┴───────────┘"
      ]
     },
     "execution_count": 3,
     "metadata": {},
     "output_type": "execute_result"
    }
   ],
   "source": [
    "sql = \"\"\"SELECT filename, * FROM read_csv('data/10.csv', filename = true) WHERE language = 'english'\"\"\"\n",
    "my_polars_df = duckdb.execute(sql).pl()\n",
    "my_polars_df"
   ]
  },
  {
   "cell_type": "markdown",
   "id": "10d6df69-ae64-4ba9-af3c-652fea10dee3",
   "metadata": {},
   "source": [
    "Because DuckDB is both in-process, as well as Arrow-backed, it's able to easily interop with other analytical tools, such as `polars` and `pandas`"
   ]
  },
  {
   "cell_type": "code",
   "execution_count": 4,
   "id": "dde701d0-600a-4638-b148-738f7b1126a2",
   "metadata": {},
   "outputs": [
    {
     "data": {
      "text/html": [
       "<div><style>\n",
       ".dataframe > thead > tr,\n",
       ".dataframe > tbody > tr {\n",
       "  text-align: right;\n",
       "  white-space: pre-wrap;\n",
       "}\n",
       "</style>\n",
       "<small>shape: (2, 2)</small><table border=\"1\" class=\"dataframe\"><thead><tr><th>received_for_free</th><th>num_upvotes</th></tr><tr><td>bool</td><td>f64</td></tr></thead><tbody><tr><td>false</td><td>1.384894</td></tr><tr><td>true</td><td>0.860875</td></tr></tbody></table></div>"
      ],
      "text/plain": [
       "shape: (2, 2)\n",
       "┌───────────────────┬─────────────┐\n",
       "│ received_for_free ┆ num_upvotes │\n",
       "│ ---               ┆ ---         │\n",
       "│ bool              ┆ f64         │\n",
       "╞═══════════════════╪═════════════╡\n",
       "│ false             ┆ 1.384894    │\n",
       "│ true              ┆ 0.860875    │\n",
       "└───────────────────┴─────────────┘"
      ]
     },
     "execution_count": 4,
     "metadata": {},
     "output_type": "execute_result"
    }
   ],
   "source": [
    "sql = \"\"\"\n",
    "SELECT CAST(received_for_free as bool) as received_for_free, \n",
    "AVG(votes_up) as num_upvotes  \n",
    "FROM my_polars_df \n",
    "GROUP BY ALL\n",
    "\"\"\"\n",
    "duckdb.execute(sql).pl()"
   ]
  },
  {
   "cell_type": "markdown",
   "id": "428eff36-28a1-40ee-8343-45886c5ddf2e",
   "metadata": {},
   "source": [
    "## Reading remote data\n",
    "A killer feature is the nativeness of reading data from object stores directly, including common data lake formats such as Parquet. It can even query MySQL and Postgres!\n",
    "\n",
    "Duckdb comes with a built-in secrets manager to handle credentials for connecting to remote stores so lets set that up"
   ]
  },
  {
   "cell_type": "code",
   "execution_count": 5,
   "id": "2f15de14-0cd7-4ce9-bc67-d418761e859e",
   "metadata": {},
   "outputs": [],
   "source": [
    "duckdb.execute(\"\"\"CREATE OR REPLACE SECRET minio (\n",
    "    TYPE S3,\n",
    "    KEY_ID 'minio',\n",
    "    SECRET 'minio1234',\n",
    "    ENDPOINT 'minio:9000',\n",
    "    URL_STYLE 'path',\n",
    "    USE_SSL false,\n",
    "    REGION 'us-east-1'\n",
    ")\n",
    "\"\"\");"
   ]
  },
  {
   "cell_type": "markdown",
   "id": "d2b4d586-5f3a-4220-83e7-3469d5b259c6",
   "metadata": {},
   "source": [
    "Secrets can be stored persistently or in-memory - here we persist in-memory"
   ]
  },
  {
   "cell_type": "code",
   "execution_count": 6,
   "id": "5e92cd54-a3a3-4758-9ffa-35fd1e0f2628",
   "metadata": {},
   "outputs": [
    {
     "data": {
      "text/html": [
       "<div><style>\n",
       ".dataframe > thead > tr,\n",
       ".dataframe > tbody > tr {\n",
       "  text-align: right;\n",
       "  white-space: pre-wrap;\n",
       "}\n",
       "</style>\n",
       "<small>shape: (1, 7)</small><table border=\"1\" class=\"dataframe\"><thead><tr><th>name</th><th>type</th><th>provider</th><th>persistent</th><th>storage</th><th>scope</th><th>secret_string</th></tr><tr><td>str</td><td>str</td><td>str</td><td>bool</td><td>str</td><td>list[str]</td><td>str</td></tr></thead><tbody><tr><td>&quot;minio&quot;</td><td>&quot;s3&quot;</td><td>&quot;config&quot;</td><td>false</td><td>&quot;memory&quot;</td><td>[&quot;s3://&quot;,&nbsp;&quot;s3n://&quot;,&nbsp;&quot;s3a://&quot;]</td><td>&quot;name=minio;type=s3;provider=co…</td></tr></tbody></table></div>"
      ],
      "text/plain": [
       "shape: (1, 7)\n",
       "┌───────┬──────┬──────────┬────────────┬─────────┬─────────────────────┬───────────────────────────┐\n",
       "│ name  ┆ type ┆ provider ┆ persistent ┆ storage ┆ scope               ┆ secret_string             │\n",
       "│ ---   ┆ ---  ┆ ---      ┆ ---        ┆ ---     ┆ ---                 ┆ ---                       │\n",
       "│ str   ┆ str  ┆ str      ┆ bool       ┆ str     ┆ list[str]           ┆ str                       │\n",
       "╞═══════╪══════╪══════════╪════════════╪═════════╪═════════════════════╪═══════════════════════════╡\n",
       "│ minio ┆ s3   ┆ config   ┆ false      ┆ memory  ┆ [\"s3://\", \"s3n://\", ┆ name=minio;type=s3;provid │\n",
       "│       ┆      ┆          ┆            ┆         ┆ \"s3a://\"]           ┆ er=co…                    │\n",
       "└───────┴──────┴──────────┴────────────┴─────────┴─────────────────────┴───────────────────────────┘"
      ]
     },
     "execution_count": 6,
     "metadata": {},
     "output_type": "execute_result"
    }
   ],
   "source": [
    "duckdb.execute(\"FROM duckdb_secrets()\").pl()"
   ]
  },
  {
   "cell_type": "markdown",
   "id": "a338182d-5c9a-41f3-8947-d7ae01440a99",
   "metadata": {},
   "source": [
    "With credentials in order, we can treat S3 as just another file location"
   ]
  },
  {
   "cell_type": "code",
   "execution_count": 13,
   "id": "9d225ee8-2369-49e6-8553-baf6ab94ce6f",
   "metadata": {},
   "outputs": [],
   "source": [
    "r = duckdb.read_parquet('data/parquet/all_reviews.parquet')"
   ]
  },
  {
   "cell_type": "code",
   "execution_count": 23,
   "id": "0a8c1289-8764-41f9-a893-2584dad3e317",
   "metadata": {},
   "outputs": [
    {
     "data": {
      "text/plain": [
       "┌────────────┬───────────────────┐\n",
       "│  language  │ count(\"language\") │\n",
       "│  varchar   │       int64       │\n",
       "├────────────┼───────────────────┤\n",
       "│ polish     │           3088366 │\n",
       "│ schinese   │          19799992 │\n",
       "│ greek      │             82484 │\n",
       "│ french     │           2878882 │\n",
       "│ czech      │            816372 │\n",
       "│ japanese   │            659812 │\n",
       "│ tchinese   │           1281136 │\n",
       "│ vietnamese │             66599 │\n",
       "│ norwegian  │            180191 │\n",
       "│ swedish    │            447369 │\n",
       "│    ·       │               ·   │\n",
       "│    ·       │               ·   │\n",
       "│    ·       │               ·   │\n",
       "│ ukrainian  │            463960 │\n",
       "│ indonesian │              6158 │\n",
       "│ english    │          57424874 │\n",
       "│ german     │           4182469 │\n",
       "│ turkish    │           3702329 │\n",
       "│ hungarian  │            370701 │\n",
       "│ koreana    │           2534100 │\n",
       "│ thai       │            537746 │\n",
       "│ finnish    │            309880 │\n",
       "│ italian    │            795499 │\n",
       "├────────────┴───────────────────┤\n",
       "│ 29 rows (20 shown)   2 columns │\n",
       "└────────────────────────────────┘"
      ]
     },
     "execution_count": 23,
     "metadata": {},
     "output_type": "execute_result"
    }
   ],
   "source": [
    "r.value_counts('language'"
   ]
  },
  {
   "cell_type": "code",
   "execution_count": 7,
   "id": "59d147d0-1331-40fe-8298-765cb63bfde9",
   "metadata": {
    "scrolled": true
   },
   "outputs": [
    {
     "data": {
      "text/html": [
       "<div><style>\n",
       ".dataframe > thead > tr,\n",
       ".dataframe > tbody > tr {\n",
       "  text-align: right;\n",
       "  white-space: pre-wrap;\n",
       "}\n",
       "</style>\n",
       "<small>shape: (238_828, 21)</small><table border=\"1\" class=\"dataframe\"><thead><tr><th>recommendationid</th><th>language</th><th>timestamp_created</th><th>timestamp_updated</th><th>voted_up</th><th>votes_up</th><th>votes_funny</th><th>weighted_vote_score</th><th>comment_count</th><th>steam_purchase</th><th>received_for_free</th><th>written_during_early_access</th><th>hidden_in_steam_china</th><th>steam_china_location</th><th>author_steamid</th><th>author_num_games_owned</th><th>author_num_reviews</th><th>author_playtime_forever</th><th>author_playtime_last_two_weeks</th><th>author_playtime_at_review</th><th>author_last_played</th></tr><tr><td>i64</td><td>str</td><td>i64</td><td>i64</td><td>i64</td><td>i64</td><td>i64</td><td>f64</td><td>i64</td><td>i64</td><td>i64</td><td>i64</td><td>i64</td><td>str</td><td>i64</td><td>i64</td><td>i64</td><td>i64</td><td>i64</td><td>i64</td><td>i64</td></tr></thead><tbody><tr><td>147937429</td><td>&quot;english&quot;</td><td>1696875102</td><td>1717510986</td><td>1</td><td>3</td><td>0</td><td>0.5268</td><td>0</td><td>1</td><td>0</td><td>0</td><td>1</td><td>null</td><td>76561199550893216</td><td>35</td><td>23</td><td>59161</td><td>4738</td><td>58753</td><td>1717541057</td></tr><tr><td>166664841</td><td>&quot;russian&quot;</td><td>1717510100</td><td>1717510100</td><td>1</td><td>0</td><td>0</td><td>0.0</td><td>0</td><td>1</td><td>0</td><td>0</td><td>1</td><td>null</td><td>76561199161536896</td><td>24</td><td>11</td><td>436</td><td>71</td><td>385</td><td>1717512997</td></tr><tr><td>166664763</td><td>&quot;russian&quot;</td><td>1717510009</td><td>1717510009</td><td>1</td><td>0</td><td>0</td><td>0.0</td><td>0</td><td>0</td><td>0</td><td>0</td><td>1</td><td>null</td><td>76561198046827632</td><td>0</td><td>7</td><td>23750</td><td>7</td><td>23743</td><td>1717510490</td></tr><tr><td>166663001</td><td>&quot;turkish&quot;</td><td>1717508182</td><td>1717508182</td><td>0</td><td>0</td><td>0</td><td>0.0</td><td>0</td><td>0</td><td>0</td><td>0</td><td>1</td><td>null</td><td>76561199374468448</td><td>32</td><td>4</td><td>361</td><td>19</td><td>356</td><td>1717508513</td></tr><tr><td>166658743</td><td>&quot;brazilian&quot;</td><td>1717503385</td><td>1717503385</td><td>1</td><td>1</td><td>0</td><td>0.52381</td><td>0</td><td>1</td><td>0</td><td>0</td><td>1</td><td>null</td><td>76561198018922960</td><td>9</td><td>1</td><td>1497</td><td>0</td><td>1497</td><td>1478272196</td></tr><tr><td>&hellip;</td><td>&hellip;</td><td>&hellip;</td><td>&hellip;</td><td>&hellip;</td><td>&hellip;</td><td>&hellip;</td><td>&hellip;</td><td>&hellip;</td><td>&hellip;</td><td>&hellip;</td><td>&hellip;</td><td>&hellip;</td><td>&hellip;</td><td>&hellip;</td><td>&hellip;</td><td>&hellip;</td><td>&hellip;</td><td>&hellip;</td><td>&hellip;</td><td>&hellip;</td></tr><tr><td>null</td><td>&quot;1351380029&quot;</td><td>1</td><td>0</td><td>0</td><td>0</td><td>0</td><td>1.0</td><td>0</td><td>0</td><td>0</td><td>null</td><td>76561198008269840</td><td>&quot;0.0&quot;</td><td>2</td><td>95521</td><td>0</td><td>37952</td><td>1547225350</td><td>null</td><td>null</td></tr><tr><td>149330962</td><td>&quot;russian&quot;</td><td>1698868683</td><td>1698868683</td><td>1</td><td>0</td><td>0</td><td>0.0</td><td>0</td><td>1</td><td>0</td><td>0</td><td>1</td><td>null</td><td>76561199093871104</td><td>62</td><td>26</td><td>29</td><td>10</td><td>29</td><td>1698427415</td></tr><tr><td>149284037</td><td>&quot;english&quot;</td><td>1698800321</td><td>1698800321</td><td>1</td><td>0</td><td>0</td><td>0.0</td><td>0</td><td>0</td><td>1</td><td>0</td><td>1</td><td>null</td><td>76561199052025216</td><td>46</td><td>3</td><td>3367</td><td>2694</td><td>3016</td><td>1698892194</td></tr><tr><td>127959835</td><td>&quot;schinese&quot;</td><td>1670214704</td><td>1698915106</td><td>1</td><td>0</td><td>0</td><td>0.0</td><td>0</td><td>1</td><td>0</td><td>0</td><td>1</td><td>null</td><td>76561199209656688</td><td>47</td><td>11</td><td>1179</td><td>0</td><td>1179</td><td>1694817767</td></tr><tr><td>1092034</td><td>&quot;english&quot;</td><td>1291918689</td><td>1291918689</td><td>1</td><td>0</td><td>0</td><td>0.0</td><td>0</td><td>0</td><td>0</td><td>0</td><td>0</td><td>null</td><td>76561197986485904</td><td>0</td><td>2</td><td>119070</td><td>0</td><td>116910</td><td>1396684983</td></tr></tbody></table></div>"
      ],
      "text/plain": [
       "shape: (238_828, 21)\n",
       "┌───────────┬───────────┬───────────┬───────────┬───┬───────────┬───────────┬───────────┬──────────┐\n",
       "│ recommend ┆ language  ┆ timestamp ┆ timestamp ┆ … ┆ author_pl ┆ author_pl ┆ author_pl ┆ author_l │\n",
       "│ ationid   ┆ ---       ┆ _created  ┆ _updated  ┆   ┆ aytime_fo ┆ aytime_la ┆ aytime_at ┆ ast_play │\n",
       "│ ---       ┆ str       ┆ ---       ┆ ---       ┆   ┆ rever     ┆ st_two_we ┆ _review   ┆ ed       │\n",
       "│ i64       ┆           ┆ i64       ┆ i64       ┆   ┆ ---       ┆ eks       ┆ ---       ┆ ---      │\n",
       "│           ┆           ┆           ┆           ┆   ┆ i64       ┆ ---       ┆ i64       ┆ i64      │\n",
       "│           ┆           ┆           ┆           ┆   ┆           ┆ i64       ┆           ┆          │\n",
       "╞═══════════╪═══════════╪═══════════╪═══════════╪═══╪═══════════╪═══════════╪═══════════╪══════════╡\n",
       "│ 147937429 ┆ english   ┆ 169687510 ┆ 171751098 ┆ … ┆ 59161     ┆ 4738      ┆ 58753     ┆ 17175410 │\n",
       "│           ┆           ┆ 2         ┆ 6         ┆   ┆           ┆           ┆           ┆ 57       │\n",
       "│ 166664841 ┆ russian   ┆ 171751010 ┆ 171751010 ┆ … ┆ 436       ┆ 71        ┆ 385       ┆ 17175129 │\n",
       "│           ┆           ┆ 0         ┆ 0         ┆   ┆           ┆           ┆           ┆ 97       │\n",
       "│ 166664763 ┆ russian   ┆ 171751000 ┆ 171751000 ┆ … ┆ 23750     ┆ 7         ┆ 23743     ┆ 17175104 │\n",
       "│           ┆           ┆ 9         ┆ 9         ┆   ┆           ┆           ┆           ┆ 90       │\n",
       "│ 166663001 ┆ turkish   ┆ 171750818 ┆ 171750818 ┆ … ┆ 361       ┆ 19        ┆ 356       ┆ 17175085 │\n",
       "│           ┆           ┆ 2         ┆ 2         ┆   ┆           ┆           ┆           ┆ 13       │\n",
       "│ 166658743 ┆ brazilian ┆ 171750338 ┆ 171750338 ┆ … ┆ 1497      ┆ 0         ┆ 1497      ┆ 14782721 │\n",
       "│           ┆           ┆ 5         ┆ 5         ┆   ┆           ┆           ┆           ┆ 96       │\n",
       "│ …         ┆ …         ┆ …         ┆ …         ┆ … ┆ …         ┆ …         ┆ …         ┆ …        │\n",
       "│ null      ┆ 135138002 ┆ 1         ┆ 0         ┆ … ┆ 37952     ┆ 154722535 ┆ null      ┆ null     │\n",
       "│           ┆ 9         ┆           ┆           ┆   ┆           ┆ 0         ┆           ┆          │\n",
       "│ 149330962 ┆ russian   ┆ 169886868 ┆ 169886868 ┆ … ┆ 29        ┆ 10        ┆ 29        ┆ 16984274 │\n",
       "│           ┆           ┆ 3         ┆ 3         ┆   ┆           ┆           ┆           ┆ 15       │\n",
       "│ 149284037 ┆ english   ┆ 169880032 ┆ 169880032 ┆ … ┆ 3367      ┆ 2694      ┆ 3016      ┆ 16988921 │\n",
       "│           ┆           ┆ 1         ┆ 1         ┆   ┆           ┆           ┆           ┆ 94       │\n",
       "│ 127959835 ┆ schinese  ┆ 167021470 ┆ 169891510 ┆ … ┆ 1179      ┆ 0         ┆ 1179      ┆ 16948177 │\n",
       "│           ┆           ┆ 4         ┆ 6         ┆   ┆           ┆           ┆           ┆ 67       │\n",
       "│ 1092034   ┆ english   ┆ 129191868 ┆ 129191868 ┆ … ┆ 119070    ┆ 0         ┆ 116910    ┆ 13966849 │\n",
       "│           ┆           ┆ 9         ┆ 9         ┆   ┆           ┆           ┆           ┆ 83       │\n",
       "└───────────┴───────────┴───────────┴───────────┴───┴───────────┴───────────┴───────────┴──────────┘"
      ]
     },
     "execution_count": 7,
     "metadata": {},
     "output_type": "execute_result"
    }
   ],
   "source": [
    "sql = \"FROM 's3://datalake/extract/reviews/10.csv'\"\n",
    "\n",
    "duckdb.execute(sql).pl()"
   ]
  },
  {
   "cell_type": "markdown",
   "id": "af4ec412-7a89-4a9b-8104-566fb479c0ef",
   "metadata": {},
   "source": [
    "Since DuckDB can both read and write from remote locations in a number of file formats, it's a great swiss army knife for ETL - let's build a tiny pipeline to clean up the review data and convert to Parquet."
   ]
  },
  {
   "cell_type": "code",
   "execution_count": 8,
   "id": "e2589504-a4af-4b38-984c-8b586d35bd64",
   "metadata": {},
   "outputs": [],
   "source": [
    "sql = \"COPY (SELECT * FROM 's3://datalake/extract/reviews/10.csv' WHERE recommendationid is not null) TO 's3://datalake/extract/duckdb/10.parquet' (FORMAT PARQUET)\"\n",
    "duckdb.sql(sql)"
   ]
  },
  {
   "cell_type": "code",
   "execution_count": 9,
   "id": "777a6231-e6d4-45c4-b610-c4014108745a",
   "metadata": {},
   "outputs": [
    {
     "data": {
      "text/html": [
       "<div><style>\n",
       ".dataframe > thead > tr,\n",
       ".dataframe > tbody > tr {\n",
       "  text-align: right;\n",
       "  white-space: pre-wrap;\n",
       "}\n",
       "</style>\n",
       "<small>shape: (29, 2)</small><table border=\"1\" class=\"dataframe\"><thead><tr><th>language</th><th>num_languages</th></tr><tr><td>str</td><td>i64</td></tr></thead><tbody><tr><td>&quot;russian&quot;</td><td>73425</td></tr><tr><td>&quot;english&quot;</td><td>56543</td></tr><tr><td>&quot;spanish&quot;</td><td>28800</td></tr><tr><td>&quot;brazilian&quot;</td><td>15574</td></tr><tr><td>&quot;turkish&quot;</td><td>14753</td></tr><tr><td>&hellip;</td><td>&hellip;</td></tr><tr><td>&quot;greek&quot;</td><td>168</td></tr><tr><td>&quot;norwegian&quot;</td><td>139</td></tr><tr><td>&quot;thai&quot;</td><td>118</td></tr><tr><td>&quot;vietnamese&quot;</td><td>50</td></tr><tr><td>&quot;indonesian&quot;</td><td>5</td></tr></tbody></table></div>"
      ],
      "text/plain": [
       "shape: (29, 2)\n",
       "┌────────────┬───────────────┐\n",
       "│ language   ┆ num_languages │\n",
       "│ ---        ┆ ---           │\n",
       "│ str        ┆ i64           │\n",
       "╞════════════╪═══════════════╡\n",
       "│ russian    ┆ 73425         │\n",
       "│ english    ┆ 56543         │\n",
       "│ spanish    ┆ 28800         │\n",
       "│ brazilian  ┆ 15574         │\n",
       "│ turkish    ┆ 14753         │\n",
       "│ …          ┆ …             │\n",
       "│ greek      ┆ 168           │\n",
       "│ norwegian  ┆ 139           │\n",
       "│ thai       ┆ 118           │\n",
       "│ vietnamese ┆ 50            │\n",
       "│ indonesian ┆ 5             │\n",
       "└────────────┴───────────────┘"
      ]
     },
     "execution_count": 9,
     "metadata": {},
     "output_type": "execute_result"
    }
   ],
   "source": [
    "sql = \"SELECT language, COUNT() as num_languages FROM 's3://datalake/extract/duckdb/10.parquet' GROUP BY ALL ORDER BY num_languages DESC\"\n",
    "duckdb.sql(sql).pl()"
   ]
  },
  {
   "cell_type": "markdown",
   "id": "79434785-ce23-44f4-8d08-6b4d80f09ff6",
   "metadata": {},
   "source": [
    "Now that the data is in Parquet format, DuckDB will intelligently push down query predicates into the Parquet file, reading only the required data. This lets us do things like process larger-than-RAM files with ease."
   ]
  },
  {
   "cell_type": "code",
   "execution_count": 11,
   "id": "f7cb2a50-545c-4cd7-9801-a40075955910",
   "metadata": {},
   "outputs": [
    {
     "data": {
      "application/vnd.jupyter.widget-view+json": {
       "model_id": "34ac9e83add643e69202d394333f418c",
       "version_major": 2,
       "version_minor": 0
      },
      "text/plain": [
       "FloatProgress(value=0.0, layout=Layout(width='auto'), style=ProgressStyle(bar_color='black'))"
      ]
     },
     "metadata": {},
     "output_type": "display_data"
    },
    {
     "data": {
      "text/html": [
       "<div><style>\n",
       ".dataframe > thead > tr,\n",
       ".dataframe > tbody > tr {\n",
       "  text-align: right;\n",
       "  white-space: pre-wrap;\n",
       "}\n",
       "</style>\n",
       "<small>shape: (29, 2)</small><table border=\"1\" class=\"dataframe\"><thead><tr><th>language</th><th>num_rows</th></tr><tr><td>str</td><td>i64</td></tr></thead><tbody><tr><td>&quot;russian&quot;</td><td>15069437</td></tr><tr><td>&quot;ukrainian&quot;</td><td>463960</td></tr><tr><td>&quot;indonesian&quot;</td><td>6158</td></tr><tr><td>&quot;tchinese&quot;</td><td>1281136</td></tr><tr><td>&quot;czech&quot;</td><td>816372</td></tr><tr><td>&hellip;</td><td>&hellip;</td></tr><tr><td>&quot;polish&quot;</td><td>3088366</td></tr><tr><td>&quot;greek&quot;</td><td>82484</td></tr><tr><td>&quot;brazilian&quot;</td><td>5329227</td></tr><tr><td>&quot;spanish&quot;</td><td>5461393</td></tr><tr><td>&quot;bulgarian&quot;</td><td>58637</td></tr></tbody></table></div>"
      ],
      "text/plain": [
       "shape: (29, 2)\n",
       "┌────────────┬──────────┐\n",
       "│ language   ┆ num_rows │\n",
       "│ ---        ┆ ---      │\n",
       "│ str        ┆ i64      │\n",
       "╞════════════╪══════════╡\n",
       "│ russian    ┆ 15069437 │\n",
       "│ ukrainian  ┆ 463960   │\n",
       "│ indonesian ┆ 6158     │\n",
       "│ tchinese   ┆ 1281136  │\n",
       "│ czech      ┆ 816372   │\n",
       "│ …          ┆ …        │\n",
       "│ polish     ┆ 3088366  │\n",
       "│ greek      ┆ 82484    │\n",
       "│ brazilian  ┆ 5329227  │\n",
       "│ spanish    ┆ 5461393  │\n",
       "│ bulgarian  ┆ 58637    │\n",
       "└────────────┴──────────┘"
      ]
     },
     "execution_count": 11,
     "metadata": {},
     "output_type": "execute_result"
    }
   ],
   "source": [
    "sql = \"SELECT language, COUNT() as num_rows FROM 'data/all_reviews.parquet' GROUP BY ALL\"\n",
    "duckdb.sql(sql).pl()"
   ]
  },
  {
   "cell_type": "markdown",
   "id": "89948829-9612-43f3-8b9e-dd5b85c3fec2",
   "metadata": {},
   "source": [
    "We can also parse multiple files using a glob - very handy for folders of data"
   ]
  },
  {
   "cell_type": "code",
   "execution_count": 12,
   "id": "a6228dd8-ee97-4354-b5e2-8d423c836c4f",
   "metadata": {},
   "outputs": [
    {
     "data": {
      "text/html": [
       "<div><style>\n",
       ".dataframe > thead > tr,\n",
       ".dataframe > tbody > tr {\n",
       "  text-align: right;\n",
       "  white-space: pre-wrap;\n",
       "}\n",
       "</style>\n",
       "<small>shape: (100, 22)</small><table border=\"1\" class=\"dataframe\"><thead><tr><th>game_id</th><th>recommendationid</th><th>language</th><th>timestamp_created</th><th>timestamp_updated</th><th>voted_up</th><th>votes_up</th><th>votes_funny</th><th>weighted_vote_score</th><th>comment_count</th><th>steam_purchase</th><th>received_for_free</th><th>written_during_early_access</th><th>hidden_in_steam_china</th><th>steam_china_location</th><th>author_steamid</th><th>author_num_games_owned</th><th>author_num_reviews</th><th>author_playtime_forever</th><th>author_playtime_last_two_weeks</th><th>author_playtime_at_review</th><th>author_last_played</th></tr><tr><td>str</td><td>i64</td><td>str</td><td>i64</td><td>i64</td><td>i64</td><td>i64</td><td>i64</td><td>f64</td><td>i64</td><td>i64</td><td>i64</td><td>i64</td><td>i64</td><td>str</td><td>i64</td><td>i64</td><td>i64</td><td>i64</td><td>i64</td><td>i64</td><td>i64</td></tr></thead><tbody><tr><td>&quot;10&quot;</td><td>147937429</td><td>&quot;english&quot;</td><td>1696875102</td><td>1717510986</td><td>1</td><td>3</td><td>0</td><td>0.5268</td><td>0</td><td>1</td><td>0</td><td>0</td><td>1</td><td>null</td><td>76561199550893216</td><td>35</td><td>23</td><td>59161</td><td>4738</td><td>58753</td><td>1717541057</td></tr><tr><td>&quot;10&quot;</td><td>166664841</td><td>&quot;russian&quot;</td><td>1717510100</td><td>1717510100</td><td>1</td><td>0</td><td>0</td><td>0.0</td><td>0</td><td>1</td><td>0</td><td>0</td><td>1</td><td>null</td><td>76561199161536896</td><td>24</td><td>11</td><td>436</td><td>71</td><td>385</td><td>1717512997</td></tr><tr><td>&quot;10&quot;</td><td>166664763</td><td>&quot;russian&quot;</td><td>1717510009</td><td>1717510009</td><td>1</td><td>0</td><td>0</td><td>0.0</td><td>0</td><td>0</td><td>0</td><td>0</td><td>1</td><td>null</td><td>76561198046827632</td><td>0</td><td>7</td><td>23750</td><td>7</td><td>23743</td><td>1717510490</td></tr><tr><td>&quot;10&quot;</td><td>166663001</td><td>&quot;turkish&quot;</td><td>1717508182</td><td>1717508182</td><td>0</td><td>0</td><td>0</td><td>0.0</td><td>0</td><td>0</td><td>0</td><td>0</td><td>1</td><td>null</td><td>76561199374468448</td><td>32</td><td>4</td><td>361</td><td>19</td><td>356</td><td>1717508513</td></tr><tr><td>&quot;10&quot;</td><td>166658743</td><td>&quot;brazilian&quot;</td><td>1717503385</td><td>1717503385</td><td>1</td><td>1</td><td>0</td><td>0.52381</td><td>0</td><td>1</td><td>0</td><td>0</td><td>1</td><td>null</td><td>76561198018922960</td><td>9</td><td>1</td><td>1497</td><td>0</td><td>1497</td><td>1478272196</td></tr><tr><td>&hellip;</td><td>&hellip;</td><td>&hellip;</td><td>&hellip;</td><td>&hellip;</td><td>&hellip;</td><td>&hellip;</td><td>&hellip;</td><td>&hellip;</td><td>&hellip;</td><td>&hellip;</td><td>&hellip;</td><td>&hellip;</td><td>&hellip;</td><td>&hellip;</td><td>&hellip;</td><td>&hellip;</td><td>&hellip;</td><td>&hellip;</td><td>&hellip;</td><td>&hellip;</td><td>&hellip;</td></tr><tr><td>&quot;10&quot;</td><td>166533117</td><td>&quot;polish&quot;</td><td>1717338208</td><td>1717338208</td><td>1</td><td>0</td><td>0</td><td>0.0</td><td>0</td><td>1</td><td>0</td><td>0</td><td>1</td><td>null</td><td>76561198193120528</td><td>60</td><td>8</td><td>43649</td><td>0</td><td>43649</td><td>1712682796</td></tr><tr><td>&quot;10&quot;</td><td>163650359</td><td>&quot;spanish&quot;</td><td>1714167060</td><td>1717333972</td><td>1</td><td>0</td><td>0</td><td>0.0</td><td>0</td><td>1</td><td>0</td><td>0</td><td>1</td><td>null</td><td>76561199226138608</td><td>39</td><td>21</td><td>2712</td><td>1839</td><td>1922</td><td>1717506042</td></tr><tr><td>&quot;10&quot;</td><td>166525327</td><td>&quot;romanian&quot;</td><td>1717329933</td><td>1717329933</td><td>1</td><td>0</td><td>0</td><td>0.0</td><td>0</td><td>1</td><td>0</td><td>0</td><td>1</td><td>null</td><td>76561199491549024</td><td>10</td><td>1</td><td>951</td><td>349</td><td>804</td><td>1717480813</td></tr><tr><td>&quot;10&quot;</td><td>166524383</td><td>&quot;russian&quot;</td><td>1717328789</td><td>1717328789</td><td>1</td><td>0</td><td>0</td><td>0.0</td><td>0</td><td>1</td><td>0</td><td>0</td><td>1</td><td>null</td><td>76561199098111520</td><td>0</td><td>1</td><td>5398</td><td>1884</td><td>4926</td><td>1717498719</td></tr><tr><td>&quot;10&quot;</td><td>114755187</td><td>&quot;spanish&quot;</td><td>1651374058</td><td>1717328561</td><td>1</td><td>0</td><td>0</td><td>0.0</td><td>0</td><td>0</td><td>0</td><td>0</td><td>0</td><td>null</td><td>76561199108290304</td><td>48</td><td>5</td><td>120097</td><td>1541</td><td>119998</td><td>1717459317</td></tr></tbody></table></div>"
      ],
      "text/plain": [
       "shape: (100, 22)\n",
       "┌─────────┬────────────┬───────────┬───────────┬───┬───────────┬───────────┬───────────┬───────────┐\n",
       "│ game_id ┆ recommenda ┆ language  ┆ timestamp ┆ … ┆ author_pl ┆ author_pl ┆ author_pl ┆ author_la │\n",
       "│ ---     ┆ tionid     ┆ ---       ┆ _created  ┆   ┆ aytime_fo ┆ aytime_la ┆ aytime_at ┆ st_played │\n",
       "│ str     ┆ ---        ┆ str       ┆ ---       ┆   ┆ rever     ┆ st_two_we ┆ _review   ┆ ---       │\n",
       "│         ┆ i64        ┆           ┆ i64       ┆   ┆ ---       ┆ eks       ┆ ---       ┆ i64       │\n",
       "│         ┆            ┆           ┆           ┆   ┆ i64       ┆ ---       ┆ i64       ┆           │\n",
       "│         ┆            ┆           ┆           ┆   ┆           ┆ i64       ┆           ┆           │\n",
       "╞═════════╪════════════╪═══════════╪═══════════╪═══╪═══════════╪═══════════╪═══════════╪═══════════╡\n",
       "│ 10      ┆ 147937429  ┆ english   ┆ 169687510 ┆ … ┆ 59161     ┆ 4738      ┆ 58753     ┆ 171754105 │\n",
       "│         ┆            ┆           ┆ 2         ┆   ┆           ┆           ┆           ┆ 7         │\n",
       "│ 10      ┆ 166664841  ┆ russian   ┆ 171751010 ┆ … ┆ 436       ┆ 71        ┆ 385       ┆ 171751299 │\n",
       "│         ┆            ┆           ┆ 0         ┆   ┆           ┆           ┆           ┆ 7         │\n",
       "│ 10      ┆ 166664763  ┆ russian   ┆ 171751000 ┆ … ┆ 23750     ┆ 7         ┆ 23743     ┆ 171751049 │\n",
       "│         ┆            ┆           ┆ 9         ┆   ┆           ┆           ┆           ┆ 0         │\n",
       "│ 10      ┆ 166663001  ┆ turkish   ┆ 171750818 ┆ … ┆ 361       ┆ 19        ┆ 356       ┆ 171750851 │\n",
       "│         ┆            ┆           ┆ 2         ┆   ┆           ┆           ┆           ┆ 3         │\n",
       "│ 10      ┆ 166658743  ┆ brazilian ┆ 171750338 ┆ … ┆ 1497      ┆ 0         ┆ 1497      ┆ 147827219 │\n",
       "│         ┆            ┆           ┆ 5         ┆   ┆           ┆           ┆           ┆ 6         │\n",
       "│ …       ┆ …          ┆ …         ┆ …         ┆ … ┆ …         ┆ …         ┆ …         ┆ …         │\n",
       "│ 10      ┆ 166533117  ┆ polish    ┆ 171733820 ┆ … ┆ 43649     ┆ 0         ┆ 43649     ┆ 171268279 │\n",
       "│         ┆            ┆           ┆ 8         ┆   ┆           ┆           ┆           ┆ 6         │\n",
       "│ 10      ┆ 163650359  ┆ spanish   ┆ 171416706 ┆ … ┆ 2712      ┆ 1839      ┆ 1922      ┆ 171750604 │\n",
       "│         ┆            ┆           ┆ 0         ┆   ┆           ┆           ┆           ┆ 2         │\n",
       "│ 10      ┆ 166525327  ┆ romanian  ┆ 171732993 ┆ … ┆ 951       ┆ 349       ┆ 804       ┆ 171748081 │\n",
       "│         ┆            ┆           ┆ 3         ┆   ┆           ┆           ┆           ┆ 3         │\n",
       "│ 10      ┆ 166524383  ┆ russian   ┆ 171732878 ┆ … ┆ 5398      ┆ 1884      ┆ 4926      ┆ 171749871 │\n",
       "│         ┆            ┆           ┆ 9         ┆   ┆           ┆           ┆           ┆ 9         │\n",
       "│ 10      ┆ 114755187  ┆ spanish   ┆ 165137405 ┆ … ┆ 120097    ┆ 1541      ┆ 119998    ┆ 171745931 │\n",
       "│         ┆            ┆           ┆ 8         ┆   ┆           ┆           ┆           ┆ 7         │\n",
       "└─────────┴────────────┴───────────┴───────────┴───┴───────────┴───────────┴───────────┴───────────┘"
      ]
     },
     "execution_count": 12,
     "metadata": {},
     "output_type": "execute_result"
    }
   ],
   "source": [
    "sql = \"\"\"\n",
    "SELECT filename.parse_filename(true) as game_id, * EXCLUDE filename\n",
    "FROM read_csv('s3://datalake/extract/reviews/*.csv', filename = true)\n",
    "WHERE recommendationid is not null\n",
    "LIMIT 100\n",
    "\"\"\"\n",
    "duckdb.execute(sql).pl()"
   ]
  },
  {
   "cell_type": "markdown",
   "id": "05737541-f7f5-4284-a37c-6435d05b3b3d",
   "metadata": {},
   "source": [
    "Can we do this with Iceberg? Of course! Let's use the AWS data from before to show off a more common usecase. "
   ]
  },
  {
   "cell_type": "code",
   "execution_count": 66,
   "id": "a1f9c40f-fd0d-4311-be6b-67dc99a1dec6",
   "metadata": {},
   "outputs": [
    {
     "data": {
      "text/plain": [
       "┌─────────┐\n",
       "│ Success │\n",
       "│ boolean │\n",
       "├─────────┤\n",
       "│ true    │\n",
       "└─────────┘"
      ]
     },
     "execution_count": 66,
     "metadata": {},
     "output_type": "execute_result"
    }
   ],
   "source": [
    "sql = \"\"\"CREATE OR REPLACE SECRET pydata (\n",
    "    TYPE S3,\n",
    "    PROVIDER CREDENTIAL_CHAIN,\n",
    "    SCOPE 's3://pydata-copenhagen-datalake'\n",
    ")\n",
    "\"\"\"\n",
    "duckdb.sql(sql)"
   ]
  },
  {
   "cell_type": "code",
   "execution_count": 49,
   "id": "58b41953-1141-40d7-93fe-ffba1921afb2",
   "metadata": {},
   "outputs": [],
   "source": [
    "from pyiceberg.catalog import load_catalog"
   ]
  },
  {
   "cell_type": "code",
   "execution_count": 50,
   "id": "7872e9a8-ebac-4163-8718-dc0b1b834bd3",
   "metadata": {},
   "outputs": [],
   "source": [
    "catalog = load_catalog(\"aws_iceberg\", **{\"type\": \"glue\", \"glue.region\": \"eu-north-1\"})"
   ]
  },
  {
   "cell_type": "code",
   "execution_count": 51,
   "id": "e3304569-3b48-4575-a5ea-fdd11ddb7d6c",
   "metadata": {},
   "outputs": [],
   "source": [
    "table = catalog.load_table(\"steam.reviews\")"
   ]
  },
  {
   "cell_type": "code",
   "execution_count": 63,
   "id": "fd5c1c84-7a1e-47b4-92a3-3a2ca31ee807",
   "metadata": {},
   "outputs": [
    {
     "data": {
      "text/plain": [
       "'s3://pydata-copenhagen-datalake/staging/reviews/metadata/00000-27183f43-7d16-4636-951b-957ad32c9731.metadata.json'"
      ]
     },
     "execution_count": 63,
     "metadata": {},
     "output_type": "execute_result"
    }
   ],
   "source": [
    "table.metadata_location"
   ]
  },
  {
   "cell_type": "code",
   "execution_count": 73,
   "id": "7520659d-baff-4722-a53f-27a591a96175",
   "metadata": {},
   "outputs": [],
   "source": [
    "sql = f\"SELECT COUNT(*) FROM iceberg_scan('{table.metadata_location}')\""
   ]
  },
  {
   "cell_type": "code",
   "execution_count": 71,
   "id": "cbbc1dbe-313a-4db1-9307-0e45cb323844",
   "metadata": {},
   "outputs": [
    {
     "data": {
      "application/vnd.jupyter.widget-view+json": {
       "model_id": "5cd6390a7a1949c8b55309eda24cbdf5",
       "version_major": 2,
       "version_minor": 0
      },
      "text/plain": [
       "FloatProgress(value=0.0, layout=Layout(width='auto'), style=ProgressStyle(bar_color='black'))"
      ]
     },
     "metadata": {},
     "output_type": "display_data"
    }
   ],
   "source": [
    "duckdb.install_extension('iceberg')\n",
    "duckdb.load_extension('iceberg')"
   ]
  },
  {
   "cell_type": "code",
   "execution_count": 74,
   "id": "5cac4ea3-329e-400a-9272-7ef5f2025925",
   "metadata": {},
   "outputs": [
    {
     "data": {
      "text/html": [
       "<div><style>\n",
       ".dataframe > thead > tr,\n",
       ".dataframe > tbody > tr {\n",
       "  text-align: right;\n",
       "  white-space: pre-wrap;\n",
       "}\n",
       "</style>\n",
       "<small>shape: (1, 1)</small><table border=\"1\" class=\"dataframe\"><thead><tr><th>count_star()</th></tr><tr><td>i64</td></tr></thead><tbody><tr><td>127572881</td></tr></tbody></table></div>"
      ],
      "text/plain": [
       "shape: (1, 1)\n",
       "┌──────────────┐\n",
       "│ count_star() │\n",
       "│ ---          │\n",
       "│ i64          │\n",
       "╞══════════════╡\n",
       "│ 127572881    │\n",
       "└──────────────┘"
      ]
     },
     "execution_count": 74,
     "metadata": {},
     "output_type": "execute_result"
    }
   ],
   "source": [
    "duckdb.sql(sql).pl()"
   ]
  },
  {
   "cell_type": "code",
   "execution_count": null,
   "id": "bcef2a6d-a959-449b-b57b-f6c2dca3a538",
   "metadata": {},
   "outputs": [
    {
     "data": {
      "application/vnd.jupyter.widget-view+json": {
       "model_id": "7438e654b4c049edbdf83192cf672727",
       "version_major": 2,
       "version_minor": 0
      },
      "text/plain": [
       "FloatProgress(value=0.0, layout=Layout(width='auto'), style=ProgressStyle(bar_color='black'))"
      ]
     },
     "metadata": {},
     "output_type": "display_data"
    }
   ],
   "source": [
    "sql = f\"SELECT language, count(language) as num_languages FROM iceberg_scan('{table.metadata_location}') GROUP BY ALL\"\n",
    "duckdb.sql(sql).pl()"
   ]
  },
  {
   "cell_type": "code",
   "execution_count": null,
   "id": "26adb194-8e66-4ab9-b84b-907098ac7e10",
   "metadata": {},
   "outputs": [],
   "source": []
  }
 ],
 "metadata": {
  "kernelspec": {
   "display_name": "Python 3 (ipykernel)",
   "language": "python",
   "name": "python3"
  },
  "language_info": {
   "codemirror_mode": {
    "name": "ipython",
    "version": 3
   },
   "file_extension": ".py",
   "mimetype": "text/x-python",
   "name": "python",
   "nbconvert_exporter": "python",
   "pygments_lexer": "ipython3",
   "version": "3.12.7"
  }
 },
 "nbformat": 4,
 "nbformat_minor": 5
}
