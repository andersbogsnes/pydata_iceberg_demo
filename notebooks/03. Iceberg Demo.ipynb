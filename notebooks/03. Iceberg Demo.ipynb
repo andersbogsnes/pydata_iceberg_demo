{
 "cells": [
  {
   "cell_type": "code",
   "execution_count": 1,
   "id": "61633080-7b12-4588-a612-4b3c6a8b854e",
   "metadata": {},
   "outputs": [],
   "source": [
    "import polars as pl\n",
    "from pyiceberg.catalog import load_catalog\n",
    "from pyiceberg.schema import Schema\n",
    "from pyiceberg.types import BooleanType, DoubleType, LongType, StringType, TimestampType, NestedField, IntegerType\n",
    "from pyiceberg.transforms import MonthTransform"
   ]
  },
  {
   "cell_type": "markdown",
   "id": "da1bc7ac-62c1-4b7b-933c-02c896269bae",
   "metadata": {},
   "source": [
    "First we need to connect to our Iceberg catalogue - since currently the client is doing the reading and writing, we also set the access credentials. This can also be done in a `.pyiceberg.yaml` file.\n",
    "\n",
    "Note that normally, the REST catalogue can handle all S3 auth, sending a signed S3 url to the client to upload - but that would require additional auth setup, so we pass the client credentials directly here"
   ]
  },
  {
   "cell_type": "code",
   "execution_count": 2,
   "id": "4476e50b-fd1a-46f8-b5fe-8ec00703f411",
   "metadata": {},
   "outputs": [],
   "source": [
    "catalog = load_catalog(\"nessie\", **{\"uri\": \"http://nessie:19120/iceberg\", \n",
    "                                    \"s3.access-key-id\": \"minio\", \n",
    "                                    \"s3.secret-access-key\": \"minio1234\",\n",
    "                                    })"
   ]
  },
  {
   "cell_type": "markdown",
   "id": "a4f79c2b-11f7-4494-b43e-0d6e32b360ab",
   "metadata": {},
   "source": [
    "Iceberg metadata is organized in `namespaces` which would be the equivalent of a schema in a database.\n",
    "\n",
    "Here we name our catalog `steam` to represent data that comes from Steam"
   ]
  },
  {
   "cell_type": "code",
   "execution_count": 6,
   "id": "6124368e-cef5-4d7e-93f3-b968963a28ed",
   "metadata": {},
   "outputs": [
    {
     "data": {
      "text/plain": [
       "[('steam',)]"
      ]
     },
     "execution_count": 6,
     "metadata": {},
     "output_type": "execute_result"
    }
   ],
   "source": [
    "catalog.create_namespace_if_not_exists(\"steam\")\n",
    "catalog.list_namespaces()"
   ]
  },
  {
   "cell_type": "markdown",
   "id": "ae4565f0-9986-43e5-bd46-368a52385cb9",
   "metadata": {},
   "source": [
    "We can define a schema using pyiceberg. Note that each field needs a unique id within the schema, as one of the ways that Iceberg can handle schema migrations is by referencing each field by position rather than by name, but we'll see an example of that later.\n",
    "\n",
    "We will create a table containing a small subset for demonstration purposes, as it's a bit tedious to write out the whole schema by hand 😅"
   ]
  },
  {
   "cell_type": "code",
   "execution_count": 7,
   "id": "1f8cc1c6-fe6c-444c-b3cf-7178e3de4c7b",
   "metadata": {},
   "outputs": [],
   "source": [
    "schema = Schema(\n",
    "    NestedField(id=1, name='recommendationid', type=LongType()),\n",
    "    NestedField(id=2, name='language', type=StringType()),\n",
    "    NestedField(id=3, name='timestamp_created', type=TimestampType()),\n",
    "    NestedField(id=4, name='voted_up', type=BooleanType()),\n",
    ")"
   ]
  },
  {
   "cell_type": "markdown",
   "id": "21bcfe87-35c5-4984-a68f-4366e6726bd8",
   "metadata": {},
   "source": [
    "Now we're ready to create the table, by passing the schema to the catalog. It will take care of writing a metadata file in the object storage."
   ]
  },
  {
   "cell_type": "code",
   "execution_count": 8,
   "id": "22cb3977-16fa-4d2a-8fc4-fed3ad7b1ec6",
   "metadata": {},
   "outputs": [],
   "source": [
    "table = catalog.create_table(\"steam.languages\", schema=schema)"
   ]
  },
  {
   "cell_type": "markdown",
   "id": "09f0034f-14c9-4753-a67a-a263272ed757",
   "metadata": {},
   "source": [
    "Let's insert some data into the table. Pyiceberg supports Arrow out of the box, so we use Polars to read data in and turn it into Arrow format"
   ]
  },
  {
   "cell_type": "code",
   "execution_count": 8,
   "id": "25df51da-92c1-4ef7-88cc-6022be92985e",
   "metadata": {},
   "outputs": [],
   "source": [
    "df = pl.read_csv(\"data/10.csv\").select(pl.col('recommendationid'), \n",
    "                                       pl.col('language'), \n",
    "                                      pl.from_epoch(pl.col('timestamp_created')),\n",
    "                                      pl.col('voted_up').cast(pl.Boolean)\n",
    "                                      ).filter(pl.col('recommendationid').is_not_null())"
   ]
  },
  {
   "cell_type": "markdown",
   "id": "e815882b-1108-4805-9be8-123c2beaf9b1",
   "metadata": {},
   "source": [
    "Now we can `overwrite` or `append` this data"
   ]
  },
  {
   "cell_type": "code",
   "execution_count": 9,
   "id": "abed7cb7-f9f7-4e11-bb9b-0db33d7c904c",
   "metadata": {},
   "outputs": [
    {
     "name": "stderr",
     "output_type": "stream",
     "text": [
      "/usr/local/lib/python3.11/site-packages/pyiceberg/table/__init__.py:649: UserWarning: Delete operation did not match any records\n",
      "  warnings.warn(\"Delete operation did not match any records\")\n",
      "/usr/local/lib/python3.11/site-packages/pydantic/main.py:415: UserWarning: Pydantic serializer warnings:\n",
      "  Expected `TableIdentifier` but got `dict` - serialized value may not be as expected\n",
      "  return self.__pydantic_serializer__.to_json(\n"
     ]
    }
   ],
   "source": [
    "table.overwrite(df.to_arrow())"
   ]
  },
  {
   "cell_type": "markdown",
   "id": "4af93e46-482a-4d00-858b-d74f6d151529",
   "metadata": {},
   "source": [
    "Now that there's data in the table, we can scan the Iceberg table, filtering out the records we don't need. Pyiceberg will use the metadata stored in Iceberg to quicklyl locate the correct files and reading the correct parts of those files"
   ]
  },
  {
   "cell_type": "code",
   "execution_count": 10,
   "id": "56ceaa2b-d995-4fd0-8cee-02deddd12236",
   "metadata": {},
   "outputs": [
    {
     "name": "stderr",
     "output_type": "stream",
     "text": [
      "/usr/local/lib/python3.11/site-packages/pyiceberg/avro/decoder.py:185: UserWarning: Falling back to pure Python Avro decoder, missing Cython implementation\n",
      "  warnings.warn(\"Falling back to pure Python Avro decoder, missing Cython implementation\")\n"
     ]
    }
   ],
   "source": [
    "t = table.scan().to_arrow()"
   ]
  },
  {
   "cell_type": "code",
   "execution_count": 11,
   "id": "bf02bd2c-03d4-4b02-b9f3-53155b1d7a06",
   "metadata": {},
   "outputs": [
    {
     "name": "stdout",
     "output_type": "stream",
     "text": [
      "Total rows in table: 238,827\n"
     ]
    }
   ],
   "source": [
    "print(f\"Total rows in table: {table.scan().to_arrow().shape[0]:,}\")"
   ]
  },
  {
   "cell_type": "code",
   "execution_count": 12,
   "id": "b09b79bd-58b2-424e-9669-96306293de40",
   "metadata": {},
   "outputs": [
    {
     "data": {
      "text/html": [
       "<div><style>\n",
       ".dataframe > thead > tr,\n",
       ".dataframe > tbody > tr {\n",
       "  text-align: right;\n",
       "  white-space: pre-wrap;\n",
       "}\n",
       "</style>\n",
       "<small>shape: (56_543, 2)</small><table border=\"1\" class=\"dataframe\"><thead><tr><th>language</th><th>voted_up</th></tr><tr><td>str</td><td>bool</td></tr></thead><tbody><tr><td>&quot;english&quot;</td><td>true</td></tr><tr><td>&quot;english&quot;</td><td>true</td></tr><tr><td>&quot;english&quot;</td><td>true</td></tr><tr><td>&quot;english&quot;</td><td>true</td></tr><tr><td>&quot;english&quot;</td><td>true</td></tr><tr><td>&hellip;</td><td>&hellip;</td></tr><tr><td>&quot;english&quot;</td><td>true</td></tr><tr><td>&quot;english&quot;</td><td>true</td></tr><tr><td>&quot;english&quot;</td><td>true</td></tr><tr><td>&quot;english&quot;</td><td>true</td></tr><tr><td>&quot;english&quot;</td><td>true</td></tr></tbody></table></div>"
      ],
      "text/plain": [
       "shape: (56_543, 2)\n",
       "┌──────────┬──────────┐\n",
       "│ language ┆ voted_up │\n",
       "│ ---      ┆ ---      │\n",
       "│ str      ┆ bool     │\n",
       "╞══════════╪══════════╡\n",
       "│ english  ┆ true     │\n",
       "│ english  ┆ true     │\n",
       "│ english  ┆ true     │\n",
       "│ english  ┆ true     │\n",
       "│ english  ┆ true     │\n",
       "│ …        ┆ …        │\n",
       "│ english  ┆ true     │\n",
       "│ english  ┆ true     │\n",
       "│ english  ┆ true     │\n",
       "│ english  ┆ true     │\n",
       "│ english  ┆ true     │\n",
       "└──────────┴──────────┘"
      ]
     },
     "execution_count": 12,
     "metadata": {},
     "output_type": "execute_result"
    }
   ],
   "source": [
    "new_df = pl.from_arrow(table.scan(selected_fields=['language', 'voted_up'], \n",
    "                                #Alternatively use expressions -> EqualTo('language', 'english')\n",
    "                                row_filter=\"language == 'english'\"\n",
    "                                 ).to_arrow()\n",
    "                      )\n",
    "new_df"
   ]
  },
  {
   "cell_type": "markdown",
   "id": "93355186-283e-43e6-8884-20dc4ac5b767",
   "metadata": {},
   "source": [
    "One problem we have now, is that we don't actually have the game id in the table - that would be pretty useful. If we just try to insert data with the added column, that wouldn't work as the Iceberg schema doesn't contain the `game_id` column and will error to protect the data."
   ]
  },
  {
   "cell_type": "code",
   "execution_count": 13,
   "id": "b7dcfdb1-fd37-4fd9-98ab-4481d33c442d",
   "metadata": {},
   "outputs": [
    {
     "ename": "ValueError",
     "evalue": "PyArrow table contains more columns: game_id. Update the schema first (hint, use union_by_name).",
     "output_type": "error",
     "traceback": [
      "\u001b[0;31m---------------------------------------------------------------------------\u001b[0m",
      "\u001b[0;31mKeyError\u001b[0m                                  Traceback (most recent call last)",
      "File \u001b[0;32m/usr/local/lib/python3.11/site-packages/pyiceberg/table/name_mapping.py:80\u001b[0m, in \u001b[0;36mNameMapping.find\u001b[0;34m(self, *names)\u001b[0m\n\u001b[1;32m     79\u001b[0m \u001b[38;5;28;01mtry\u001b[39;00m:\n\u001b[0;32m---> 80\u001b[0m     \u001b[38;5;28;01mreturn\u001b[39;00m \u001b[38;5;28;43mself\u001b[39;49m\u001b[38;5;241;43m.\u001b[39;49m\u001b[43m_field_by_name\u001b[49m\u001b[43m[\u001b[49m\u001b[43mname\u001b[49m\u001b[43m]\u001b[49m\n\u001b[1;32m     81\u001b[0m \u001b[38;5;28;01mexcept\u001b[39;00m \u001b[38;5;167;01mKeyError\u001b[39;00m \u001b[38;5;28;01mas\u001b[39;00m e:\n",
      "\u001b[0;31mKeyError\u001b[0m: 'game_id'",
      "\nThe above exception was the direct cause of the following exception:\n",
      "\u001b[0;31mValueError\u001b[0m                                Traceback (most recent call last)",
      "File \u001b[0;32m/usr/local/lib/python3.11/site-packages/pyiceberg/io/pyarrow.py:2229\u001b[0m, in \u001b[0;36m_check_pyarrow_schema_compatible\u001b[0;34m(requested_schema, provided_schema, downcast_ns_timestamp_to_us)\u001b[0m\n\u001b[1;32m   2228\u001b[0m \u001b[38;5;28;01mtry\u001b[39;00m:\n\u001b[0;32m-> 2229\u001b[0m     provided_schema \u001b[38;5;241m=\u001b[39m \u001b[43mpyarrow_to_schema\u001b[49m\u001b[43m(\u001b[49m\n\u001b[1;32m   2230\u001b[0m \u001b[43m        \u001b[49m\u001b[43mprovided_schema\u001b[49m\u001b[43m,\u001b[49m\u001b[43m \u001b[49m\u001b[43mname_mapping\u001b[49m\u001b[38;5;241;43m=\u001b[39;49m\u001b[43mname_mapping\u001b[49m\u001b[43m,\u001b[49m\u001b[43m \u001b[49m\u001b[43mdowncast_ns_timestamp_to_us\u001b[49m\u001b[38;5;241;43m=\u001b[39;49m\u001b[43mdowncast_ns_timestamp_to_us\u001b[49m\n\u001b[1;32m   2231\u001b[0m \u001b[43m    \u001b[49m\u001b[43m)\u001b[49m\n\u001b[1;32m   2232\u001b[0m \u001b[38;5;28;01mexcept\u001b[39;00m \u001b[38;5;167;01mValueError\u001b[39;00m \u001b[38;5;28;01mas\u001b[39;00m e:\n",
      "File \u001b[0;32m/usr/local/lib/python3.11/site-packages/pyiceberg/io/pyarrow.py:828\u001b[0m, in \u001b[0;36mpyarrow_to_schema\u001b[0;34m(schema, name_mapping, downcast_ns_timestamp_to_us)\u001b[0m\n\u001b[1;32m    825\u001b[0m     \u001b[38;5;28;01mraise\u001b[39;00m \u001b[38;5;167;01mValueError\u001b[39;00m(\n\u001b[1;32m    826\u001b[0m         \u001b[38;5;124m\"\u001b[39m\u001b[38;5;124mParquet file does not have field-ids and the Iceberg table does not have \u001b[39m\u001b[38;5;124m'\u001b[39m\u001b[38;5;124mschema.name-mapping.default\u001b[39m\u001b[38;5;124m'\u001b[39m\u001b[38;5;124m defined\u001b[39m\u001b[38;5;124m\"\u001b[39m\n\u001b[1;32m    827\u001b[0m     )\n\u001b[0;32m--> 828\u001b[0m \u001b[38;5;28;01mreturn\u001b[39;00m \u001b[43mvisit_pyarrow\u001b[49m\u001b[43m(\u001b[49m\u001b[43mschema\u001b[49m\u001b[43m,\u001b[49m\u001b[43m \u001b[49m\u001b[43mvisitor\u001b[49m\u001b[43m)\u001b[49m\n",
      "File \u001b[0;32m/usr/local/lib/python3.11/functools.py:909\u001b[0m, in \u001b[0;36msingledispatch.<locals>.wrapper\u001b[0;34m(*args, **kw)\u001b[0m\n\u001b[1;32m    906\u001b[0m     \u001b[38;5;28;01mraise\u001b[39;00m \u001b[38;5;167;01mTypeError\u001b[39;00m(\u001b[38;5;124mf\u001b[39m\u001b[38;5;124m'\u001b[39m\u001b[38;5;132;01m{\u001b[39;00mfuncname\u001b[38;5;132;01m}\u001b[39;00m\u001b[38;5;124m requires at least \u001b[39m\u001b[38;5;124m'\u001b[39m\n\u001b[1;32m    907\u001b[0m                     \u001b[38;5;124m'\u001b[39m\u001b[38;5;124m1 positional argument\u001b[39m\u001b[38;5;124m'\u001b[39m)\n\u001b[0;32m--> 909\u001b[0m \u001b[38;5;28;01mreturn\u001b[39;00m \u001b[43mdispatch\u001b[49m\u001b[43m(\u001b[49m\u001b[43margs\u001b[49m\u001b[43m[\u001b[49m\u001b[38;5;241;43m0\u001b[39;49m\u001b[43m]\u001b[49m\u001b[38;5;241;43m.\u001b[39;49m\u001b[38;5;18;43m__class__\u001b[39;49m\u001b[43m)\u001b[49m\u001b[43m(\u001b[49m\u001b[38;5;241;43m*\u001b[39;49m\u001b[43margs\u001b[49m\u001b[43m,\u001b[49m\u001b[43m \u001b[49m\u001b[38;5;241;43m*\u001b[39;49m\u001b[38;5;241;43m*\u001b[39;49m\u001b[43mkw\u001b[49m\u001b[43m)\u001b[49m\n",
      "File \u001b[0;32m/usr/local/lib/python3.11/site-packages/pyiceberg/io/pyarrow.py:857\u001b[0m, in \u001b[0;36m_\u001b[0;34m(obj, visitor)\u001b[0m\n\u001b[1;32m    855\u001b[0m \u001b[38;5;129m@visit_pyarrow\u001b[39m\u001b[38;5;241m.\u001b[39mregister(pa\u001b[38;5;241m.\u001b[39mSchema)\n\u001b[1;32m    856\u001b[0m \u001b[38;5;28;01mdef\u001b[39;00m \u001b[38;5;21m_\u001b[39m(obj: pa\u001b[38;5;241m.\u001b[39mSchema, visitor: PyArrowSchemaVisitor[T]) \u001b[38;5;241m-\u001b[39m\u001b[38;5;241m>\u001b[39m T:\n\u001b[0;32m--> 857\u001b[0m     \u001b[38;5;28;01mreturn\u001b[39;00m visitor\u001b[38;5;241m.\u001b[39mschema(obj, \u001b[43mvisit_pyarrow\u001b[49m\u001b[43m(\u001b[49m\u001b[43mpa\u001b[49m\u001b[38;5;241;43m.\u001b[39;49m\u001b[43mstruct\u001b[49m\u001b[43m(\u001b[49m\u001b[43mobj\u001b[49m\u001b[43m)\u001b[49m\u001b[43m,\u001b[49m\u001b[43m \u001b[49m\u001b[43mvisitor\u001b[49m\u001b[43m)\u001b[49m)\n",
      "File \u001b[0;32m/usr/local/lib/python3.11/functools.py:909\u001b[0m, in \u001b[0;36msingledispatch.<locals>.wrapper\u001b[0;34m(*args, **kw)\u001b[0m\n\u001b[1;32m    906\u001b[0m     \u001b[38;5;28;01mraise\u001b[39;00m \u001b[38;5;167;01mTypeError\u001b[39;00m(\u001b[38;5;124mf\u001b[39m\u001b[38;5;124m'\u001b[39m\u001b[38;5;132;01m{\u001b[39;00mfuncname\u001b[38;5;132;01m}\u001b[39;00m\u001b[38;5;124m requires at least \u001b[39m\u001b[38;5;124m'\u001b[39m\n\u001b[1;32m    907\u001b[0m                     \u001b[38;5;124m'\u001b[39m\u001b[38;5;124m1 positional argument\u001b[39m\u001b[38;5;124m'\u001b[39m)\n\u001b[0;32m--> 909\u001b[0m \u001b[38;5;28;01mreturn\u001b[39;00m \u001b[43mdispatch\u001b[49m\u001b[43m(\u001b[49m\u001b[43margs\u001b[49m\u001b[43m[\u001b[49m\u001b[38;5;241;43m0\u001b[39;49m\u001b[43m]\u001b[49m\u001b[38;5;241;43m.\u001b[39;49m\u001b[38;5;18;43m__class__\u001b[39;49m\u001b[43m)\u001b[49m\u001b[43m(\u001b[49m\u001b[38;5;241;43m*\u001b[39;49m\u001b[43margs\u001b[49m\u001b[43m,\u001b[49m\u001b[43m \u001b[49m\u001b[38;5;241;43m*\u001b[39;49m\u001b[38;5;241;43m*\u001b[39;49m\u001b[43mkw\u001b[49m\u001b[43m)\u001b[49m\n",
      "File \u001b[0;32m/usr/local/lib/python3.11/site-packages/pyiceberg/io/pyarrow.py:867\u001b[0m, in \u001b[0;36m_\u001b[0;34m(obj, visitor)\u001b[0m\n\u001b[1;32m    866\u001b[0m result \u001b[38;5;241m=\u001b[39m visit_pyarrow(field\u001b[38;5;241m.\u001b[39mtype, visitor)\n\u001b[0;32m--> 867\u001b[0m results\u001b[38;5;241m.\u001b[39mappend(\u001b[43mvisitor\u001b[49m\u001b[38;5;241;43m.\u001b[39;49m\u001b[43mfield\u001b[49m\u001b[43m(\u001b[49m\u001b[43mfield\u001b[49m\u001b[43m,\u001b[49m\u001b[43m \u001b[49m\u001b[43mresult\u001b[49m\u001b[43m)\u001b[49m)\n\u001b[1;32m    868\u001b[0m visitor\u001b[38;5;241m.\u001b[39mafter_field(field)\n",
      "File \u001b[0;32m/usr/local/lib/python3.11/site-packages/pyiceberg/io/pyarrow.py:1024\u001b[0m, in \u001b[0;36m_ConvertToIceberg.field\u001b[0;34m(self, field, field_result)\u001b[0m\n\u001b[1;32m   1023\u001b[0m \u001b[38;5;28;01mdef\u001b[39;00m \u001b[38;5;21mfield\u001b[39m(\u001b[38;5;28mself\u001b[39m, field: pa\u001b[38;5;241m.\u001b[39mField, field_result: IcebergType) \u001b[38;5;241m-\u001b[39m\u001b[38;5;241m>\u001b[39m NestedField:\n\u001b[0;32m-> 1024\u001b[0m     field_id \u001b[38;5;241m=\u001b[39m \u001b[38;5;28;43mself\u001b[39;49m\u001b[38;5;241;43m.\u001b[39;49m\u001b[43m_field_id\u001b[49m\u001b[43m(\u001b[49m\u001b[43mfield\u001b[49m\u001b[43m)\u001b[49m\n\u001b[1;32m   1025\u001b[0m     field_doc \u001b[38;5;241m=\u001b[39m doc_str\u001b[38;5;241m.\u001b[39mdecode() \u001b[38;5;28;01mif\u001b[39;00m (field\u001b[38;5;241m.\u001b[39mmetadata \u001b[38;5;129;01mand\u001b[39;00m (doc_str \u001b[38;5;241m:=\u001b[39m field\u001b[38;5;241m.\u001b[39mmetadata\u001b[38;5;241m.\u001b[39mget(PYARROW_FIELD_DOC_KEY))) \u001b[38;5;28;01melse\u001b[39;00m \u001b[38;5;28;01mNone\u001b[39;00m\n",
      "File \u001b[0;32m/usr/local/lib/python3.11/site-packages/pyiceberg/io/pyarrow.py:1011\u001b[0m, in \u001b[0;36m_ConvertToIceberg._field_id\u001b[0;34m(self, field)\u001b[0m\n\u001b[1;32m   1010\u001b[0m \u001b[38;5;28;01mif\u001b[39;00m \u001b[38;5;28mself\u001b[39m\u001b[38;5;241m.\u001b[39m_name_mapping:\n\u001b[0;32m-> 1011\u001b[0m     \u001b[38;5;28;01mreturn\u001b[39;00m \u001b[38;5;28;43mself\u001b[39;49m\u001b[38;5;241;43m.\u001b[39;49m\u001b[43m_name_mapping\u001b[49m\u001b[38;5;241;43m.\u001b[39;49m\u001b[43mfind\u001b[49m\u001b[43m(\u001b[49m\u001b[38;5;241;43m*\u001b[39;49m\u001b[38;5;28;43mself\u001b[39;49m\u001b[38;5;241;43m.\u001b[39;49m\u001b[43m_field_names\u001b[49m\u001b[43m)\u001b[49m\u001b[38;5;241m.\u001b[39mfield_id\n\u001b[1;32m   1012\u001b[0m \u001b[38;5;28;01melif\u001b[39;00m (field_id \u001b[38;5;241m:=\u001b[39m _get_field_id(field)) \u001b[38;5;129;01mis\u001b[39;00m \u001b[38;5;129;01mnot\u001b[39;00m \u001b[38;5;28;01mNone\u001b[39;00m:\n",
      "File \u001b[0;32m/usr/local/lib/python3.11/site-packages/pyiceberg/table/name_mapping.py:82\u001b[0m, in \u001b[0;36mNameMapping.find\u001b[0;34m(self, *names)\u001b[0m\n\u001b[1;32m     81\u001b[0m \u001b[38;5;28;01mexcept\u001b[39;00m \u001b[38;5;167;01mKeyError\u001b[39;00m \u001b[38;5;28;01mas\u001b[39;00m e:\n\u001b[0;32m---> 82\u001b[0m     \u001b[38;5;28;01mraise\u001b[39;00m \u001b[38;5;167;01mValueError\u001b[39;00m(\u001b[38;5;124mf\u001b[39m\u001b[38;5;124m\"\u001b[39m\u001b[38;5;124mCould not find field with name: \u001b[39m\u001b[38;5;132;01m{\u001b[39;00mname\u001b[38;5;132;01m}\u001b[39;00m\u001b[38;5;124m\"\u001b[39m) \u001b[38;5;28;01mfrom\u001b[39;00m \u001b[38;5;21;01me\u001b[39;00m\n",
      "\u001b[0;31mValueError\u001b[0m: Could not find field with name: game_id",
      "\nThe above exception was the direct cause of the following exception:\n",
      "\u001b[0;31mValueError\u001b[0m                                Traceback (most recent call last)",
      "Cell \u001b[0;32mIn[13], line 2\u001b[0m\n\u001b[1;32m      1\u001b[0m df_game \u001b[38;5;241m=\u001b[39m df\u001b[38;5;241m.\u001b[39mwith_columns(game_id\u001b[38;5;241m=\u001b[39mpl\u001b[38;5;241m.\u001b[39mlit(\u001b[38;5;124m\"\u001b[39m\u001b[38;5;124m10\u001b[39m\u001b[38;5;124m\"\u001b[39m))\n\u001b[0;32m----> 2\u001b[0m \u001b[43mtable\u001b[49m\u001b[38;5;241;43m.\u001b[39;49m\u001b[43moverwrite\u001b[49m\u001b[43m(\u001b[49m\u001b[43mdf_game\u001b[49m\u001b[38;5;241;43m.\u001b[39;49m\u001b[43mto_arrow\u001b[49m\u001b[43m(\u001b[49m\u001b[43m)\u001b[49m\u001b[43m)\u001b[49m\n",
      "File \u001b[0;32m/usr/local/lib/python3.11/site-packages/pyiceberg/table/__init__.py:1598\u001b[0m, in \u001b[0;36mTable.overwrite\u001b[0;34m(self, df, overwrite_filter, snapshot_properties)\u001b[0m\n\u001b[1;32m   1582\u001b[0m \u001b[38;5;250m\u001b[39m\u001b[38;5;124;03m\"\"\"\u001b[39;00m\n\u001b[1;32m   1583\u001b[0m \u001b[38;5;124;03mShorthand for overwriting the table with a PyArrow table.\u001b[39;00m\n\u001b[1;32m   1584\u001b[0m \n\u001b[0;32m   (...)\u001b[0m\n\u001b[1;32m   1595\u001b[0m \u001b[38;5;124;03m    snapshot_properties: Custom properties to be added to the snapshot summary\u001b[39;00m\n\u001b[1;32m   1596\u001b[0m \u001b[38;5;124;03m\"\"\"\u001b[39;00m\n\u001b[1;32m   1597\u001b[0m \u001b[38;5;28;01mwith\u001b[39;00m \u001b[38;5;28mself\u001b[39m\u001b[38;5;241m.\u001b[39mtransaction() \u001b[38;5;28;01mas\u001b[39;00m tx:\n\u001b[0;32m-> 1598\u001b[0m     \u001b[43mtx\u001b[49m\u001b[38;5;241;43m.\u001b[39;49m\u001b[43moverwrite\u001b[49m\u001b[43m(\u001b[49m\u001b[43mdf\u001b[49m\u001b[38;5;241;43m=\u001b[39;49m\u001b[43mdf\u001b[49m\u001b[43m,\u001b[49m\u001b[43m \u001b[49m\u001b[43moverwrite_filter\u001b[49m\u001b[38;5;241;43m=\u001b[39;49m\u001b[43moverwrite_filter\u001b[49m\u001b[43m,\u001b[49m\u001b[43m \u001b[49m\u001b[43msnapshot_properties\u001b[49m\u001b[38;5;241;43m=\u001b[39;49m\u001b[43msnapshot_properties\u001b[49m\u001b[43m)\u001b[49m\n",
      "File \u001b[0;32m/usr/local/lib/python3.11/site-packages/pyiceberg/table/__init__.py:550\u001b[0m, in \u001b[0;36mTransaction.overwrite\u001b[0;34m(self, df, overwrite_filter, snapshot_properties)\u001b[0m\n\u001b[1;32m    546\u001b[0m     \u001b[38;5;28;01mraise\u001b[39;00m \u001b[38;5;167;01mValueError\u001b[39;00m(\n\u001b[1;32m    547\u001b[0m         \u001b[38;5;124mf\u001b[39m\u001b[38;5;124m\"\u001b[39m\u001b[38;5;124mNot all partition types are supported for writes. Following partitions cannot be written using pyarrow: \u001b[39m\u001b[38;5;132;01m{\u001b[39;00munsupported_partitions\u001b[38;5;132;01m}\u001b[39;00m\u001b[38;5;124m.\u001b[39m\u001b[38;5;124m\"\u001b[39m\n\u001b[1;32m    548\u001b[0m     )\n\u001b[1;32m    549\u001b[0m downcast_ns_timestamp_to_us \u001b[38;5;241m=\u001b[39m Config()\u001b[38;5;241m.\u001b[39mget_bool(DOWNCAST_NS_TIMESTAMP_TO_US_ON_WRITE) \u001b[38;5;129;01mor\u001b[39;00m \u001b[38;5;28;01mFalse\u001b[39;00m\n\u001b[0;32m--> 550\u001b[0m \u001b[43m_check_pyarrow_schema_compatible\u001b[49m\u001b[43m(\u001b[49m\n\u001b[1;32m    551\u001b[0m \u001b[43m    \u001b[49m\u001b[38;5;28;43mself\u001b[39;49m\u001b[38;5;241;43m.\u001b[39;49m\u001b[43m_table\u001b[49m\u001b[38;5;241;43m.\u001b[39;49m\u001b[43mschema\u001b[49m\u001b[43m(\u001b[49m\u001b[43m)\u001b[49m\u001b[43m,\u001b[49m\u001b[43m \u001b[49m\u001b[43mprovided_schema\u001b[49m\u001b[38;5;241;43m=\u001b[39;49m\u001b[43mdf\u001b[49m\u001b[38;5;241;43m.\u001b[39;49m\u001b[43mschema\u001b[49m\u001b[43m,\u001b[49m\u001b[43m \u001b[49m\u001b[43mdowncast_ns_timestamp_to_us\u001b[49m\u001b[38;5;241;43m=\u001b[39;49m\u001b[43mdowncast_ns_timestamp_to_us\u001b[49m\n\u001b[1;32m    552\u001b[0m \u001b[43m\u001b[49m\u001b[43m)\u001b[49m\n\u001b[1;32m    554\u001b[0m \u001b[38;5;28mself\u001b[39m\u001b[38;5;241m.\u001b[39mdelete(delete_filter\u001b[38;5;241m=\u001b[39moverwrite_filter, snapshot_properties\u001b[38;5;241m=\u001b[39msnapshot_properties)\n\u001b[1;32m    556\u001b[0m \u001b[38;5;28;01mwith\u001b[39;00m \u001b[38;5;28mself\u001b[39m\u001b[38;5;241m.\u001b[39mupdate_snapshot(snapshot_properties\u001b[38;5;241m=\u001b[39msnapshot_properties)\u001b[38;5;241m.\u001b[39mfast_append() \u001b[38;5;28;01mas\u001b[39;00m update_snapshot:\n\u001b[1;32m    557\u001b[0m     \u001b[38;5;66;03m# skip writing data files if the dataframe is empty\u001b[39;00m\n",
      "File \u001b[0;32m/usr/local/lib/python3.11/site-packages/pyiceberg/io/pyarrow.py:2235\u001b[0m, in \u001b[0;36m_check_pyarrow_schema_compatible\u001b[0;34m(requested_schema, provided_schema, downcast_ns_timestamp_to_us)\u001b[0m\n\u001b[1;32m   2233\u001b[0m     provided_schema \u001b[38;5;241m=\u001b[39m _pyarrow_to_schema_without_ids(provided_schema, downcast_ns_timestamp_to_us\u001b[38;5;241m=\u001b[39mdowncast_ns_timestamp_to_us)\n\u001b[1;32m   2234\u001b[0m     additional_names \u001b[38;5;241m=\u001b[39m \u001b[38;5;28mset\u001b[39m(provided_schema\u001b[38;5;241m.\u001b[39m_name_to_id\u001b[38;5;241m.\u001b[39mkeys()) \u001b[38;5;241m-\u001b[39m \u001b[38;5;28mset\u001b[39m(requested_schema\u001b[38;5;241m.\u001b[39m_name_to_id\u001b[38;5;241m.\u001b[39mkeys())\n\u001b[0;32m-> 2235\u001b[0m     \u001b[38;5;28;01mraise\u001b[39;00m \u001b[38;5;167;01mValueError\u001b[39;00m(\n\u001b[1;32m   2236\u001b[0m         \u001b[38;5;124mf\u001b[39m\u001b[38;5;124m\"\u001b[39m\u001b[38;5;124mPyArrow table contains more columns: \u001b[39m\u001b[38;5;132;01m{\u001b[39;00m\u001b[38;5;124m'\u001b[39m\u001b[38;5;124m, \u001b[39m\u001b[38;5;124m'\u001b[39m\u001b[38;5;241m.\u001b[39mjoin(\u001b[38;5;28msorted\u001b[39m(additional_names))\u001b[38;5;132;01m}\u001b[39;00m\u001b[38;5;124m. Update the schema first (hint, use union_by_name).\u001b[39m\u001b[38;5;124m\"\u001b[39m\n\u001b[1;32m   2237\u001b[0m     ) \u001b[38;5;28;01mfrom\u001b[39;00m \u001b[38;5;21;01me\u001b[39;00m\n\u001b[1;32m   2239\u001b[0m _check_schema_compatible(requested_schema, provided_schema)\n",
      "\u001b[0;31mValueError\u001b[0m: PyArrow table contains more columns: game_id. Update the schema first (hint, use union_by_name)."
     ]
    }
   ],
   "source": [
    "df_game = df.with_columns(game_id=pl.lit(\"10\"))\n",
    "table.overwrite(df_game.to_arrow())"
   ]
  },
  {
   "cell_type": "markdown",
   "id": "a72f3c33-de3f-49da-b204-60d959ff2b83",
   "metadata": {},
   "source": [
    "Luckily in Iceberg, we can update the schema without having to rewrite all the physical files, much like in a traditional RDBMS"
   ]
  },
  {
   "cell_type": "code",
   "execution_count": 14,
   "id": "184212d6-4073-4eb0-bfd4-71299010b063",
   "metadata": {},
   "outputs": [
    {
     "name": "stderr",
     "output_type": "stream",
     "text": [
      "/usr/local/lib/python3.11/site-packages/pydantic/functional_serializers.py:391: UserWarning: Pydantic serializer warnings:\n",
      "  Expected `TableIdentifier` but got `dict` - serialized value may not be as expected\n",
      "  lambda x, h: h(x), schema=core_schema.any_schema()\n"
     ]
    }
   ],
   "source": [
    "with table.update_schema() as update:\n",
    "    update.add_column('game_id', StringType())"
   ]
  },
  {
   "cell_type": "code",
   "execution_count": 15,
   "id": "363d7fee-69af-4c68-b77e-b5918225fe4b",
   "metadata": {},
   "outputs": [
    {
     "data": {
      "text/plain": [
       "Schema(NestedField(field_id=1, name='recommendationid', field_type=LongType(), required=False), NestedField(field_id=2, name='language', field_type=StringType(), required=False), NestedField(field_id=3, name='timestamp_created', field_type=TimestampType(), required=False), NestedField(field_id=4, name='voted_up', field_type=BooleanType(), required=False), NestedField(field_id=5, name='game_id', field_type=StringType(), required=False), schema_id=1, identifier_field_ids=[])"
      ]
     },
     "execution_count": 15,
     "metadata": {},
     "output_type": "execute_result"
    }
   ],
   "source": [
    "table.schema()"
   ]
  },
  {
   "cell_type": "markdown",
   "id": "5af63725-fc28-4e29-b91d-cc4612375e34",
   "metadata": {},
   "source": [
    "PyIceberg makes sure to give it a valid ID and puts it at the end of the schema. We can move the fields around as we want by updating the metadata, Iceberg keeps track of the corresponding data positions without having to rewrite the files"
   ]
  },
  {
   "cell_type": "code",
   "execution_count": 16,
   "id": "14a6cb3f-e370-469b-a31f-c49676703cc2",
   "metadata": {},
   "outputs": [],
   "source": [
    "with table.update_schema() as update:\n",
    "    update.move_first('game_id')"
   ]
  },
  {
   "cell_type": "code",
   "execution_count": 17,
   "id": "b3b566f6-bd3c-4d6b-b9dc-b0fc90ba5cd5",
   "metadata": {},
   "outputs": [
    {
     "data": {
      "text/plain": [
       "Schema(NestedField(field_id=5, name='game_id', field_type=StringType(), required=False), NestedField(field_id=1, name='recommendationid', field_type=LongType(), required=False), NestedField(field_id=2, name='language', field_type=StringType(), required=False), NestedField(field_id=3, name='timestamp_created', field_type=TimestampType(), required=False), NestedField(field_id=4, name='voted_up', field_type=BooleanType(), required=False), schema_id=2, identifier_field_ids=[])"
      ]
     },
     "execution_count": 17,
     "metadata": {},
     "output_type": "execute_result"
    }
   ],
   "source": [
    "table.schema()"
   ]
  },
  {
   "cell_type": "code",
   "execution_count": 18,
   "id": "bd84eae6-b6a2-4363-b13d-9f8188d7b220",
   "metadata": {},
   "outputs": [],
   "source": [
    "table.overwrite(df_game.to_arrow())"
   ]
  },
  {
   "cell_type": "markdown",
   "id": "7f11a5df-8cb1-4ec8-9c47-bab6c6594b28",
   "metadata": {},
   "source": [
    "`game_id` should now be the first column of the table"
   ]
  },
  {
   "cell_type": "code",
   "execution_count": 19,
   "id": "180392ca-7dca-4ba6-be15-a295a83a90e7",
   "metadata": {},
   "outputs": [
    {
     "data": {
      "text/html": [
       "<div><style>\n",
       ".dataframe > thead > tr,\n",
       ".dataframe > tbody > tr {\n",
       "  text-align: right;\n",
       "  white-space: pre-wrap;\n",
       "}\n",
       "</style>\n",
       "<small>shape: (238_827, 5)</small><table border=\"1\" class=\"dataframe\"><thead><tr><th>game_id</th><th>recommendationid</th><th>language</th><th>timestamp_created</th><th>voted_up</th></tr><tr><td>str</td><td>i64</td><td>str</td><td>datetime[μs]</td><td>bool</td></tr></thead><tbody><tr><td>&quot;10&quot;</td><td>147937429</td><td>&quot;english&quot;</td><td>2023-10-09 18:11:42</td><td>true</td></tr><tr><td>&quot;10&quot;</td><td>166664841</td><td>&quot;russian&quot;</td><td>2024-06-04 14:08:20</td><td>true</td></tr><tr><td>&quot;10&quot;</td><td>166664763</td><td>&quot;russian&quot;</td><td>2024-06-04 14:06:49</td><td>true</td></tr><tr><td>&quot;10&quot;</td><td>166663001</td><td>&quot;turkish&quot;</td><td>2024-06-04 13:36:22</td><td>false</td></tr><tr><td>&quot;10&quot;</td><td>166658743</td><td>&quot;brazilian&quot;</td><td>2024-06-04 12:16:25</td><td>true</td></tr><tr><td>&hellip;</td><td>&hellip;</td><td>&hellip;</td><td>&hellip;</td><td>&hellip;</td></tr><tr><td>&quot;10&quot;</td><td>8227337</td><td>&quot;polish&quot;</td><td>2013-12-23 16:17:23</td><td>true</td></tr><tr><td>&quot;10&quot;</td><td>149330962</td><td>&quot;russian&quot;</td><td>2023-11-01 19:58:03</td><td>true</td></tr><tr><td>&quot;10&quot;</td><td>149284037</td><td>&quot;english&quot;</td><td>2023-11-01 00:58:41</td><td>true</td></tr><tr><td>&quot;10&quot;</td><td>127959835</td><td>&quot;schinese&quot;</td><td>2022-12-05 04:31:44</td><td>true</td></tr><tr><td>&quot;10&quot;</td><td>1092034</td><td>&quot;english&quot;</td><td>2010-12-09 18:18:09</td><td>true</td></tr></tbody></table></div>"
      ],
      "text/plain": [
       "shape: (238_827, 5)\n",
       "┌─────────┬──────────────────┬───────────┬─────────────────────┬──────────┐\n",
       "│ game_id ┆ recommendationid ┆ language  ┆ timestamp_created   ┆ voted_up │\n",
       "│ ---     ┆ ---              ┆ ---       ┆ ---                 ┆ ---      │\n",
       "│ str     ┆ i64              ┆ str       ┆ datetime[μs]        ┆ bool     │\n",
       "╞═════════╪══════════════════╪═══════════╪═════════════════════╪══════════╡\n",
       "│ 10      ┆ 147937429        ┆ english   ┆ 2023-10-09 18:11:42 ┆ true     │\n",
       "│ 10      ┆ 166664841        ┆ russian   ┆ 2024-06-04 14:08:20 ┆ true     │\n",
       "│ 10      ┆ 166664763        ┆ russian   ┆ 2024-06-04 14:06:49 ┆ true     │\n",
       "│ 10      ┆ 166663001        ┆ turkish   ┆ 2024-06-04 13:36:22 ┆ false    │\n",
       "│ 10      ┆ 166658743        ┆ brazilian ┆ 2024-06-04 12:16:25 ┆ true     │\n",
       "│ …       ┆ …                ┆ …         ┆ …                   ┆ …        │\n",
       "│ 10      ┆ 8227337          ┆ polish    ┆ 2013-12-23 16:17:23 ┆ true     │\n",
       "│ 10      ┆ 149330962        ┆ russian   ┆ 2023-11-01 19:58:03 ┆ true     │\n",
       "│ 10      ┆ 149284037        ┆ english   ┆ 2023-11-01 00:58:41 ┆ true     │\n",
       "│ 10      ┆ 127959835        ┆ schinese  ┆ 2022-12-05 04:31:44 ┆ true     │\n",
       "│ 10      ┆ 1092034          ┆ english   ┆ 2010-12-09 18:18:09 ┆ true     │\n",
       "└─────────┴──────────────────┴───────────┴─────────────────────┴──────────┘"
      ]
     },
     "execution_count": 19,
     "metadata": {},
     "output_type": "execute_result"
    }
   ],
   "source": [
    "pl.from_arrow(table.scan().to_arrow())"
   ]
  },
  {
   "cell_type": "markdown",
   "id": "0c7efea0-619e-47f2-8abc-3f973629acee",
   "metadata": {},
   "source": [
    "Now we're ready to insert some more data using `.append`"
   ]
  },
  {
   "cell_type": "code",
   "execution_count": 20,
   "id": "e0ff887d-1817-4e7c-bac0-ce3d9c3186ef",
   "metadata": {},
   "outputs": [
    {
     "data": {
      "text/html": [
       "<div><style>\n",
       ".dataframe > thead > tr,\n",
       ".dataframe > tbody > tr {\n",
       "  text-align: right;\n",
       "  white-space: pre-wrap;\n",
       "}\n",
       "</style>\n",
       "<small>shape: (5, 5)</small><table border=\"1\" class=\"dataframe\"><thead><tr><th>game_id</th><th>recommendationid</th><th>language</th><th>timestamp_created</th><th>voted_up</th></tr><tr><td>str</td><td>i64</td><td>str</td><td>datetime[μs]</td><td>bool</td></tr></thead><tbody><tr><td>&quot;289070&quot;</td><td>166714446</td><td>&quot;schinese&quot;</td><td>2024-06-05 05:41:08</td><td>true</td></tr><tr><td>&quot;289070&quot;</td><td>134583732</td><td>&quot;english&quot;</td><td>2023-03-13 05:33:40</td><td>true</td></tr><tr><td>&quot;289070&quot;</td><td>166713515</td><td>&quot;schinese&quot;</td><td>2024-06-05 05:14:50</td><td>true</td></tr><tr><td>&quot;289070&quot;</td><td>166712974</td><td>&quot;schinese&quot;</td><td>2024-06-05 04:59:06</td><td>true</td></tr><tr><td>&quot;289070&quot;</td><td>166712070</td><td>&quot;english&quot;</td><td>2024-06-05 04:34:35</td><td>true</td></tr></tbody></table></div>"
      ],
      "text/plain": [
       "shape: (5, 5)\n",
       "┌─────────┬──────────────────┬──────────┬─────────────────────┬──────────┐\n",
       "│ game_id ┆ recommendationid ┆ language ┆ timestamp_created   ┆ voted_up │\n",
       "│ ---     ┆ ---              ┆ ---      ┆ ---                 ┆ ---      │\n",
       "│ str     ┆ i64              ┆ str      ┆ datetime[μs]        ┆ bool     │\n",
       "╞═════════╪══════════════════╪══════════╪═════════════════════╪══════════╡\n",
       "│ 289070  ┆ 166714446        ┆ schinese ┆ 2024-06-05 05:41:08 ┆ true     │\n",
       "│ 289070  ┆ 134583732        ┆ english  ┆ 2023-03-13 05:33:40 ┆ true     │\n",
       "│ 289070  ┆ 166713515        ┆ schinese ┆ 2024-06-05 05:14:50 ┆ true     │\n",
       "│ 289070  ┆ 166712974        ┆ schinese ┆ 2024-06-05 04:59:06 ┆ true     │\n",
       "│ 289070  ┆ 166712070        ┆ english  ┆ 2024-06-05 04:34:35 ┆ true     │\n",
       "└─────────┴──────────────────┴──────────┴─────────────────────┴──────────┘"
      ]
     },
     "execution_count": 20,
     "metadata": {},
     "output_type": "execute_result"
    }
   ],
   "source": [
    "civ6_df = pl.read_csv('data/289070.csv').select(\n",
    "    pl.lit('289070').alias('game_id'),\n",
    "    pl.col('recommendationid'),\n",
    "    pl.col('language'),\n",
    "    pl.from_epoch(pl.col('timestamp_created')),\n",
    "    pl.col('voted_up').cast(pl.Boolean)\n",
    ")\n",
    "civ6_df.head()"
   ]
  },
  {
   "cell_type": "code",
   "execution_count": 21,
   "id": "2c8282d9-3095-45d4-a0d4-a54cb4b3eb72",
   "metadata": {},
   "outputs": [],
   "source": [
    "table.append(civ6_df.to_arrow())"
   ]
  },
  {
   "cell_type": "code",
   "execution_count": 22,
   "id": "9a038937-396d-4d17-af08-a6cd492055d5",
   "metadata": {},
   "outputs": [
    {
     "name": "stdout",
     "output_type": "stream",
     "text": [
      "Current rows: 549,712\n"
     ]
    },
    {
     "data": {
      "text/html": [
       "<div><style>\n",
       ".dataframe > thead > tr,\n",
       ".dataframe > tbody > tr {\n",
       "  text-align: right;\n",
       "  white-space: pre-wrap;\n",
       "}\n",
       "</style>\n",
       "<small>shape: (2, 1)</small><table border=\"1\" class=\"dataframe\"><thead><tr><th>game_id</th></tr><tr><td>str</td></tr></thead><tbody><tr><td>&quot;10&quot;</td></tr><tr><td>&quot;289070&quot;</td></tr></tbody></table></div>"
      ],
      "text/plain": [
       "shape: (2, 1)\n",
       "┌─────────┐\n",
       "│ game_id │\n",
       "│ ---     │\n",
       "│ str     │\n",
       "╞═════════╡\n",
       "│ 10      │\n",
       "│ 289070  │\n",
       "└─────────┘"
      ]
     },
     "execution_count": 22,
     "metadata": {},
     "output_type": "execute_result"
    }
   ],
   "source": [
    "t = table.scan().to_arrow()\n",
    "print(f\"Current rows: {t.shape[0]:,}\")\n",
    "pl.from_arrow(t).select(pl.col('game_id').unique())"
   ]
  },
  {
   "cell_type": "markdown",
   "id": "e14cbce7-75d2-4bc9-a29c-f25c5fd16c88",
   "metadata": {},
   "source": [
    "Let's add some more data."
   ]
  },
  {
   "cell_type": "code",
   "execution_count": 23,
   "id": "16ed8780-410f-4cec-bd41-0939b649dbe2",
   "metadata": {},
   "outputs": [
    {
     "data": {
      "text/html": [
       "<div><style>\n",
       ".dataframe > thead > tr,\n",
       ".dataframe > tbody > tr {\n",
       "  text-align: right;\n",
       "  white-space: pre-wrap;\n",
       "}\n",
       "</style>\n",
       "<small>shape: (5, 5)</small><table border=\"1\" class=\"dataframe\"><thead><tr><th>game_id</th><th>recommendationid</th><th>language</th><th>timestamp_created</th><th>voted_up</th></tr><tr><td>str</td><td>i64</td><td>str</td><td>datetime[μs]</td><td>bool</td></tr></thead><tbody><tr><td>&quot;730&quot;</td><td>145242121</td><td>&quot;russian&quot;</td><td>2023-08-29 06:38:44</td><td>true</td></tr><tr><td>&quot;730&quot;</td><td>142695062</td><td>&quot;russian&quot;</td><td>2023-07-24 10:19:31</td><td>true</td></tr><tr><td>&quot;730&quot;</td><td>167219799</td><td>&quot;schinese&quot;</td><td>2024-06-12 14:58:47</td><td>true</td></tr><tr><td>&quot;730&quot;</td><td>167219772</td><td>&quot;english&quot;</td><td>2024-06-12 14:58:21</td><td>true</td></tr><tr><td>&quot;730&quot;</td><td>167219768</td><td>&quot;schinese&quot;</td><td>2024-06-12 14:58:17</td><td>true</td></tr></tbody></table></div>"
      ],
      "text/plain": [
       "shape: (5, 5)\n",
       "┌─────────┬──────────────────┬──────────┬─────────────────────┬──────────┐\n",
       "│ game_id ┆ recommendationid ┆ language ┆ timestamp_created   ┆ voted_up │\n",
       "│ ---     ┆ ---              ┆ ---      ┆ ---                 ┆ ---      │\n",
       "│ str     ┆ i64              ┆ str      ┆ datetime[μs]        ┆ bool     │\n",
       "╞═════════╪══════════════════╪══════════╪═════════════════════╪══════════╡\n",
       "│ 730     ┆ 145242121        ┆ russian  ┆ 2023-08-29 06:38:44 ┆ true     │\n",
       "│ 730     ┆ 142695062        ┆ russian  ┆ 2023-07-24 10:19:31 ┆ true     │\n",
       "│ 730     ┆ 167219799        ┆ schinese ┆ 2024-06-12 14:58:47 ┆ true     │\n",
       "│ 730     ┆ 167219772        ┆ english  ┆ 2024-06-12 14:58:21 ┆ true     │\n",
       "│ 730     ┆ 167219768        ┆ schinese ┆ 2024-06-12 14:58:17 ┆ true     │\n",
       "└─────────┴──────────────────┴──────────┴─────────────────────┴──────────┘"
      ]
     },
     "execution_count": 23,
     "metadata": {},
     "output_type": "execute_result"
    }
   ],
   "source": [
    "cs2 = pl.read_csv('data/730.csv').select(\n",
    "    pl.lit('730').alias('game_id'),\n",
    "    pl.col('recommendationid'),\n",
    "    pl.col('language'),\n",
    "    pl.from_epoch(pl.col('timestamp_created')),\n",
    "    pl.col('voted_up').cast(pl.Boolean)\n",
    ")\n",
    "cs2.head()"
   ]
  },
  {
   "cell_type": "code",
   "execution_count": 24,
   "id": "aa9dc612-1c46-48ef-ba36-bcf2f97ac93f",
   "metadata": {},
   "outputs": [],
   "source": [
    "table.append(cs2.to_arrow())"
   ]
  },
  {
   "cell_type": "code",
   "execution_count": 25,
   "id": "a1514bc8-5a97-44ec-bbfb-75948ae116d8",
   "metadata": {},
   "outputs": [
    {
     "name": "stdout",
     "output_type": "stream",
     "text": [
      "The table has 8,197,038 rows\n"
     ]
    }
   ],
   "source": [
    "print(f\"The table has {table.scan().to_arrow().num_rows:,} rows\")"
   ]
  },
  {
   "cell_type": "markdown",
   "id": "56408eab-ac4a-4f99-a7b1-77545924e7a7",
   "metadata": {},
   "source": [
    "What if I find out that the end-users are mainly trying to analyze the upvotes over time? The Dashboard has been built, but it's not performing as they want. Partitioning might be the answer, but with Iceberg, we don't have to physically rewrite all the data:"
   ]
  },
  {
   "cell_type": "code",
   "execution_count": 26,
   "id": "c4a75aa5-a05e-4bf8-8198-781f29caf91a",
   "metadata": {},
   "outputs": [],
   "source": [
    "with table.update_spec() as update:\n",
    "    update.add_field(\"timestamp_created\", MonthTransform(), 'month_created')"
   ]
  },
  {
   "cell_type": "markdown",
   "id": "cabc8742-6eec-42ca-b43a-eb6f9dda9e7e",
   "metadata": {},
   "source": [
    "Nothing has happened yet, the Iceberg metada has been updated with the partition - no need to rewrite all the files. \n",
    "\n",
    "If we insert new data, it will be partitioned by our new partitioning schema"
   ]
  },
  {
   "cell_type": "code",
   "execution_count": 27,
   "id": "f8f0c632-02be-492f-bfe0-88f2a6d0987c",
   "metadata": {
    "scrolled": true
   },
   "outputs": [
    {
     "data": {
      "text/html": [
       "<div><style>\n",
       ".dataframe > thead > tr,\n",
       ".dataframe > tbody > tr {\n",
       "  text-align: right;\n",
       "  white-space: pre-wrap;\n",
       "}\n",
       "</style>\n",
       "<small>shape: (5, 5)</small><table border=\"1\" class=\"dataframe\"><thead><tr><th>game_id</th><th>recommendationid</th><th>language</th><th>timestamp_created</th><th>voted_up</th></tr><tr><td>str</td><td>i64</td><td>str</td><td>datetime[μs]</td><td>bool</td></tr></thead><tbody><tr><td>&quot;578080&quot;</td><td>167085096</td><td>&quot;schinese&quot;</td><td>2024-06-10 12:55:59</td><td>true</td></tr><tr><td>&quot;578080&quot;</td><td>167085090</td><td>&quot;schinese&quot;</td><td>2024-06-10 12:55:53</td><td>true</td></tr><tr><td>&quot;578080&quot;</td><td>167085008</td><td>&quot;schinese&quot;</td><td>2024-06-10 12:54:24</td><td>false</td></tr><tr><td>&quot;578080&quot;</td><td>167083530</td><td>&quot;russian&quot;</td><td>2024-06-10 12:22:08</td><td>false</td></tr><tr><td>&quot;578080&quot;</td><td>167084941</td><td>&quot;schinese&quot;</td><td>2024-06-10 12:52:58</td><td>true</td></tr></tbody></table></div>"
      ],
      "text/plain": [
       "shape: (5, 5)\n",
       "┌─────────┬──────────────────┬──────────┬─────────────────────┬──────────┐\n",
       "│ game_id ┆ recommendationid ┆ language ┆ timestamp_created   ┆ voted_up │\n",
       "│ ---     ┆ ---              ┆ ---      ┆ ---                 ┆ ---      │\n",
       "│ str     ┆ i64              ┆ str      ┆ datetime[μs]        ┆ bool     │\n",
       "╞═════════╪══════════════════╪══════════╪═════════════════════╪══════════╡\n",
       "│ 578080  ┆ 167085096        ┆ schinese ┆ 2024-06-10 12:55:59 ┆ true     │\n",
       "│ 578080  ┆ 167085090        ┆ schinese ┆ 2024-06-10 12:55:53 ┆ true     │\n",
       "│ 578080  ┆ 167085008        ┆ schinese ┆ 2024-06-10 12:54:24 ┆ false    │\n",
       "│ 578080  ┆ 167083530        ┆ russian  ┆ 2024-06-10 12:22:08 ┆ false    │\n",
       "│ 578080  ┆ 167084941        ┆ schinese ┆ 2024-06-10 12:52:58 ┆ true     │\n",
       "└─────────┴──────────────────┴──────────┴─────────────────────┴──────────┘"
      ]
     },
     "execution_count": 27,
     "metadata": {},
     "output_type": "execute_result"
    }
   ],
   "source": [
    "pubg = pl.read_csv('data/578080.csv').select(\n",
    "    pl.lit('578080').alias('game_id'),\n",
    "    pl.col('recommendationid'),\n",
    "    pl.col('language'),\n",
    "    pl.from_epoch(pl.col('timestamp_created')),\n",
    "    pl.col('voted_up').cast(pl.Boolean)\n",
    ")\n",
    "pubg.head()"
   ]
  },
  {
   "cell_type": "code",
   "execution_count": 28,
   "id": "5b82b6b8-09de-45e3-baf6-c14d66a12ee6",
   "metadata": {},
   "outputs": [],
   "source": [
    "table.append(pubg.to_arrow())"
   ]
  },
  {
   "cell_type": "markdown",
   "id": "b523c291-f157-4a15-a60a-407a3778cd0b",
   "metadata": {},
   "source": [
    "Iceberg knows the partitioning scheme for each of the manifest lists and will generate a plan for each file independently\n",
    "\n",
    "![Partition Spec Evolution](images/partition_spec_evolution.png)\n",
    "\n",
    "> https://iceberg.apache.org/docs/latest/evolution/#partition-evolution"
   ]
  },
  {
   "cell_type": "markdown",
   "id": "adc68f97-3dc5-486e-98f5-856452789a9a",
   "metadata": {},
   "source": [
    "# Write-Audit-Publish with Git-for-data branches\n",
    "\n",
    "Nessie provides the ability to perform a Write-Audit-Publish pattern, through git branching of data. Using the mechanisms of Iceberg, Nessie can keep track of the different branches of data, allowing us git-like semantics for working with data. Pyiceberg doesn't yet support this Nessie-specific syntax, so we're going to switch to another project, Dremio. We could also have chose a number of other query engines such as Apache Spark, or Trino/Presto as well.\n",
    "\n",
    "A nice thing about Dremio is that since it's Arrow-backed internally, they also expose FlightSQL endpoints, letting us use ADBC as a generic DB client."
   ]
  },
  {
   "cell_type": "code",
   "execution_count": 9,
   "id": "b6a311a2-4bd7-4df5-92ad-e79eae2f4733",
   "metadata": {},
   "outputs": [],
   "source": [
    "from adbc_driver_flightsql.dbapi import connect\n",
    "from adbc_driver_flightsql import DatabaseOptions"
   ]
  },
  {
   "cell_type": "code",
   "execution_count": 10,
   "id": "a4ea808a-0a55-4a1f-8c0c-824aa69fe6bc",
   "metadata": {},
   "outputs": [
    {
     "name": "stderr",
     "output_type": "stream",
     "text": [
      "/usr/local/lib/python3.11/site-packages/adbc_driver_manager/dbapi.py:307: Warning: Cannot disable autocommit; conn will not be DB-API 2.0 compliant\n",
      "  warnings.warn(\n"
     ]
    }
   ],
   "source": [
    "conn = connect(\"grpc+tcp://dremio:32010\", \n",
    "               db_kwargs={\"username\": \"dremio\", \n",
    "                          \"password\": \"dremio123\", \n",
    "                          DatabaseOptions.WITH_COOKIE_MIDDLEWARE.value: \"true\"}, \n",
    "              )"
   ]
  },
  {
   "cell_type": "code",
   "execution_count": 31,
   "id": "f26179ff-8881-442e-87ab-a16d989969e7",
   "metadata": {},
   "outputs": [
    {
     "name": "stdout",
     "output_type": "stream",
     "text": [
      "(1,)\n"
     ]
    }
   ],
   "source": [
    "with conn.cursor() as c:\n",
    "    c.execute(\"SELECT 1\")\n",
    "    print(c.fetchone())"
   ]
  },
  {
   "cell_type": "markdown",
   "id": "ea6ab28c-1d07-4748-bb4d-a79fe56bf753",
   "metadata": {},
   "source": [
    "Dremio has been pre-configured to talk to Nessie, and since Iceberg is client-agnostic, Dremio can read all the Iceberg tables registered in the Nessie catalogue. We're taking advantage of the Arrow-based nature of Dremio, Polars and ADBC to be able to interact directly"
   ]
  },
  {
   "cell_type": "code",
   "execution_count": 35,
   "id": "0f19d243-96f6-463c-8aff-60bd8e000551",
   "metadata": {},
   "outputs": [
    {
     "data": {
      "text/html": [
       "<div><style>\n",
       ".dataframe > thead > tr,\n",
       ".dataframe > tbody > tr {\n",
       "  text-align: right;\n",
       "  white-space: pre-wrap;\n",
       "}\n",
       "</style>\n",
       "<small>shape: (10_483_774, 5)</small><table border=\"1\" class=\"dataframe\"><thead><tr><th>game_id</th><th>recommendationid</th><th>language</th><th>timestamp_created</th><th>voted_up</th></tr><tr><td>str</td><td>i64</td><td>str</td><td>datetime[ms]</td><td>bool</td></tr></thead><tbody><tr><td>&quot;578080&quot;</td><td>30930293</td><td>&quot;german&quot;</td><td>2017-04-03 20:24:14</td><td>false</td></tr><tr><td>&quot;578080&quot;</td><td>31421053</td><td>&quot;english&quot;</td><td>2017-04-28 17:27:35</td><td>false</td></tr><tr><td>&quot;578080&quot;</td><td>31322738</td><td>&quot;german&quot;</td><td>2017-04-23 15:43:28</td><td>true</td></tr><tr><td>&quot;578080&quot;</td><td>31115003</td><td>&quot;english&quot;</td><td>2017-04-13 12:02:13</td><td>false</td></tr><tr><td>&quot;578080&quot;</td><td>31150783</td><td>&quot;koreana&quot;</td><td>2017-04-15 07:23:40</td><td>true</td></tr><tr><td>&hellip;</td><td>&hellip;</td><td>&hellip;</td><td>&hellip;</td><td>&hellip;</td></tr><tr><td>&quot;578080&quot;</td><td>163949610</td><td>&quot;russian&quot;</td><td>2024-05-01 00:05:27</td><td>true</td></tr><tr><td>&quot;578080&quot;</td><td>163949553</td><td>&quot;turkish&quot;</td><td>2024-05-01 00:04:15</td><td>true</td></tr><tr><td>&quot;578080&quot;</td><td>163949534</td><td>&quot;english&quot;</td><td>2024-05-01 00:03:58</td><td>true</td></tr><tr><td>&quot;578080&quot;</td><td>163949515</td><td>&quot;koreana&quot;</td><td>2024-05-01 00:03:45</td><td>true</td></tr><tr><td>&quot;578080&quot;</td><td>163949502</td><td>&quot;turkish&quot;</td><td>2024-05-01 00:03:32</td><td>true</td></tr></tbody></table></div>"
      ],
      "text/plain": [
       "shape: (10_483_774, 5)\n",
       "┌─────────┬──────────────────┬──────────┬─────────────────────┬──────────┐\n",
       "│ game_id ┆ recommendationid ┆ language ┆ timestamp_created   ┆ voted_up │\n",
       "│ ---     ┆ ---              ┆ ---      ┆ ---                 ┆ ---      │\n",
       "│ str     ┆ i64              ┆ str      ┆ datetime[ms]        ┆ bool     │\n",
       "╞═════════╪══════════════════╪══════════╪═════════════════════╪══════════╡\n",
       "│ 578080  ┆ 30930293         ┆ german   ┆ 2017-04-03 20:24:14 ┆ false    │\n",
       "│ 578080  ┆ 31421053         ┆ english  ┆ 2017-04-28 17:27:35 ┆ false    │\n",
       "│ 578080  ┆ 31322738         ┆ german   ┆ 2017-04-23 15:43:28 ┆ true     │\n",
       "│ 578080  ┆ 31115003         ┆ english  ┆ 2017-04-13 12:02:13 ┆ false    │\n",
       "│ 578080  ┆ 31150783         ┆ koreana  ┆ 2017-04-15 07:23:40 ┆ true     │\n",
       "│ …       ┆ …                ┆ …        ┆ …                   ┆ …        │\n",
       "│ 578080  ┆ 163949610        ┆ russian  ┆ 2024-05-01 00:05:27 ┆ true     │\n",
       "│ 578080  ┆ 163949553        ┆ turkish  ┆ 2024-05-01 00:04:15 ┆ true     │\n",
       "│ 578080  ┆ 163949534        ┆ english  ┆ 2024-05-01 00:03:58 ┆ true     │\n",
       "│ 578080  ┆ 163949515        ┆ koreana  ┆ 2024-05-01 00:03:45 ┆ true     │\n",
       "│ 578080  ┆ 163949502        ┆ turkish  ┆ 2024-05-01 00:03:32 ┆ true     │\n",
       "└─────────┴──────────────────┴──────────┴─────────────────────┴──────────┘"
      ]
     },
     "execution_count": 35,
     "metadata": {},
     "output_type": "execute_result"
    }
   ],
   "source": [
    "pl.read_database(\"SELECT * FROM Nessie.steam.languages\", conn)"
   ]
  },
  {
   "cell_type": "markdown",
   "id": "f35b8a54-f46d-4c73-944e-323c69a455bc",
   "metadata": {},
   "source": [
    "Where before, `pyiceberg` let us filter the data, a query engine like Dremio can do SQL to do all the analytics we're used to from a database."
   ]
  },
  {
   "cell_type": "code",
   "execution_count": 36,
   "id": "547be499-5909-4d04-ad4d-b40051cad717",
   "metadata": {},
   "outputs": [
    {
     "data": {
      "text/html": [
       "<div><style>\n",
       ".dataframe > thead > tr,\n",
       ".dataframe > tbody > tr {\n",
       "  text-align: right;\n",
       "  white-space: pre-wrap;\n",
       "}\n",
       "</style>\n",
       "<small>shape: (30, 2)</small><table border=\"1\" class=\"dataframe\"><thead><tr><th>language</th><th>ratio_positive_votes</th></tr><tr><td>str</td><td>f32</td></tr></thead><tbody><tr><td>&quot;romanian&quot;</td><td>0.942233</td></tr><tr><td>&quot;portuguese&quot;</td><td>0.936969</td></tr><tr><td>&quot;brazilian&quot;</td><td>0.923251</td></tr><tr><td>&quot;danish&quot;</td><td>0.918101</td></tr><tr><td>&quot;swedish&quot;</td><td>0.907861</td></tr><tr><td>&hellip;</td><td>&hellip;</td></tr><tr><td>&quot;japanese&quot;</td><td>0.721831</td></tr><tr><td>&quot;koreana&quot;</td><td>0.706234</td></tr><tr><td>&quot;schinese&quot;</td><td>0.68408</td></tr><tr><td>&quot;tchinese&quot;</td><td>0.659531</td></tr><tr><td>&quot;1644086754&quot;</td><td>0.0</td></tr></tbody></table></div>"
      ],
      "text/plain": [
       "shape: (30, 2)\n",
       "┌────────────┬──────────────────────┐\n",
       "│ language   ┆ ratio_positive_votes │\n",
       "│ ---        ┆ ---                  │\n",
       "│ str        ┆ f32                  │\n",
       "╞════════════╪══════════════════════╡\n",
       "│ romanian   ┆ 0.942233             │\n",
       "│ portuguese ┆ 0.936969             │\n",
       "│ brazilian  ┆ 0.923251             │\n",
       "│ danish     ┆ 0.918101             │\n",
       "│ swedish    ┆ 0.907861             │\n",
       "│ …          ┆ …                    │\n",
       "│ japanese   ┆ 0.721831             │\n",
       "│ koreana    ┆ 0.706234             │\n",
       "│ schinese   ┆ 0.68408              │\n",
       "│ tchinese   ┆ 0.659531             │\n",
       "│ 1644086754 ┆ 0.0                  │\n",
       "└────────────┴──────────────────────┘"
      ]
     },
     "execution_count": 36,
     "metadata": {},
     "output_type": "execute_result"
    }
   ],
   "source": [
    "sql = \"\"\"\n",
    "    SELECT \"language\", \n",
    "    SUM(CAST(voted_up as int)) / CAST(COUNT(voted_up) as float) as ratio_positive_votes\n",
    "    FROM Nessie.steam.languages \n",
    "    GROUP BY \"language\"\n",
    "    ORDER BY 2 DESC\n",
    "    \"\"\"\n",
    "pl.read_database(sql, conn)"
   ]
  },
  {
   "cell_type": "markdown",
   "id": "501e1249-f7a6-4315-a3dd-9cfe1205c421",
   "metadata": {},
   "source": [
    "## Write\n",
    "In this example, we have our raw extract data in the Extract source - a CSV file for each game. Let's prepare a staging table for the CSV files, as they have a slightly different format than our final table"
   ]
  },
  {
   "cell_type": "code",
   "execution_count": 11,
   "id": "72797c06-46f8-4d02-bd6c-0ea8d01396bc",
   "metadata": {},
   "outputs": [
    {
     "name": "stdout",
     "output_type": "stream",
     "text": [
      "Table created\n"
     ]
    }
   ],
   "source": [
    "with conn.cursor() as c:\n",
    "    c.execute(\"\"\" \n",
    "    CREATE TABLE IF NOT EXISTS Nessie.steam.staging.languages (\n",
    "        game_id varchar(50),\n",
    "        recommendationid int,\n",
    "        \"language\" varchar(20),\n",
    "        timestamp_created int,\n",
    "        voted_up boolean\n",
    "    )\n",
    "    \"\"\")\n",
    "    print(c.fetchone()[1])"
   ]
  },
  {
   "cell_type": "markdown",
   "id": "2b0d7a78-5031-40eb-971b-d01f04b5eba3",
   "metadata": {},
   "source": [
    "In the Write stage, we start by creating a new branch where we can stage all our data changes"
   ]
  },
  {
   "cell_type": "code",
   "execution_count": 16,
   "id": "67fe6174-1c4d-4d37-b1ce-dce1cc604b7e",
   "metadata": {},
   "outputs": [
    {
     "name": "stdout",
     "output_type": "stream",
     "text": [
      "Branch insert_demo2 has been created at branch main in source Nessie.\n"
     ]
    }
   ],
   "source": [
    "with conn.cursor() as c:\n",
    "    c.execute(\"CREATE BRANCH insert_demo AT BRANCH main IN Nessie\")\n",
    "    print(c.fetchone()[1])"
   ]
  },
  {
   "cell_type": "markdown",
   "id": "0fdcaf65-854a-4d4d-9a83-899ce3e7838a",
   "metadata": {},
   "source": [
    "Now we can `COPY INTO` our staging table from our Extract file source"
   ]
  },
  {
   "cell_type": "code",
   "execution_count": 17,
   "id": "43410294-3db1-4b52-afdd-8ed033e8ef0d",
   "metadata": {},
   "outputs": [
    {
     "name": "stdout",
     "output_type": "stream",
     "text": [
      "Inserted 64 rows\n"
     ]
    }
   ],
   "source": [
    "with conn.cursor() as c:\n",
    "    c.execute(\"\"\"\n",
    "    COPY INTO Nessie.steam.staging.languages \n",
    "    AT BRANCH insert_demo2\n",
    "    FROM '@Extract/extract/550.csv'\n",
    "    ( EXTRACT_HEADER true, TRIM_SPACE true )\n",
    "    \"\"\")\n",
    "    print(f\"Inserted {c.fetchone()[0]:,} rows\")"
   ]
  },
  {
   "cell_type": "markdown",
   "id": "99818295-8698-41ef-80ae-f9d8cfc30bd7",
   "metadata": {},
   "source": [
    "We can verify that the main branch doesn't see any data"
   ]
  },
  {
   "cell_type": "code",
   "execution_count": 43,
   "id": "32f211c0-0ec5-4b33-8567-4b1cc1bc0190",
   "metadata": {},
   "outputs": [
    {
     "data": {
      "text/html": [
       "<div><style>\n",
       ".dataframe > thead > tr,\n",
       ".dataframe > tbody > tr {\n",
       "  text-align: right;\n",
       "  white-space: pre-wrap;\n",
       "}\n",
       "</style>\n",
       "<small>shape: (0, 5)</small><table border=\"1\" class=\"dataframe\"><thead><tr><th>game_id</th><th>recommendationid</th><th>language</th><th>timestamp_created</th><th>voted_up</th></tr><tr><td>str</td><td>i32</td><td>str</td><td>i32</td><td>bool</td></tr></thead><tbody></tbody></table></div>"
      ],
      "text/plain": [
       "shape: (0, 5)\n",
       "┌─────────┬──────────────────┬──────────┬───────────────────┬──────────┐\n",
       "│ game_id ┆ recommendationid ┆ language ┆ timestamp_created ┆ voted_up │\n",
       "│ ---     ┆ ---              ┆ ---      ┆ ---               ┆ ---      │\n",
       "│ str     ┆ i32              ┆ str      ┆ i32               ┆ bool     │\n",
       "╞═════════╪══════════════════╪══════════╪═══════════════════╪══════════╡\n",
       "└─────────┴──────────────────┴──────────┴───────────────────┴──────────┘"
      ]
     },
     "execution_count": 43,
     "metadata": {},
     "output_type": "execute_result"
    }
   ],
   "source": [
    "pl.read_database(\"SELECT * FROM Nessie.steam.staging.languages\", conn)"
   ]
  },
  {
   "cell_type": "markdown",
   "id": "479e1a27-7636-4b5e-a3f7-e44357a92cb1",
   "metadata": {},
   "source": [
    "While the `insert_demo` branch does"
   ]
  },
  {
   "cell_type": "code",
   "execution_count": 42,
   "id": "d9f2c92e-cad4-40b3-a373-e13f7e93163c",
   "metadata": {},
   "outputs": [
    {
     "data": {
      "text/html": [
       "<div><style>\n",
       ".dataframe > thead > tr,\n",
       ".dataframe > tbody > tr {\n",
       "  text-align: right;\n",
       "  white-space: pre-wrap;\n",
       "}\n",
       "</style>\n",
       "<small>shape: (858_570, 5)</small><table border=\"1\" class=\"dataframe\"><thead><tr><th>game_id</th><th>recommendationid</th><th>language</th><th>timestamp_created</th><th>voted_up</th></tr><tr><td>str</td><td>i32</td><td>str</td><td>i32</td><td>bool</td></tr></thead><tbody><tr><td>null</td><td>166655315</td><td>&quot;english&quot;</td><td>1717498886</td><td>true</td></tr><tr><td>null</td><td>166655283</td><td>&quot;russian&quot;</td><td>1717498848</td><td>false</td></tr><tr><td>null</td><td>166655274</td><td>&quot;english&quot;</td><td>1717498839</td><td>true</td></tr><tr><td>null</td><td>166654220</td><td>&quot;turkish&quot;</td><td>1717497314</td><td>true</td></tr><tr><td>null</td><td>166653942</td><td>&quot;ukrainian&quot;</td><td>1717496923</td><td>true</td></tr><tr><td>&hellip;</td><td>&hellip;</td><td>&hellip;</td><td>&hellip;</td><td>&hellip;</td></tr><tr><td>null</td><td>2141528</td><td>&quot;english&quot;</td><td>1287211584</td><td>true</td></tr><tr><td>null</td><td>2187504</td><td>&quot;russian&quot;</td><td>1287198543</td><td>true</td></tr><tr><td>null</td><td>2645097</td><td>&quot;english&quot;</td><td>1287191253</td><td>true</td></tr><tr><td>null</td><td>367214</td><td>&quot;english&quot;</td><td>1287186381</td><td>true</td></tr><tr><td>null</td><td>1072623</td><td>&quot;english&quot;</td><td>1287181669</td><td>true</td></tr></tbody></table></div>"
      ],
      "text/plain": [
       "shape: (858_570, 5)\n",
       "┌─────────┬──────────────────┬───────────┬───────────────────┬──────────┐\n",
       "│ game_id ┆ recommendationid ┆ language  ┆ timestamp_created ┆ voted_up │\n",
       "│ ---     ┆ ---              ┆ ---       ┆ ---               ┆ ---      │\n",
       "│ str     ┆ i32              ┆ str       ┆ i32               ┆ bool     │\n",
       "╞═════════╪══════════════════╪═══════════╪═══════════════════╪══════════╡\n",
       "│ null    ┆ 166655315        ┆ english   ┆ 1717498886        ┆ true     │\n",
       "│ null    ┆ 166655283        ┆ russian   ┆ 1717498848        ┆ false    │\n",
       "│ null    ┆ 166655274        ┆ english   ┆ 1717498839        ┆ true     │\n",
       "│ null    ┆ 166654220        ┆ turkish   ┆ 1717497314        ┆ true     │\n",
       "│ null    ┆ 166653942        ┆ ukrainian ┆ 1717496923        ┆ true     │\n",
       "│ …       ┆ …                ┆ …         ┆ …                 ┆ …        │\n",
       "│ null    ┆ 2141528          ┆ english   ┆ 1287211584        ┆ true     │\n",
       "│ null    ┆ 2187504          ┆ russian   ┆ 1287198543        ┆ true     │\n",
       "│ null    ┆ 2645097          ┆ english   ┆ 1287191253        ┆ true     │\n",
       "│ null    ┆ 367214           ┆ english   ┆ 1287186381        ┆ true     │\n",
       "│ null    ┆ 1072623          ┆ english   ┆ 1287181669        ┆ true     │\n",
       "└─────────┴──────────────────┴───────────┴───────────────────┴──────────┘"
      ]
     },
     "execution_count": 42,
     "metadata": {},
     "output_type": "execute_result"
    }
   ],
   "source": [
    "pl.read_database(\"SELECT * FROM Nessie.steam.staging.languages AT BRANCH insert_demo\", conn)"
   ]
  },
  {
   "cell_type": "markdown",
   "id": "d6ba22d7-5e03-44e2-ba5f-dd1f07c4ea38",
   "metadata": {},
   "source": [
    "Since the `game_id` is stored in the file name instead of the data itself, we need to update our staged data with the game id."
   ]
  },
  {
   "cell_type": "code",
   "execution_count": null,
   "id": "602d32ed-ccc2-4a03-99c6-20a20c13f1b3",
   "metadata": {},
   "outputs": [],
   "source": [
    "with conn.cursor() as c:\n",
    "    c.execute(\"USE BRANCH insert_demo IN Nessie;\")\n",
    "    print(c.fetchone()[1])"
   ]
  },
  {
   "cell_type": "code",
   "execution_count": 18,
   "id": "b706ca21-594b-466e-b594-d64836b05ce1",
   "metadata": {},
   "outputs": [
    {
     "ename": "ProgrammingError",
     "evalue": "INVALID_ARGUMENT: [FlightSQL] Cannot assign to target field 'D_R_E_M_I_O_D_A_T_A_F_I_L_E_F_I_L_E_P_A_T_H' of type VARCHAR(65536) from source field 'D_R_E_M_I_O_D_A_T_A_F_I_L_E_F_I_L_E_P_A_T_H' of type VARCHAR(65536) NOT NULL\nstartLine 1\nstartColumn 8\nendLine 1\nendColumn 37\nSQL Query UPDATE Nessie.steam.staging.languages AT BRANCH insert_demo2 SET game_id = '209850' where game_id is null (InvalidArgument; Prepare)",
     "output_type": "error",
     "traceback": [
      "\u001b[0;31m---------------------------------------------------------------------------\u001b[0m",
      "\u001b[0;31mProgrammingError\u001b[0m                          Traceback (most recent call last)",
      "Cell \u001b[0;32mIn[18], line 2\u001b[0m\n\u001b[1;32m      1\u001b[0m \u001b[38;5;28;01mwith\u001b[39;00m conn\u001b[38;5;241m.\u001b[39mcursor() \u001b[38;5;28;01mas\u001b[39;00m c:\n\u001b[0;32m----> 2\u001b[0m     \u001b[43mc\u001b[49m\u001b[38;5;241;43m.\u001b[39;49m\u001b[43mexecute\u001b[49m\u001b[43m(\u001b[49m\u001b[38;5;124;43m\"\u001b[39;49m\u001b[38;5;124;43mUPDATE Nessie.steam.staging.languages AT BRANCH insert_demo2 SET game_id = \u001b[39;49m\u001b[38;5;124;43m'\u001b[39;49m\u001b[38;5;124;43m209850\u001b[39;49m\u001b[38;5;124;43m'\u001b[39;49m\u001b[38;5;124;43m where game_id is null\u001b[39;49m\u001b[38;5;124;43m\"\u001b[39;49m\u001b[43m)\u001b[49m\n\u001b[1;32m      3\u001b[0m     \u001b[38;5;28mprint\u001b[39m(\u001b[38;5;124mf\u001b[39m\u001b[38;5;124m\"\u001b[39m\u001b[38;5;124mInserted \u001b[39m\u001b[38;5;132;01m{\u001b[39;00mc\u001b[38;5;241m.\u001b[39mfetchone()[\u001b[38;5;241m0\u001b[39m]\u001b[38;5;132;01m:\u001b[39;00m\u001b[38;5;124m,\u001b[39m\u001b[38;5;132;01m}\u001b[39;00m\u001b[38;5;124m rows\u001b[39m\u001b[38;5;124m\"\u001b[39m)\n",
      "File \u001b[0;32m/usr/local/lib/python3.11/site-packages/adbc_driver_manager/dbapi.py:696\u001b[0m, in \u001b[0;36mCursor.execute\u001b[0;34m(self, operation, parameters)\u001b[0m\n\u001b[1;32m    681\u001b[0m \u001b[38;5;28;01mdef\u001b[39;00m \u001b[38;5;21mexecute\u001b[39m(\u001b[38;5;28mself\u001b[39m, operation: Union[\u001b[38;5;28mbytes\u001b[39m, \u001b[38;5;28mstr\u001b[39m], parameters\u001b[38;5;241m=\u001b[39m\u001b[38;5;28;01mNone\u001b[39;00m) \u001b[38;5;241m-\u001b[39m\u001b[38;5;241m>\u001b[39m \u001b[38;5;28;01mNone\u001b[39;00m:\n\u001b[1;32m    682\u001b[0m \u001b[38;5;250m    \u001b[39m\u001b[38;5;124;03m\"\"\"\u001b[39;00m\n\u001b[1;32m    683\u001b[0m \u001b[38;5;124;03m    Execute a query.\u001b[39;00m\n\u001b[1;32m    684\u001b[0m \n\u001b[0;32m   (...)\u001b[0m\n\u001b[1;32m    694\u001b[0m \u001b[38;5;124;03m        parameters, which will each be bound in turn).\u001b[39;00m\n\u001b[1;32m    695\u001b[0m \u001b[38;5;124;03m    \"\"\"\u001b[39;00m\n\u001b[0;32m--> 696\u001b[0m     \u001b[38;5;28;43mself\u001b[39;49m\u001b[38;5;241;43m.\u001b[39;49m\u001b[43m_prepare_execute\u001b[49m\u001b[43m(\u001b[49m\u001b[43moperation\u001b[49m\u001b[43m,\u001b[49m\u001b[43m \u001b[49m\u001b[43mparameters\u001b[49m\u001b[43m)\u001b[49m\n\u001b[1;32m    698\u001b[0m     handle, \u001b[38;5;28mself\u001b[39m\u001b[38;5;241m.\u001b[39m_rowcount \u001b[38;5;241m=\u001b[39m _blocking_call(\n\u001b[1;32m    699\u001b[0m         \u001b[38;5;28mself\u001b[39m\u001b[38;5;241m.\u001b[39m_stmt\u001b[38;5;241m.\u001b[39mexecute_query, (), {}, \u001b[38;5;28mself\u001b[39m\u001b[38;5;241m.\u001b[39m_stmt\u001b[38;5;241m.\u001b[39mcancel\n\u001b[1;32m    700\u001b[0m     )\n\u001b[1;32m    701\u001b[0m     \u001b[38;5;28mself\u001b[39m\u001b[38;5;241m.\u001b[39m_results \u001b[38;5;241m=\u001b[39m _RowIterator(\n\u001b[1;32m    702\u001b[0m         \u001b[38;5;28mself\u001b[39m\u001b[38;5;241m.\u001b[39m_stmt, _reader\u001b[38;5;241m.\u001b[39mAdbcRecordBatchReader\u001b[38;5;241m.\u001b[39m_import_from_c(handle\u001b[38;5;241m.\u001b[39maddress)\n\u001b[1;32m    703\u001b[0m     )\n",
      "File \u001b[0;32m/usr/local/lib/python3.11/site-packages/adbc_driver_manager/dbapi.py:667\u001b[0m, in \u001b[0;36mCursor._prepare_execute\u001b[0;34m(self, operation, parameters)\u001b[0m\n\u001b[1;32m    665\u001b[0m     \u001b[38;5;28mself\u001b[39m\u001b[38;5;241m.\u001b[39m_stmt\u001b[38;5;241m.\u001b[39mset_sql_query(operation)\n\u001b[1;32m    666\u001b[0m \u001b[38;5;28;01mtry\u001b[39;00m:\n\u001b[0;32m--> 667\u001b[0m     \u001b[43m_blocking_call\u001b[49m\u001b[43m(\u001b[49m\u001b[38;5;28;43mself\u001b[39;49m\u001b[38;5;241;43m.\u001b[39;49m\u001b[43m_stmt\u001b[49m\u001b[38;5;241;43m.\u001b[39;49m\u001b[43mprepare\u001b[49m\u001b[43m,\u001b[49m\u001b[43m \u001b[49m\u001b[43m(\u001b[49m\u001b[43m)\u001b[49m\u001b[43m,\u001b[49m\u001b[43m \u001b[49m\u001b[43m{\u001b[49m\u001b[43m}\u001b[49m\u001b[43m,\u001b[49m\u001b[43m \u001b[49m\u001b[38;5;28;43mself\u001b[39;49m\u001b[38;5;241;43m.\u001b[39;49m\u001b[43m_stmt\u001b[49m\u001b[38;5;241;43m.\u001b[39;49m\u001b[43mcancel\u001b[49m\u001b[43m)\u001b[49m\n\u001b[1;32m    668\u001b[0m \u001b[38;5;28;01mexcept\u001b[39;00m NotSupportedError:\n\u001b[1;32m    669\u001b[0m     \u001b[38;5;66;03m# Not all drivers support it\u001b[39;00m\n\u001b[1;32m    670\u001b[0m     \u001b[38;5;28;01mpass\u001b[39;00m\n",
      "File \u001b[0;32m/usr/local/lib/python3.11/site-packages/adbc_driver_manager/_lib.pyx:1569\u001b[0m, in \u001b[0;36madbc_driver_manager._lib._blocking_call_impl\u001b[0;34m()\u001b[0m\n",
      "File \u001b[0;32m/usr/local/lib/python3.11/site-packages/adbc_driver_manager/_lib.pyx:1562\u001b[0m, in \u001b[0;36madbc_driver_manager._lib._blocking_call_impl\u001b[0;34m()\u001b[0m\n",
      "File \u001b[0;32m/usr/local/lib/python3.11/site-packages/adbc_driver_manager/_lib.pyx:1437\u001b[0m, in \u001b[0;36madbc_driver_manager._lib.AdbcStatement.prepare\u001b[0;34m()\u001b[0m\n",
      "File \u001b[0;32m/usr/local/lib/python3.11/site-packages/adbc_driver_manager/_lib.pyx:260\u001b[0m, in \u001b[0;36madbc_driver_manager._lib.check_error\u001b[0;34m()\u001b[0m\n",
      "\u001b[0;31mProgrammingError\u001b[0m: INVALID_ARGUMENT: [FlightSQL] Cannot assign to target field 'D_R_E_M_I_O_D_A_T_A_F_I_L_E_F_I_L_E_P_A_T_H' of type VARCHAR(65536) from source field 'D_R_E_M_I_O_D_A_T_A_F_I_L_E_F_I_L_E_P_A_T_H' of type VARCHAR(65536) NOT NULL\nstartLine 1\nstartColumn 8\nendLine 1\nendColumn 37\nSQL Query UPDATE Nessie.steam.staging.languages AT BRANCH insert_demo2 SET game_id = '209850' where game_id is null (InvalidArgument; Prepare)"
     ]
    }
   ],
   "source": [
    "with conn.cursor() as c:\n",
    "    c.execute(\"UPDATE Nessie.steam.staging.languages AT BRANCH insert_demo SET game_id = '550' where game_id is null\")\n",
    "    print(f\"Inserted {c.fetchone()[0]:,} rows\")"
   ]
  },
  {
   "cell_type": "markdown",
   "id": "5bf4c219-0597-4250-8be1-341561bfd9a8",
   "metadata": {},
   "source": [
    "Still no rows in the main branch"
   ]
  },
  {
   "cell_type": "code",
   "execution_count": 47,
   "id": "ed5519a6-2ccd-4b32-975f-072e63775b3d",
   "metadata": {},
   "outputs": [
    {
     "name": "stdout",
     "output_type": "stream",
     "text": [
      "Branch main\n",
      "shape: (0, 5)\n",
      "┌─────────┬──────────────────┬──────────┬───────────────────┬──────────┐\n",
      "│ game_id ┆ recommendationid ┆ language ┆ timestamp_created ┆ voted_up │\n",
      "│ ---     ┆ ---              ┆ ---      ┆ ---               ┆ ---      │\n",
      "│ str     ┆ i32              ┆ str      ┆ i32               ┆ bool     │\n",
      "╞═════════╪══════════════════╪══════════╪═══════════════════╪══════════╡\n",
      "└─────────┴──────────────────┴──────────┴───────────────────┴──────────┘\n",
      "Branch insert_demo\n",
      "shape: (858_570, 5)\n",
      "┌─────────┬──────────────────┬───────────┬───────────────────┬──────────┐\n",
      "│ game_id ┆ recommendationid ┆ language  ┆ timestamp_created ┆ voted_up │\n",
      "│ ---     ┆ ---              ┆ ---       ┆ ---               ┆ ---      │\n",
      "│ str     ┆ i32              ┆ str       ┆ i32               ┆ bool     │\n",
      "╞═════════╪══════════════════╪═══════════╪═══════════════════╪══════════╡\n",
      "│ 550     ┆ 166649911        ┆ russian   ┆ 1717490824        ┆ true     │\n",
      "│ 550     ┆ 166643739        ┆ english   ┆ 1717480561        ┆ true     │\n",
      "│ 550     ┆ 166642277        ┆ english   ┆ 1717477896        ┆ true     │\n",
      "│ 550     ┆ 166635897        ┆ spanish   ┆ 1717468240        ┆ true     │\n",
      "│ 550     ┆ 166624326        ┆ english   ┆ 1717453394        ┆ true     │\n",
      "│ …       ┆ …                ┆ …         ┆ …                 ┆ …        │\n",
      "│ 550     ┆ 1760242          ┆ english   ┆ 1290250914        ┆ true     │\n",
      "│ 550     ┆ 637777           ┆ schinese  ┆ 1290238524        ┆ true     │\n",
      "│ 550     ┆ 609663           ┆ english   ┆ 1290195083        ┆ true     │\n",
      "│ 550     ┆ 53519            ┆ brazilian ┆ 1290188054        ┆ true     │\n",
      "│ 550     ┆ 6986             ┆ english   ┆ 1288782898        ┆ true     │\n",
      "└─────────┴──────────────────┴───────────┴───────────────────┴──────────┘\n"
     ]
    }
   ],
   "source": [
    "print(\"Branch main\")\n",
    "print(pl.read_database(\"SELECT * FROM Nessie.steam.staging.languages AT BRANCH main WHERE game_id = '550'\", conn))\n",
    "print(\"Branch insert_demo\")\n",
    "print(pl.read_database(\"SELECT * FROM Nessie.steam.staging.languages AT BRANCH insert_demo WHERE game_id = '550'\", conn))"
   ]
  },
  {
   "cell_type": "markdown",
   "id": "0785d8d1-f04a-448c-b08f-f58e94fa33e2",
   "metadata": {},
   "source": [
    "To finish our Write phase, we can move the staging data into the `languages` table with the correct conversions"
   ]
  },
  {
   "cell_type": "code",
   "execution_count": 48,
   "id": "ff9146c4-1307-4a82-a50b-70e33baacceb",
   "metadata": {},
   "outputs": [
    {
     "name": "stdout",
     "output_type": "stream",
     "text": [
      "Inserted 858,570 rows\n"
     ]
    }
   ],
   "source": [
    "with conn.cursor() as c:\n",
    "    c.execute(\"\"\"\n",
    "    INSERT INTO Nessie.steam.languages AT BRANCH insert_demo \n",
    "    SELECT \n",
    "        game_id,\n",
    "        recommendationid,\n",
    "        \"language\",\n",
    "        to_timestamp(timestamp_created) as timestamp_created, \n",
    "        voted_up\n",
    "    FROM Nessie.steam.staging.languages AT BRANCH insert_demo\n",
    "    \"\"\")\n",
    "    print(f\"Inserted {c.fetchone()[0]:,} rows\")"
   ]
  },
  {
   "cell_type": "code",
   "execution_count": 50,
   "id": "f1578d05-d025-4ae9-bb55-aee5e0c0aa65",
   "metadata": {},
   "outputs": [
    {
     "data": {
      "text/html": [
       "<div><style>\n",
       ".dataframe > thead > tr,\n",
       ".dataframe > tbody > tr {\n",
       "  text-align: right;\n",
       "  white-space: pre-wrap;\n",
       "}\n",
       "</style>\n",
       "<small>shape: (1, 1)</small><table border=\"1\" class=\"dataframe\"><thead><tr><th>num_rows</th></tr><tr><td>i64</td></tr></thead><tbody><tr><td>11342344</td></tr></tbody></table></div>"
      ],
      "text/plain": [
       "shape: (1, 1)\n",
       "┌──────────┐\n",
       "│ num_rows │\n",
       "│ ---      │\n",
       "│ i64      │\n",
       "╞══════════╡\n",
       "│ 11342344 │\n",
       "└──────────┘"
      ]
     },
     "execution_count": 50,
     "metadata": {},
     "output_type": "execute_result"
    }
   ],
   "source": [
    "pl.read_database(\"SELECT COUNT(*) as num_rows FROM Nessie.steam.languages AT BRANCH insert_demo\", conn)"
   ]
  },
  {
   "cell_type": "markdown",
   "id": "8dbe5a73-7fab-4f42-b059-0cfc09b2e6d4",
   "metadata": {},
   "source": [
    "Now we can run our Audit step - verifying data to ensure the data quality before consumers get it"
   ]
  },
  {
   "cell_type": "code",
   "execution_count": 52,
   "id": "10dc3c7c-2fdc-4ef2-a259-38f6b7f6bf7e",
   "metadata": {},
   "outputs": [
    {
     "data": {
      "text/html": [
       "<div><style>\n",
       ".dataframe > thead > tr,\n",
       ".dataframe > tbody > tr {\n",
       "  text-align: right;\n",
       "  white-space: pre-wrap;\n",
       "}\n",
       "</style>\n",
       "<small>shape: (147, 3)</small><table border=\"1\" class=\"dataframe\"><thead><tr><th>game_id</th><th>language</th><th>language_ratio</th></tr><tr><td>str</td><td>str</td><td>f32</td></tr></thead><tbody><tr><td>&quot;730&quot;</td><td>&quot;brazilian&quot;</td><td>0.056923</td></tr><tr><td>&quot;730&quot;</td><td>&quot;thai&quot;</td><td>0.002919</td></tr><tr><td>&quot;730&quot;</td><td>&quot;italian&quot;</td><td>0.002533</td></tr><tr><td>&quot;730&quot;</td><td>&quot;schinese&quot;</td><td>0.135074</td></tr><tr><td>&quot;730&quot;</td><td>&quot;german&quot;</td><td>0.02688</td></tr><tr><td>&hellip;</td><td>&hellip;</td><td>&hellip;</td></tr><tr><td>&quot;578080&quot;</td><td>&quot;brazilian&quot;</td><td>0.023774</td></tr><tr><td>&quot;289070&quot;</td><td>&quot;koreana&quot;</td><td>0.033276</td></tr><tr><td>&quot;289070&quot;</td><td>&quot;norwegian&quot;</td><td>0.001467</td></tr><tr><td>&quot;289070&quot;</td><td>&quot;romanian&quot;</td><td>0.000187</td></tr><tr><td>&quot;289070&quot;</td><td>&quot;hungarian&quot;</td><td>0.001431</td></tr></tbody></table></div>"
      ],
      "text/plain": [
       "shape: (147, 3)\n",
       "┌─────────┬───────────┬────────────────┐\n",
       "│ game_id ┆ language  ┆ language_ratio │\n",
       "│ ---     ┆ ---       ┆ ---            │\n",
       "│ str     ┆ str       ┆ f32            │\n",
       "╞═════════╪═══════════╪════════════════╡\n",
       "│ 730     ┆ brazilian ┆ 0.056923       │\n",
       "│ 730     ┆ thai      ┆ 0.002919       │\n",
       "│ 730     ┆ italian   ┆ 0.002533       │\n",
       "│ 730     ┆ schinese  ┆ 0.135074       │\n",
       "│ 730     ┆ german    ┆ 0.02688        │\n",
       "│ …       ┆ …         ┆ …              │\n",
       "│ 578080  ┆ brazilian ┆ 0.023774       │\n",
       "│ 289070  ┆ koreana   ┆ 0.033276       │\n",
       "│ 289070  ┆ norwegian ┆ 0.001467       │\n",
       "│ 289070  ┆ romanian  ┆ 0.000187       │\n",
       "│ 289070  ┆ hungarian ┆ 0.001431       │\n",
       "└─────────┴───────────┴────────────────┘"
      ]
     },
     "execution_count": 52,
     "metadata": {},
     "output_type": "execute_result"
    }
   ],
   "source": [
    "sql = \"\"\"\n",
    "     WITH num_reviews as (\n",
    "        select game_id, count(*) as num_reviews\n",
    "        FROM Nessie.steam.languages\n",
    "        GROUP BY game_id\n",
    "    ), num_language_reviews as (\n",
    "        SELECT game_id, \"language\", COUNT(*) as num_language_reviews\n",
    "        FROM Nessie.steam.languages l\n",
    "        GROUP BY game_id, \"language\"\n",
    "    )\n",
    "    SELECT l.game_id, l.\"language\",  num_language_reviews / cast(num_reviews as float) as language_ratio\n",
    "    FROM num_reviews r join num_language_reviews as l on r.game_id = l.game_id\n",
    "    \"\"\"\n",
    "\n",
    "ratio_df = pl.read_database(sql, conn)\n",
    "ratio_df"
   ]
  },
  {
   "cell_type": "markdown",
   "id": "c73ede77-3f00-454f-8892-5b8cf63b19fc",
   "metadata": {},
   "source": [
    "We can perform sanity checks, such as checking that there aren't less than 15% of the reviews in english, or compare data across branches to make sure the difference is correct"
   ]
  },
  {
   "cell_type": "code",
   "execution_count": 53,
   "id": "c234d4f1-9cc8-4ee8-b607-d8abd7f23a7c",
   "metadata": {},
   "outputs": [],
   "source": [
    "assert ratio_df.filter((pl.col('language') == 'english') & (pl.col('language_ratio') < 0.15)).is_empty"
   ]
  },
  {
   "cell_type": "code",
   "execution_count": 56,
   "id": "b406acce-2b0b-48e3-b259-7135f07dd546",
   "metadata": {},
   "outputs": [],
   "source": [
    "assert pl.read_database(\"\"\"\n",
    "SELECT (SELECT COUNT(*) from Nessie.steam.languages AT BRANCH insert_demo) \n",
    "     - (SELECT COUNT(*) From Nessie.steam.languages AT BRANCH main)\n",
    "\"\"\", conn).item() == 858570"
   ]
  },
  {
   "cell_type": "markdown",
   "id": "bdedecb3-8768-4195-b5cc-6643e5921d98",
   "metadata": {},
   "source": [
    "Given that we're happy with the new data - it passes all our data quality checks - we're ready for the Publish step. \n",
    "\n",
    "In a git-like fashion, we can merge the two branches and all our changes will be visible to the \"regular\" users"
   ]
  },
  {
   "cell_type": "code",
   "execution_count": 57,
   "id": "ad05a189-5f1b-4e3a-837a-09a359ced4c3",
   "metadata": {},
   "outputs": [
    {
     "name": "stdout",
     "output_type": "stream",
     "text": [
      "Branch insert_demo has been merged into main on source Nessie.\n"
     ]
    }
   ],
   "source": [
    "with conn.cursor() as c:\n",
    "    c.execute(\"MERGE BRANCH insert_demo into main in Nessie\")\n",
    "    print(c.fetchone()[1])"
   ]
  },
  {
   "cell_type": "code",
   "execution_count": 58,
   "id": "f9b6e695-9355-42ef-922e-cfe83e4bcf2a",
   "metadata": {},
   "outputs": [
    {
     "data": {
      "text/html": [
       "<div><style>\n",
       ".dataframe > thead > tr,\n",
       ".dataframe > tbody > tr {\n",
       "  text-align: right;\n",
       "  white-space: pre-wrap;\n",
       "}\n",
       "</style>\n",
       "<small>shape: (1, 1)</small><table border=\"1\" class=\"dataframe\"><thead><tr><th>num_reviews</th></tr><tr><td>i64</td></tr></thead><tbody><tr><td>11342344</td></tr></tbody></table></div>"
      ],
      "text/plain": [
       "shape: (1, 1)\n",
       "┌─────────────┐\n",
       "│ num_reviews │\n",
       "│ ---         │\n",
       "│ i64         │\n",
       "╞═════════════╡\n",
       "│ 11342344    │\n",
       "└─────────────┘"
      ]
     },
     "execution_count": 58,
     "metadata": {},
     "output_type": "execute_result"
    }
   ],
   "source": [
    "pl.read_database(\"SELECT COUNT(*) as num_reviews FROM Nessie.steam.languages at branch main\", conn)"
   ]
  },
  {
   "cell_type": "markdown",
   "id": "0c2d5ce3-a37b-485e-9774-72b9cf3c5728",
   "metadata": {},
   "source": [
    "The changes have been merged in, and we can clean up"
   ]
  },
  {
   "cell_type": "code",
   "execution_count": 59,
   "id": "099224ae-f35d-4075-b0ab-c8c493c9a579",
   "metadata": {},
   "outputs": [
    {
     "name": "stdout",
     "output_type": "stream",
     "text": [
      "Current version context set to branch main in source Nessie.\n",
      "Branch insert_demo has been dropped on source Nessie.\n"
     ]
    }
   ],
   "source": [
    "with conn.cursor() as c:\n",
    "    c.execute(\"USE BRANCH main in Nessie\")\n",
    "    print(c.fetchone()[1])\n",
    "    c.execute(\"DROP BRANCH insert_demo in Nessie\")\n",
    "    print(c.fetchone()[1])"
   ]
  },
  {
   "cell_type": "markdown",
   "id": "3bb848aa-f55d-4fcd-b5ba-d2f2cdf85395",
   "metadata": {},
   "source": [
    "# Time Travel\n",
    "\n",
    "Not only can we do Git branching, we can also do timetravel as part of the Iceberg spec. \n",
    "\n",
    "We could imagine that after the insert, we want to store a pointer to this version of the data, so we can go back to how data looked at an exact point in time. Iceberg has been keeping snapshots of each of our operations"
   ]
  },
  {
   "cell_type": "code",
   "execution_count": 60,
   "id": "fa388532-29b5-4a76-8c6d-5682e3f4130e",
   "metadata": {},
   "outputs": [
    {
     "data": {
      "text/html": [
       "<div><style>\n",
       ".dataframe > thead > tr,\n",
       ".dataframe > tbody > tr {\n",
       "  text-align: right;\n",
       "  white-space: pre-wrap;\n",
       "}\n",
       "</style>\n",
       "<small>shape: (2, 6)</small><table border=\"1\" class=\"dataframe\"><thead><tr><th>committed_at</th><th>snapshot_id</th><th>parent_id</th><th>operation</th><th>manifest_list</th><th>summary</th></tr><tr><td>datetime[ms]</td><td>i64</td><td>i64</td><td>str</td><td>str</td><td>list[struct[2]]</td></tr></thead><tbody><tr><td>2024-08-03 19:40:34.303</td><td>2919915608453998030</td><td>null</td><td>&quot;append&quot;</td><td>&quot;s3://warehouse/steam/languages…</td><td>[{&quot;added-files-size&quot;,&quot;27356584&quot;}, {&quot;added-data-files&quot;,&quot;89&quot;}, … {&quot;total-equality-deletes&quot;,&quot;0&quot;}]</td></tr><tr><td>2024-08-03 19:59:51.048</td><td>9205576444219515382</td><td>2919915608453998030</td><td>&quot;append&quot;</td><td>&quot;s3://warehouse/steam/languages…</td><td>[{&quot;dremio-job-id&quot;,&quot;195173ca-7b41-4deb-a85b-ff90a6e6c000&quot;}, {&quot;added-data-files&quot;,&quot;166&quot;}, … {&quot;total-equality-deletes&quot;,&quot;0&quot;}]</td></tr></tbody></table></div>"
      ],
      "text/plain": [
       "shape: (2, 6)\n",
       "┌─────────────────┬─────────────────┬────────────────┬───────────┬────────────────┬────────────────┐\n",
       "│ committed_at    ┆ snapshot_id     ┆ parent_id      ┆ operation ┆ manifest_list  ┆ summary        │\n",
       "│ ---             ┆ ---             ┆ ---            ┆ ---       ┆ ---            ┆ ---            │\n",
       "│ datetime[ms]    ┆ i64             ┆ i64            ┆ str       ┆ str            ┆ list[struct[2] │\n",
       "│                 ┆                 ┆                ┆           ┆                ┆ ]              │\n",
       "╞═════════════════╪═════════════════╪════════════════╪═══════════╪════════════════╪════════════════╡\n",
       "│ 2024-08-03      ┆ 291991560845399 ┆ null           ┆ append    ┆ s3://warehouse ┆ [{\"added-files │\n",
       "│ 19:40:34.303    ┆ 8030            ┆                ┆           ┆ /steam/languag ┆ -size\",\"273565 │\n",
       "│                 ┆                 ┆                ┆           ┆ es…            ┆ 84…            │\n",
       "│ 2024-08-03      ┆ 920557644421951 ┆ 29199156084539 ┆ append    ┆ s3://warehouse ┆ [{\"dremio-job- │\n",
       "│ 19:59:51.048    ┆ 5382            ┆ 98030          ┆           ┆ /steam/languag ┆ id\",\"195173ca- │\n",
       "│                 ┆                 ┆                ┆           ┆ es…            ┆ 7b…            │\n",
       "└─────────────────┴─────────────────┴────────────────┴───────────┴────────────────┴────────────────┘"
      ]
     },
     "execution_count": 60,
     "metadata": {},
     "output_type": "execute_result"
    }
   ],
   "source": [
    "pl.read_database(\"SELECT * FROM TABLE(table_snapshot('Nessie.steam.languages'))\", conn)"
   ]
  },
  {
   "cell_type": "markdown",
   "id": "611484f8-cdd1-4307-a615-d4a65427c158",
   "metadata": {},
   "source": [
    "I can choose between a snapshot_id:"
   ]
  },
  {
   "cell_type": "code",
   "execution_count": 61,
   "id": "21a9eecd-15b8-4908-b02e-8cba9b4dcd34",
   "metadata": {},
   "outputs": [
    {
     "data": {
      "text/html": [
       "<div><style>\n",
       ".dataframe > thead > tr,\n",
       ".dataframe > tbody > tr {\n",
       "  text-align: right;\n",
       "  white-space: pre-wrap;\n",
       "}\n",
       "</style>\n",
       "<small>shape: (1, 1)</small><table border=\"1\" class=\"dataframe\"><thead><tr><th>EXPR$0</th></tr><tr><td>i64</td></tr></thead><tbody><tr><td>10483774</td></tr></tbody></table></div>"
      ],
      "text/plain": [
       "shape: (1, 1)\n",
       "┌──────────┐\n",
       "│ EXPR$0   │\n",
       "│ ---      │\n",
       "│ i64      │\n",
       "╞══════════╡\n",
       "│ 10483774 │\n",
       "└──────────┘"
      ]
     },
     "execution_count": 61,
     "metadata": {},
     "output_type": "execute_result"
    }
   ],
   "source": [
    "pl.read_database(\"SELECT COUNT(*) FROM Nessie.steam.languages at snapshot '2919915608453998030'\", conn)"
   ]
  },
  {
   "cell_type": "markdown",
   "id": "8aa97ad1-c74b-43f8-86de-3a4b79a88853",
   "metadata": {},
   "source": [
    "Or a timestamp:"
   ]
  },
  {
   "cell_type": "code",
   "execution_count": 62,
   "id": "d3c0f657-368a-4564-a1f4-e4e2ed2d0072",
   "metadata": {},
   "outputs": [
    {
     "data": {
      "text/html": [
       "<div><style>\n",
       ".dataframe > thead > tr,\n",
       ".dataframe > tbody > tr {\n",
       "  text-align: right;\n",
       "  white-space: pre-wrap;\n",
       "}\n",
       "</style>\n",
       "<small>shape: (1, 1)</small><table border=\"1\" class=\"dataframe\"><thead><tr><th>EXPR$0</th></tr><tr><td>i64</td></tr></thead><tbody><tr><td>10483774</td></tr></tbody></table></div>"
      ],
      "text/plain": [
       "shape: (1, 1)\n",
       "┌──────────┐\n",
       "│ EXPR$0   │\n",
       "│ ---      │\n",
       "│ i64      │\n",
       "╞══════════╡\n",
       "│ 10483774 │\n",
       "└──────────┘"
      ]
     },
     "execution_count": 62,
     "metadata": {},
     "output_type": "execute_result"
    }
   ],
   "source": [
    "pl.read_database(\"SELECT COUNT(*) FROM Nessie.steam.languages at TIMESTAMP '2024-08-03 19:50:00'\", conn)"
   ]
  },
  {
   "cell_type": "markdown",
   "id": "c37f5d68-0402-4599-a013-6e21ffd6045b",
   "metadata": {},
   "source": [
    "After publishing, we may want to store a tag on the data in order to be able to audit how the data looked at a specific point in time"
   ]
  },
  {
   "cell_type": "code",
   "execution_count": 64,
   "id": "9aa9fd09-b7ad-403f-836a-ae0da63ee088",
   "metadata": {},
   "outputs": [
    {
     "name": "stdout",
     "output_type": "stream",
     "text": [
      "Tag my_report has been created at branch main in source Nessie.\n"
     ]
    }
   ],
   "source": [
    "with conn.cursor() as c:\n",
    "    c.execute('CREATE TAG my_report FROM BRANCH main IN Nessie')\n",
    "    print(c.fetchone()[1])"
   ]
  },
  {
   "cell_type": "code",
   "execution_count": 65,
   "id": "686ca4b5-49d5-4665-90bc-9b8cb7659c05",
   "metadata": {},
   "outputs": [
    {
     "name": "stdout",
     "output_type": "stream",
     "text": [
      "Deleted 858,570 rows\n"
     ]
    }
   ],
   "source": [
    "with conn.cursor() as c:\n",
    "    c.execute(\"DELETE FROM Nessie.steam.languages where game_id = '550'\")\n",
    "    print(f\"Deleted {c.fetchone()[0]:,} rows\")"
   ]
  },
  {
   "cell_type": "code",
   "execution_count": 67,
   "id": "9c213d2e-c6c5-4752-a362-07125c0e6a61",
   "metadata": {},
   "outputs": [
    {
     "data": {
      "text/html": [
       "<div><style>\n",
       ".dataframe > thead > tr,\n",
       ".dataframe > tbody > tr {\n",
       "  text-align: right;\n",
       "  white-space: pre-wrap;\n",
       "}\n",
       "</style>\n",
       "<small>shape: (1, 1)</small><table border=\"1\" class=\"dataframe\"><thead><tr><th>num_rows</th></tr><tr><td>i64</td></tr></thead><tbody><tr><td>10483774</td></tr></tbody></table></div>"
      ],
      "text/plain": [
       "shape: (1, 1)\n",
       "┌──────────┐\n",
       "│ num_rows │\n",
       "│ ---      │\n",
       "│ i64      │\n",
       "╞══════════╡\n",
       "│ 10483774 │\n",
       "└──────────┘"
      ]
     },
     "execution_count": 67,
     "metadata": {},
     "output_type": "execute_result"
    }
   ],
   "source": [
    "pl.read_database(\"SELECT COUNT(*) as num_rows FROM Nessie.steam.languages\", conn)"
   ]
  },
  {
   "cell_type": "markdown",
   "id": "1736a326-5d85-4e64-a2dd-6a3be53d9944",
   "metadata": {},
   "source": [
    "Oops! Good thing I have a tag - my report is unaffected"
   ]
  },
  {
   "cell_type": "code",
   "execution_count": 68,
   "id": "7b3693b3-2406-4559-bbb0-089e3d04a471",
   "metadata": {},
   "outputs": [
    {
     "data": {
      "text/html": [
       "<div><style>\n",
       ".dataframe > thead > tr,\n",
       ".dataframe > tbody > tr {\n",
       "  text-align: right;\n",
       "  white-space: pre-wrap;\n",
       "}\n",
       "</style>\n",
       "<small>shape: (1, 1)</small><table border=\"1\" class=\"dataframe\"><thead><tr><th>num_rows</th></tr><tr><td>i64</td></tr></thead><tbody><tr><td>11342344</td></tr></tbody></table></div>"
      ],
      "text/plain": [
       "shape: (1, 1)\n",
       "┌──────────┐\n",
       "│ num_rows │\n",
       "│ ---      │\n",
       "│ i64      │\n",
       "╞══════════╡\n",
       "│ 11342344 │\n",
       "└──────────┘"
      ]
     },
     "execution_count": 68,
     "metadata": {},
     "output_type": "execute_result"
    }
   ],
   "source": [
    "pl.read_database(\"SELECT COUNT(*) as num_rows FROM Nessie.steam.languages AT TAG my_report\", conn)"
   ]
  },
  {
   "cell_type": "markdown",
   "id": "f945c850-4a4a-429d-b1f0-1d84492de658",
   "metadata": {},
   "source": [
    "Let's rollback the accidental deletion by going for a snapshot before the accidental deletion"
   ]
  },
  {
   "cell_type": "code",
   "execution_count": 69,
   "id": "138e7fde-9601-4663-b054-ee3af43e65e9",
   "metadata": {},
   "outputs": [
    {
     "data": {
      "text/html": [
       "<div><style>\n",
       ".dataframe > thead > tr,\n",
       ".dataframe > tbody > tr {\n",
       "  text-align: right;\n",
       "  white-space: pre-wrap;\n",
       "}\n",
       "</style>\n",
       "<small>shape: (3, 6)</small><table border=\"1\" class=\"dataframe\"><thead><tr><th>committed_at</th><th>snapshot_id</th><th>parent_id</th><th>operation</th><th>manifest_list</th><th>summary</th></tr><tr><td>datetime[ms]</td><td>i64</td><td>i64</td><td>str</td><td>str</td><td>list[struct[2]]</td></tr></thead><tbody><tr><td>2024-08-03 19:40:34.303</td><td>2919915608453998030</td><td>null</td><td>&quot;append&quot;</td><td>&quot;s3://warehouse/steam/languages…</td><td>[{&quot;added-files-size&quot;,&quot;27356584&quot;}, {&quot;added-data-files&quot;,&quot;89&quot;}, … {&quot;total-equality-deletes&quot;,&quot;0&quot;}]</td></tr><tr><td>2024-08-03 19:59:51.048</td><td>9205576444219515382</td><td>2919915608453998030</td><td>&quot;append&quot;</td><td>&quot;s3://warehouse/steam/languages…</td><td>[{&quot;dremio-job-id&quot;,&quot;195173ca-7b41-4deb-a85b-ff90a6e6c000&quot;}, {&quot;added-data-files&quot;,&quot;166&quot;}, … {&quot;total-equality-deletes&quot;,&quot;0&quot;}]</td></tr><tr><td>2024-08-03 20:07:24.780</td><td>7912176480591895159</td><td>9205576444219515382</td><td>&quot;overwrite&quot;</td><td>&quot;s3://warehouse/steam/languages…</td><td>[{&quot;dremio-job-id&quot;,&quot;19517204-d63f-c5cb-6520-17f35ed3c000&quot;}, {&quot;deleted-data-files&quot;,&quot;166&quot;}, … {&quot;total-equality-deletes&quot;,&quot;0&quot;}]</td></tr></tbody></table></div>"
      ],
      "text/plain": [
       "shape: (3, 6)\n",
       "┌─────────────────┬─────────────────┬────────────────┬───────────┬────────────────┬────────────────┐\n",
       "│ committed_at    ┆ snapshot_id     ┆ parent_id      ┆ operation ┆ manifest_list  ┆ summary        │\n",
       "│ ---             ┆ ---             ┆ ---            ┆ ---       ┆ ---            ┆ ---            │\n",
       "│ datetime[ms]    ┆ i64             ┆ i64            ┆ str       ┆ str            ┆ list[struct[2] │\n",
       "│                 ┆                 ┆                ┆           ┆                ┆ ]              │\n",
       "╞═════════════════╪═════════════════╪════════════════╪═══════════╪════════════════╪════════════════╡\n",
       "│ 2024-08-03      ┆ 291991560845399 ┆ null           ┆ append    ┆ s3://warehouse ┆ [{\"added-files │\n",
       "│ 19:40:34.303    ┆ 8030            ┆                ┆           ┆ /steam/languag ┆ -size\",\"273565 │\n",
       "│                 ┆                 ┆                ┆           ┆ es…            ┆ 84…            │\n",
       "│ 2024-08-03      ┆ 920557644421951 ┆ 29199156084539 ┆ append    ┆ s3://warehouse ┆ [{\"dremio-job- │\n",
       "│ 19:59:51.048    ┆ 5382            ┆ 98030          ┆           ┆ /steam/languag ┆ id\",\"195173ca- │\n",
       "│                 ┆                 ┆                ┆           ┆ es…            ┆ 7b…            │\n",
       "│ 2024-08-03      ┆ 791217648059189 ┆ 92055764442195 ┆ overwrite ┆ s3://warehouse ┆ [{\"dremio-job- │\n",
       "│ 20:07:24.780    ┆ 5159            ┆ 15382          ┆           ┆ /steam/languag ┆ id\",\"19517204- │\n",
       "│                 ┆                 ┆                ┆           ┆ es…            ┆ d6…            │\n",
       "└─────────────────┴─────────────────┴────────────────┴───────────┴────────────────┴────────────────┘"
      ]
     },
     "execution_count": 69,
     "metadata": {},
     "output_type": "execute_result"
    }
   ],
   "source": [
    "pl.read_database(\"SELECT * FROM TABLE(table_snapshot('Nessie.steam.languages'))\", conn)"
   ]
  },
  {
   "cell_type": "code",
   "execution_count": 70,
   "id": "a085980c-5e5f-41c4-9ef0-8d679af9a5b0",
   "metadata": {},
   "outputs": [
    {
     "name": "stdout",
     "output_type": "stream",
     "text": [
      "Table [Nessie.steam.languages] rollbacked\n"
     ]
    }
   ],
   "source": [
    "with conn.cursor() as c:\n",
    "    c.execute(\"ROLLBACK TABLE Nessie.steam.languages TO SNAPSHOT '9205576444219515382'\")\n",
    "    print(c.fetchone()[1])"
   ]
  },
  {
   "cell_type": "code",
   "execution_count": 72,
   "id": "6dd248a3-d5ef-4450-84d7-b71766d3ac91",
   "metadata": {},
   "outputs": [
    {
     "data": {
      "text/html": [
       "<div><style>\n",
       ".dataframe > thead > tr,\n",
       ".dataframe > tbody > tr {\n",
       "  text-align: right;\n",
       "  white-space: pre-wrap;\n",
       "}\n",
       "</style>\n",
       "<small>shape: (1, 1)</small><table border=\"1\" class=\"dataframe\"><thead><tr><th>num_rows</th></tr><tr><td>i64</td></tr></thead><tbody><tr><td>11342344</td></tr></tbody></table></div>"
      ],
      "text/plain": [
       "shape: (1, 1)\n",
       "┌──────────┐\n",
       "│ num_rows │\n",
       "│ ---      │\n",
       "│ i64      │\n",
       "╞══════════╡\n",
       "│ 11342344 │\n",
       "└──────────┘"
      ]
     },
     "execution_count": 72,
     "metadata": {},
     "output_type": "execute_result"
    }
   ],
   "source": [
    "pl.read_database(\"SELECT COUNT(*) as num_rows FROM Nessie.steam.languages\", conn)"
   ]
  },
  {
   "cell_type": "markdown",
   "id": "0492a392-3d72-41b3-a70d-bbb4eb638970",
   "metadata": {},
   "source": [
    "Back to normal!"
   ]
  },
  {
   "cell_type": "code",
   "execution_count": null,
   "id": "7dd5257f-7125-4a34-a543-58ae8447aa7f",
   "metadata": {},
   "outputs": [],
   "source": []
  }
 ],
 "metadata": {
  "kernelspec": {
   "display_name": "Python 3 (ipykernel)",
   "language": "python",
   "name": "python3"
  },
  "language_info": {
   "codemirror_mode": {
    "name": "ipython",
    "version": 3
   },
   "file_extension": ".py",
   "mimetype": "text/x-python",
   "name": "python",
   "nbconvert_exporter": "python",
   "pygments_lexer": "ipython3",
   "version": "3.12.7"
  }
 },
 "nbformat": 4,
 "nbformat_minor": 5
}
