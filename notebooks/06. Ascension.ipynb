{
 "cells": [
  {
   "cell_type": "code",
   "execution_count": 1,
   "id": "4cee2ec7-8163-4559-862c-b21bce6d9ce4",
   "metadata": {},
   "outputs": [],
   "source": [
    "import sqlalchemy as sa"
   ]
  },
  {
   "cell_type": "code",
   "execution_count": 2,
   "id": "54984c9c-01d7-446a-aec3-5c22392f8f44",
   "metadata": {},
   "outputs": [
    {
     "name": "stdout",
     "output_type": "stream",
     "text": [
      "2024-07-19 15:12:30 orders-athena-output\n",
      "2024-07-19 13:30:41 pydata-copenhagen-datalake\n"
     ]
    }
   ],
   "source": [
    "!aws s3 ls"
   ]
  },
  {
   "cell_type": "code",
   "execution_count": 7,
   "id": "b4432741-166e-45bc-956b-cccaa3b0f169",
   "metadata": {},
   "outputs": [
    {
     "name": "stderr",
     "output_type": "stream",
     "text": [
      "/var/folders/94/w5htd3l11v34hyng419qg_r40000gn/T/ipykernel_4403/2803637010.py:1: SADeprecationWarning: The dbapi() classmethod on dialect classes has been renamed to import_dbapi().  Implement an import_dbapi() classmethod directly on class <class 'pyathena.sqlalchemy.arrow.AthenaArrowDialect'> to remove this warning; the old .dbapi() classmethod may be maintained for backwards compatibility.\n",
      "  engine = sa.create_engine('awsathena+arrow://:@athena.eu-north-1.amazonaws.com:443/?s3_staging_dir=s3://orders-athena-output')\n"
     ]
    }
   ],
   "source": [
    "engine = sa.create_engine('awsathena+arrow://:@athena.eu-north-1.amazonaws.com:443/?s3_staging_dir=s3://orders-athena-output')"
   ]
  },
  {
   "cell_type": "code",
   "execution_count": 13,
   "id": "54412aec-9d6d-4967-b839-afca26988b2f",
   "metadata": {},
   "outputs": [],
   "source": [
    "with engine.connect() as conn:\n",
    "    r = conn.execute(sa.text('SELECT *,  from reviews.pydata_copenhagen_datalake limit 10'))\n",
    "    t = r.fetchall()"
   ]
  },
  {
   "cell_type": "code",
   "execution_count": 15,
   "id": "e71245cb-9213-4191-862c-34ee842d5551",
   "metadata": {},
   "outputs": [
    {
     "data": {
      "text/plain": [
       "(155543311, 'schinese', datetime.datetime(2024, 1, 8, 9, 36, 51), datetime.datetime(2024, 1, 8, 9, 36, 51), True, 0, 0, 0.0, 0, True, 0, 0, 1, '', 76561199583714976, 0, 1, 733, 0, 205, datetime.datetime(2024, 4, 27, 0, 45, 11), 2024, 1, '1238810', 'extract')"
      ]
     },
     "execution_count": 15,
     "metadata": {},
     "output_type": "execute_result"
    }
   ],
   "source": [
    "t[0]"
   ]
  },
  {
   "cell_type": "code",
   "execution_count": 12,
   "id": "af0ccd07-068f-4d4c-a41a-696431831e25",
   "metadata": {},
   "outputs": [
    {
     "data": {
      "text/plain": [
       "[]"
      ]
     },
     "execution_count": 12,
     "metadata": {},
     "output_type": "execute_result"
    }
   ],
   "source": [
    "l"
   ]
  },
  {
   "cell_type": "code",
   "execution_count": null,
   "id": "3b326285-228c-45f5-85a5-899ea4c95642",
   "metadata": {},
   "outputs": [],
   "source": []
  }
 ],
 "metadata": {
  "kernelspec": {
   "display_name": "Python 3 (ipykernel)",
   "language": "python",
   "name": "python3"
  },
  "language_info": {
   "codemirror_mode": {
    "name": "ipython",
    "version": 3
   },
   "file_extension": ".py",
   "mimetype": "text/x-python",
   "name": "python",
   "nbconvert_exporter": "python",
   "pygments_lexer": "ipython3",
   "version": "3.12.2"
  }
 },
 "nbformat": 4,
 "nbformat_minor": 5
}
