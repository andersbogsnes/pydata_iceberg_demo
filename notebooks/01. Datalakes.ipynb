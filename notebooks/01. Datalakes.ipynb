{
 "cells": [
  {
   "attachments": {},
   "cell_type": "markdown",
   "id": "4cd2acf2-77b9-43e9-85b6-d34508366e5e",
   "metadata": {},
   "source": [
    "# The History of the Datalake\n",
    "\n",
    "There are a million implementations of the distributed file share, but the idea really took off with the publication of a Google paper entitlted [\"The Google File System\"](https://research.google/pubs/the-google-file-system/) - a description of how Google had implemented their distributed file system in a fault-tolerant way, with data redundancy running on cheap consumer hardware while simultaneously being able to serve a large number of clients. This paper, combined with another Google paper on [MapReduce](https://research.google/pubs/mapreduce-simplified-data-processing-on-large-clusters/) that laid out a programming model for effectively working with distributed data was the foundation for Hadoop, born in 2006 out of Yahoo.\n",
    "\n",
    "## The dawn of Hadoop\n",
    "\n",
    "![Hadoop logo](images/logos/hadoop_logo.png)\n",
    "\n",
    "Hadoop was an ecosystem, built around the ideas presented in the Google papers. MapReduce, while key to the computational part of Hadoop, turned out to be fairly tricky to write, so a number of Apache projects sprung up around it. Today, the most significant of these would be Apache Hive, and Apache Spark. Hive provided a database-like SQL abstraction on top of MapReduce, and Apache Spark which changed the programming model of MapReduce, moving towards building a Directed Acyclic Graph (DAG) of operations to be performed on RDDs (Resilient Distributed Datasets)\n",
    "\n",
    "## The advent of the datalake\n",
    "\n",
    "![Data Lake](images/logos/datalake.png)\n",
    "\n",
    "The concept of a Data Lake was coined in 2011 by the CTO of Pentaho to contrast with the concept of a Data Mart. The Data Mart was a targeted set of tables around curated data. The promise of Hadoop's ecosystem was to be able to store the raw data directly, avoiding having to do the up-front work of deciding what was important, as well as being able to work with heterogenous data.\n",
    "\n",
    "## The rise of AWS\n",
    "\n",
    "Many soon found out that running Hadoop was a pain, as maintaining the Hadoop HDFS systems alongside all the various distributed server technologies needed to be able to query the data was the domain of highly skilled (and expensive) engineers. AWS launched its Seriously Simple Storage (S3) in 2006, allowing companies to offload their Hadoop implementations onto S3, becoming the standard for object storage.\n",
    "\n",
    "## The importance of file formats\n",
    "\n",
    "Each iteration of distributed file shares have given us better ways of managing the files in a multi-client, fault-tolerant manner. Allowing us to store petabytes of data in files means that the file formats themselves become key to maximizing performance of the client. \n",
    "\n",
    "Let's walk through the most common file formats used in modern Data Engineering\n",
    "\n",
    "# The Row-Oriented Formats\n",
    "\n",
    "# The CSV\n",
    "\n",
    "![CSV Logo](images/logos/csv_logo.png)\n",
    "\n",
    "The CSV is the workhorse of Data Engineering - everyone understands CSV and pretty much every system can generate CSVs. \n",
    "\n",
    "Plain text, human readable, even Jupyter can read CSV, what's not to love?"
   ]
  },
  {
   "cell_type": "code",
   "execution_count": 1,
   "id": "94be18a9-bd96-4b28-bfc2-d1999c599fed",
   "metadata": {},
   "outputs": [],
   "source": [
    "import polars as pl"
   ]
  },
  {
   "cell_type": "code",
   "execution_count": 2,
   "id": "e4e043cf-18bc-454a-9591-31305afb1dfc",
   "metadata": {},
   "outputs": [
    {
     "data": {
      "text/html": [
       "<div><style>\n",
       ".dataframe > thead > tr,\n",
       ".dataframe > tbody > tr {\n",
       "  text-align: right;\n",
       "  white-space: pre-wrap;\n",
       "}\n",
       "</style>\n",
       "<small>shape: (238_828, 21)</small><table border=\"1\" class=\"dataframe\"><thead><tr><th>recommendationid</th><th>language</th><th>timestamp_created</th><th>timestamp_updated</th><th>voted_up</th><th>votes_up</th><th>votes_funny</th><th>weighted_vote_score</th><th>comment_count</th><th>steam_purchase</th><th>received_for_free</th><th>written_during_early_access</th><th>hidden_in_steam_china</th><th>steam_china_location</th><th>author_steamid</th><th>author_num_games_owned</th><th>author_num_reviews</th><th>author_playtime_forever</th><th>author_playtime_last_two_weeks</th><th>author_playtime_at_review</th><th>author_last_played</th></tr><tr><td>i64</td><td>str</td><td>i64</td><td>i64</td><td>i64</td><td>i64</td><td>i64</td><td>f64</td><td>i64</td><td>i64</td><td>i64</td><td>i64</td><td>i64</td><td>str</td><td>i64</td><td>i64</td><td>i64</td><td>i64</td><td>i64</td><td>i64</td><td>i64</td></tr></thead><tbody><tr><td>147937429</td><td>&quot;english&quot;</td><td>1696875102</td><td>1717510986</td><td>1</td><td>3</td><td>0</td><td>0.5268</td><td>0</td><td>1</td><td>0</td><td>0</td><td>1</td><td>null</td><td>76561199550893216</td><td>35</td><td>23</td><td>59161</td><td>4738</td><td>58753</td><td>1717541057</td></tr><tr><td>166664841</td><td>&quot;russian&quot;</td><td>1717510100</td><td>1717510100</td><td>1</td><td>0</td><td>0</td><td>0.0</td><td>0</td><td>1</td><td>0</td><td>0</td><td>1</td><td>null</td><td>76561199161536896</td><td>24</td><td>11</td><td>436</td><td>71</td><td>385</td><td>1717512997</td></tr><tr><td>166664763</td><td>&quot;russian&quot;</td><td>1717510009</td><td>1717510009</td><td>1</td><td>0</td><td>0</td><td>0.0</td><td>0</td><td>0</td><td>0</td><td>0</td><td>1</td><td>null</td><td>76561198046827632</td><td>0</td><td>7</td><td>23750</td><td>7</td><td>23743</td><td>1717510490</td></tr><tr><td>166663001</td><td>&quot;turkish&quot;</td><td>1717508182</td><td>1717508182</td><td>0</td><td>0</td><td>0</td><td>0.0</td><td>0</td><td>0</td><td>0</td><td>0</td><td>1</td><td>null</td><td>76561199374468448</td><td>32</td><td>4</td><td>361</td><td>19</td><td>356</td><td>1717508513</td></tr><tr><td>166658743</td><td>&quot;brazilian&quot;</td><td>1717503385</td><td>1717503385</td><td>1</td><td>1</td><td>0</td><td>0.52381</td><td>0</td><td>1</td><td>0</td><td>0</td><td>1</td><td>null</td><td>76561198018922960</td><td>9</td><td>1</td><td>1497</td><td>0</td><td>1497</td><td>1478272196</td></tr><tr><td>&hellip;</td><td>&hellip;</td><td>&hellip;</td><td>&hellip;</td><td>&hellip;</td><td>&hellip;</td><td>&hellip;</td><td>&hellip;</td><td>&hellip;</td><td>&hellip;</td><td>&hellip;</td><td>&hellip;</td><td>&hellip;</td><td>&hellip;</td><td>&hellip;</td><td>&hellip;</td><td>&hellip;</td><td>&hellip;</td><td>&hellip;</td><td>&hellip;</td><td>&hellip;</td></tr><tr><td>null</td><td>&quot;1351380029&quot;</td><td>1</td><td>0</td><td>0</td><td>0</td><td>0</td><td>1.0</td><td>0</td><td>0</td><td>0</td><td>null</td><td>76561198008269840</td><td>&quot;0.0&quot;</td><td>2</td><td>95521</td><td>0</td><td>37952</td><td>1547225350</td><td>null</td><td>null</td></tr><tr><td>149330962</td><td>&quot;russian&quot;</td><td>1698868683</td><td>1698868683</td><td>1</td><td>0</td><td>0</td><td>0.0</td><td>0</td><td>1</td><td>0</td><td>0</td><td>1</td><td>null</td><td>76561199093871104</td><td>62</td><td>26</td><td>29</td><td>10</td><td>29</td><td>1698427415</td></tr><tr><td>149284037</td><td>&quot;english&quot;</td><td>1698800321</td><td>1698800321</td><td>1</td><td>0</td><td>0</td><td>0.0</td><td>0</td><td>0</td><td>1</td><td>0</td><td>1</td><td>null</td><td>76561199052025216</td><td>46</td><td>3</td><td>3367</td><td>2694</td><td>3016</td><td>1698892194</td></tr><tr><td>127959835</td><td>&quot;schinese&quot;</td><td>1670214704</td><td>1698915106</td><td>1</td><td>0</td><td>0</td><td>0.0</td><td>0</td><td>1</td><td>0</td><td>0</td><td>1</td><td>null</td><td>76561199209656688</td><td>47</td><td>11</td><td>1179</td><td>0</td><td>1179</td><td>1694817767</td></tr><tr><td>1092034</td><td>&quot;english&quot;</td><td>1291918689</td><td>1291918689</td><td>1</td><td>0</td><td>0</td><td>0.0</td><td>0</td><td>0</td><td>0</td><td>0</td><td>0</td><td>null</td><td>76561197986485904</td><td>0</td><td>2</td><td>119070</td><td>0</td><td>116910</td><td>1396684983</td></tr></tbody></table></div>"
      ],
      "text/plain": [
       "shape: (238_828, 21)\n",
       "┌───────────┬───────────┬───────────┬───────────┬───┬───────────┬───────────┬───────────┬──────────┐\n",
       "│ recommend ┆ language  ┆ timestamp ┆ timestamp ┆ … ┆ author_pl ┆ author_pl ┆ author_pl ┆ author_l │\n",
       "│ ationid   ┆ ---       ┆ _created  ┆ _updated  ┆   ┆ aytime_fo ┆ aytime_la ┆ aytime_at ┆ ast_play │\n",
       "│ ---       ┆ str       ┆ ---       ┆ ---       ┆   ┆ rever     ┆ st_two_we ┆ _review   ┆ ed       │\n",
       "│ i64       ┆           ┆ i64       ┆ i64       ┆   ┆ ---       ┆ eks       ┆ ---       ┆ ---      │\n",
       "│           ┆           ┆           ┆           ┆   ┆ i64       ┆ ---       ┆ i64       ┆ i64      │\n",
       "│           ┆           ┆           ┆           ┆   ┆           ┆ i64       ┆           ┆          │\n",
       "╞═══════════╪═══════════╪═══════════╪═══════════╪═══╪═══════════╪═══════════╪═══════════╪══════════╡\n",
       "│ 147937429 ┆ english   ┆ 169687510 ┆ 171751098 ┆ … ┆ 59161     ┆ 4738      ┆ 58753     ┆ 17175410 │\n",
       "│           ┆           ┆ 2         ┆ 6         ┆   ┆           ┆           ┆           ┆ 57       │\n",
       "│ 166664841 ┆ russian   ┆ 171751010 ┆ 171751010 ┆ … ┆ 436       ┆ 71        ┆ 385       ┆ 17175129 │\n",
       "│           ┆           ┆ 0         ┆ 0         ┆   ┆           ┆           ┆           ┆ 97       │\n",
       "│ 166664763 ┆ russian   ┆ 171751000 ┆ 171751000 ┆ … ┆ 23750     ┆ 7         ┆ 23743     ┆ 17175104 │\n",
       "│           ┆           ┆ 9         ┆ 9         ┆   ┆           ┆           ┆           ┆ 90       │\n",
       "│ 166663001 ┆ turkish   ┆ 171750818 ┆ 171750818 ┆ … ┆ 361       ┆ 19        ┆ 356       ┆ 17175085 │\n",
       "│           ┆           ┆ 2         ┆ 2         ┆   ┆           ┆           ┆           ┆ 13       │\n",
       "│ 166658743 ┆ brazilian ┆ 171750338 ┆ 171750338 ┆ … ┆ 1497      ┆ 0         ┆ 1497      ┆ 14782721 │\n",
       "│           ┆           ┆ 5         ┆ 5         ┆   ┆           ┆           ┆           ┆ 96       │\n",
       "│ …         ┆ …         ┆ …         ┆ …         ┆ … ┆ …         ┆ …         ┆ …         ┆ …        │\n",
       "│ null      ┆ 135138002 ┆ 1         ┆ 0         ┆ … ┆ 37952     ┆ 154722535 ┆ null      ┆ null     │\n",
       "│           ┆ 9         ┆           ┆           ┆   ┆           ┆ 0         ┆           ┆          │\n",
       "│ 149330962 ┆ russian   ┆ 169886868 ┆ 169886868 ┆ … ┆ 29        ┆ 10        ┆ 29        ┆ 16984274 │\n",
       "│           ┆           ┆ 3         ┆ 3         ┆   ┆           ┆           ┆           ┆ 15       │\n",
       "│ 149284037 ┆ english   ┆ 169880032 ┆ 169880032 ┆ … ┆ 3367      ┆ 2694      ┆ 3016      ┆ 16988921 │\n",
       "│           ┆           ┆ 1         ┆ 1         ┆   ┆           ┆           ┆           ┆ 94       │\n",
       "│ 127959835 ┆ schinese  ┆ 167021470 ┆ 169891510 ┆ … ┆ 1179      ┆ 0         ┆ 1179      ┆ 16948177 │\n",
       "│           ┆           ┆ 4         ┆ 6         ┆   ┆           ┆           ┆           ┆ 67       │\n",
       "│ 1092034   ┆ english   ┆ 129191868 ┆ 129191868 ┆ … ┆ 119070    ┆ 0         ┆ 116910    ┆ 13966849 │\n",
       "│           ┆           ┆ 9         ┆ 9         ┆   ┆           ┆           ┆           ┆ 83       │\n",
       "└───────────┴───────────┴───────────┴───────────┴───┴───────────┴───────────┴───────────┴──────────┘"
      ]
     },
     "execution_count": 2,
     "metadata": {},
     "output_type": "execute_result"
    }
   ],
   "source": [
    "df = pl.read_csv('data/10.csv')\n",
    "df"
   ]
  },
  {
   "cell_type": "markdown",
   "id": "8ef3a4cc-0adf-4c86-a319-7e03db83e7d4",
   "metadata": {},
   "source": [
    "While easy to read, since a CSV is just text, each column's datatype has been inferred, through a `CSVSniffer` - by defaults sampling the first 100 rows and guessing at the correct datatype. \n",
    "\n",
    "If that sounds errorprone, that's because it is!\n",
    "\n",
    "Of course the worst offender is that there is no standard for CSV files - if you look at any CSV parsing library or function, they are forced to handle any number of potential formats. `polars.read_csv` has 33 arguments, `pandas.read_csv` has 49. This makes portability of CSV difficult, as there's a lot of edge cases to handle across systems. For analytical purposes, CSV is row-oriented, \n",
    "\n",
    "Given this data:\n",
    "\n",
    "![Example Data](images/columnar_vs_row.png)\n",
    "\n",
    "A CSV file would look like this to the parser:\n",
    "`Seller,Product,Sales ($)\\James,Shoes,20.00\\Kirk,Shoes,27.50\\nPicard,Socks,5.00`\n",
    "\n",
    "If I want to sum up all the sales, the scanner needs to read through each character one-by-one to identify the `,` separator which signifies a column and `\\n` which signifies a row.\n",
    "\n",
    "![CSV Parser](images/csv_reader.png)\n",
    "\n",
    "Then it would throw out 2/3rds of the data it read into memory and finally convert the `Sales ($)` string into floats and do the sum.\n",
    "\n",
    "It remains a fact of Data Engineering that you'll have to deal with CSVs, and luckily a lot of engineering effort has gone into building very performant csv readers that can automatically handle lots of CSV oddities.\n",
    "\n",
    "## The JSON file\n",
    "\n",
    "![JSON logo](images/logos/json_logo.jpg)\n",
    "\n",
    "A step up from CSV, JSON has a formal [ECMA standard](https://ecma-international.org/publications-and-standards/standards/ecma-404/), making it much more portable. It comes at the cost of verbosity though, as each key is repeated for each line, and the format is still row-based.\n",
    "\n",
    "```json\n",
    "[\n",
    "    {\"Seller\": \"James\", \"Product\": \"Shoes\", \"Sales\": 20.00}, \n",
    "    {\"Seller\": \"Kirk\", \"Product\": \"Shoes\", \"Sales\": 27.50}, \n",
    "    {\"Seller\": \"Picard\", \"Product\": \"Socks\", \"Sales\": 5.00}\n",
    "]\n",
    "```"
   ]
  },
  {
   "cell_type": "code",
   "execution_count": 26,
   "id": "276080b8-7e37-4d7a-adfe-9a540d2c30c3",
   "metadata": {},
   "outputs": [],
   "source": [
    "# df.filter(pl.col(\"recommendationid\").is_not_null()).write_json(\"data/10.json\")"
   ]
  },
  {
   "cell_type": "code",
   "execution_count": 7,
   "id": "072903bc-5a04-47cd-83d9-5740b09ede12",
   "metadata": {},
   "outputs": [
    {
     "name": "stdout",
     "output_type": "stream",
     "text": [
      "\u001b[1;39m{\n",
      "  \u001b[0m\u001b[34;1m\"recommendationid\"\u001b[0m\u001b[1;39m: \u001b[0m\u001b[0;39m147937429\u001b[0m\u001b[1;39m,\n",
      "  \u001b[0m\u001b[34;1m\"language\"\u001b[0m\u001b[1;39m: \u001b[0m\u001b[0;32m\"english\"\u001b[0m\u001b[1;39m,\n",
      "  \u001b[0m\u001b[34;1m\"timestamp_created\"\u001b[0m\u001b[1;39m: \u001b[0m\u001b[0;39m1696875102\u001b[0m\u001b[1;39m,\n",
      "  \u001b[0m\u001b[34;1m\"timestamp_updated\"\u001b[0m\u001b[1;39m: \u001b[0m\u001b[0;39m1717510986\u001b[0m\u001b[1;39m,\n",
      "  \u001b[0m\u001b[34;1m\"voted_up\"\u001b[0m\u001b[1;39m: \u001b[0m\u001b[0;39m1\u001b[0m\u001b[1;39m,\n",
      "  \u001b[0m\u001b[34;1m\"votes_up\"\u001b[0m\u001b[1;39m: \u001b[0m\u001b[0;39m3\u001b[0m\u001b[1;39m,\n",
      "  \u001b[0m\u001b[34;1m\"votes_funny\"\u001b[0m\u001b[1;39m: \u001b[0m\u001b[0;39m0\u001b[0m\u001b[1;39m,\n",
      "  \u001b[0m\u001b[34;1m\"weighted_vote_score\"\u001b[0m\u001b[1;39m: \u001b[0m\u001b[0;39m0.5267999172210693\u001b[0m\u001b[1;39m,\n",
      "  \u001b[0m\u001b[34;1m\"comment_count\"\u001b[0m\u001b[1;39m: \u001b[0m\u001b[0;39m0\u001b[0m\u001b[1;39m,\n",
      "  \u001b[0m\u001b[34;1m\"steam_purchase\"\u001b[0m\u001b[1;39m: \u001b[0m\u001b[0;39m1\u001b[0m\u001b[1;39m,\n",
      "  \u001b[0m\u001b[34;1m\"received_for_free\"\u001b[0m\u001b[1;39m: \u001b[0m\u001b[0;39m0\u001b[0m\u001b[1;39m,\n",
      "  \u001b[0m\u001b[34;1m\"written_during_early_access\"\u001b[0m\u001b[1;39m: \u001b[0m\u001b[0;39m0\u001b[0m\u001b[1;39m,\n",
      "  \u001b[0m\u001b[34;1m\"hidden_in_steam_china\"\u001b[0m\u001b[1;39m: \u001b[0m\u001b[0;39m1\u001b[0m\u001b[1;39m,\n",
      "  \u001b[0m\u001b[34;1m\"steam_china_location\"\u001b[0m\u001b[1;39m: \u001b[0m\u001b[1;30mnull\u001b[0m\u001b[1;39m,\n",
      "  \u001b[0m\u001b[34;1m\"author_steamid\"\u001b[0m\u001b[1;39m: \u001b[0m\u001b[0;39m76561199550893220\u001b[0m\u001b[1;39m,\n",
      "  \u001b[0m\u001b[34;1m\"author_num_games_owned\"\u001b[0m\u001b[1;39m: \u001b[0m\u001b[0;39m35\u001b[0m\u001b[1;39m,\n",
      "  \u001b[0m\u001b[34;1m\"author_num_reviews\"\u001b[0m\u001b[1;39m: \u001b[0m\u001b[0;39m23\u001b[0m\u001b[1;39m,\n",
      "  \u001b[0m\u001b[34;1m\"author_playtime_forever\"\u001b[0m\u001b[1;39m: \u001b[0m\u001b[0;39m59161\u001b[0m\u001b[1;39m,\n",
      "  \u001b[0m\u001b[34;1m\"author_playtime_last_two_weeks\"\u001b[0m\u001b[1;39m: \u001b[0m\u001b[0;39m4738\u001b[0m\u001b[1;39m,\n",
      "  \u001b[0m\u001b[34;1m\"author_playtime_at_review\"\u001b[0m\u001b[1;39m: \u001b[0m\u001b[0;39m58753\u001b[0m\u001b[1;39m,\n",
      "  \u001b[0m\u001b[34;1m\"author_last_played\"\u001b[0m\u001b[1;39m: \u001b[0m\u001b[0;39m1717541057\u001b[0m\u001b[1;39m\n",
      "\u001b[1;39m}\u001b[0m\n"
     ]
    }
   ],
   "source": [
    "!jq '.[0]' data/10.json"
   ]
  },
  {
   "cell_type": "code",
   "execution_count": 8,
   "id": "3168fd50-d07c-4c78-94cd-80c3b5034ab5",
   "metadata": {},
   "outputs": [
    {
     "data": {
      "text/html": [
       "<div><style>\n",
       ".dataframe > thead > tr,\n",
       ".dataframe > tbody > tr {\n",
       "  text-align: right;\n",
       "  white-space: pre-wrap;\n",
       "}\n",
       "</style>\n",
       "<small>shape: (5, 21)</small><table border=\"1\" class=\"dataframe\"><thead><tr><th>recommendationid</th><th>language</th><th>timestamp_created</th><th>timestamp_updated</th><th>voted_up</th><th>votes_up</th><th>votes_funny</th><th>weighted_vote_score</th><th>comment_count</th><th>steam_purchase</th><th>received_for_free</th><th>written_during_early_access</th><th>hidden_in_steam_china</th><th>steam_china_location</th><th>author_steamid</th><th>author_num_games_owned</th><th>author_num_reviews</th><th>author_playtime_forever</th><th>author_playtime_last_two_weeks</th><th>author_playtime_at_review</th><th>author_last_played</th></tr><tr><td>i64</td><td>str</td><td>i64</td><td>i64</td><td>i64</td><td>i64</td><td>i64</td><td>f64</td><td>i64</td><td>i64</td><td>i64</td><td>i64</td><td>i64</td><td>null</td><td>i64</td><td>i64</td><td>i64</td><td>i64</td><td>i64</td><td>i64</td><td>i64</td></tr></thead><tbody><tr><td>147937429</td><td>&quot;english&quot;</td><td>1696875102</td><td>1717510986</td><td>1</td><td>3</td><td>0</td><td>0.5268</td><td>0</td><td>1</td><td>0</td><td>0</td><td>1</td><td>null</td><td>76561199550893216</td><td>35</td><td>23</td><td>59161</td><td>4738</td><td>58753</td><td>1717541057</td></tr><tr><td>166664841</td><td>&quot;russian&quot;</td><td>1717510100</td><td>1717510100</td><td>1</td><td>0</td><td>0</td><td>0.0</td><td>0</td><td>1</td><td>0</td><td>0</td><td>1</td><td>null</td><td>76561199161536896</td><td>24</td><td>11</td><td>436</td><td>71</td><td>385</td><td>1717512997</td></tr><tr><td>166664763</td><td>&quot;russian&quot;</td><td>1717510009</td><td>1717510009</td><td>1</td><td>0</td><td>0</td><td>0.0</td><td>0</td><td>0</td><td>0</td><td>0</td><td>1</td><td>null</td><td>76561198046827632</td><td>0</td><td>7</td><td>23750</td><td>7</td><td>23743</td><td>1717510490</td></tr><tr><td>166663001</td><td>&quot;turkish&quot;</td><td>1717508182</td><td>1717508182</td><td>0</td><td>0</td><td>0</td><td>0.0</td><td>0</td><td>0</td><td>0</td><td>0</td><td>1</td><td>null</td><td>76561199374468448</td><td>32</td><td>4</td><td>361</td><td>19</td><td>356</td><td>1717508513</td></tr><tr><td>166658743</td><td>&quot;brazilian&quot;</td><td>1717503385</td><td>1717503385</td><td>1</td><td>1</td><td>0</td><td>0.52381</td><td>0</td><td>1</td><td>0</td><td>0</td><td>1</td><td>null</td><td>76561198018922960</td><td>9</td><td>1</td><td>1497</td><td>0</td><td>1497</td><td>1478272196</td></tr></tbody></table></div>"
      ],
      "text/plain": [
       "shape: (5, 21)\n",
       "┌───────────┬───────────┬───────────┬───────────┬───┬───────────┬───────────┬───────────┬──────────┐\n",
       "│ recommend ┆ language  ┆ timestamp ┆ timestamp ┆ … ┆ author_pl ┆ author_pl ┆ author_pl ┆ author_l │\n",
       "│ ationid   ┆ ---       ┆ _created  ┆ _updated  ┆   ┆ aytime_fo ┆ aytime_la ┆ aytime_at ┆ ast_play │\n",
       "│ ---       ┆ str       ┆ ---       ┆ ---       ┆   ┆ rever     ┆ st_two_we ┆ _review   ┆ ed       │\n",
       "│ i64       ┆           ┆ i64       ┆ i64       ┆   ┆ ---       ┆ eks       ┆ ---       ┆ ---      │\n",
       "│           ┆           ┆           ┆           ┆   ┆ i64       ┆ ---       ┆ i64       ┆ i64      │\n",
       "│           ┆           ┆           ┆           ┆   ┆           ┆ i64       ┆           ┆          │\n",
       "╞═══════════╪═══════════╪═══════════╪═══════════╪═══╪═══════════╪═══════════╪═══════════╪══════════╡\n",
       "│ 147937429 ┆ english   ┆ 169687510 ┆ 171751098 ┆ … ┆ 59161     ┆ 4738      ┆ 58753     ┆ 17175410 │\n",
       "│           ┆           ┆ 2         ┆ 6         ┆   ┆           ┆           ┆           ┆ 57       │\n",
       "│ 166664841 ┆ russian   ┆ 171751010 ┆ 171751010 ┆ … ┆ 436       ┆ 71        ┆ 385       ┆ 17175129 │\n",
       "│           ┆           ┆ 0         ┆ 0         ┆   ┆           ┆           ┆           ┆ 97       │\n",
       "│ 166664763 ┆ russian   ┆ 171751000 ┆ 171751000 ┆ … ┆ 23750     ┆ 7         ┆ 23743     ┆ 17175104 │\n",
       "│           ┆           ┆ 9         ┆ 9         ┆   ┆           ┆           ┆           ┆ 90       │\n",
       "│ 166663001 ┆ turkish   ┆ 171750818 ┆ 171750818 ┆ … ┆ 361       ┆ 19        ┆ 356       ┆ 17175085 │\n",
       "│           ┆           ┆ 2         ┆ 2         ┆   ┆           ┆           ┆           ┆ 13       │\n",
       "│ 166658743 ┆ brazilian ┆ 171750338 ┆ 171750338 ┆ … ┆ 1497      ┆ 0         ┆ 1497      ┆ 14782721 │\n",
       "│           ┆           ┆ 5         ┆ 5         ┆   ┆           ┆           ┆           ┆ 96       │\n",
       "└───────────┴───────────┴───────────┴───────────┴───┴───────────┴───────────┴───────────┴──────────┘"
      ]
     },
     "execution_count": 8,
     "metadata": {},
     "output_type": "execute_result"
    }
   ],
   "source": [
    "df = pl.read_json('data/10.json')\n",
    "df.head()"
   ]
  },
  {
   "cell_type": "markdown",
   "id": "2da5bbab-0db3-450a-88f2-4fe1127ff8c3",
   "metadata": {},
   "source": [
    "## Apache Avro\n",
    "\n",
    "![Apache Avro Logo](images/logos/avro_logo.png)\n",
    "\n",
    "Avro joined the Apache Hadoop project in 2009, and is used mainly as a data interchange format, much like JSON, but is a binary format with a schema defined in JSON. Avro is a row-oriented format, and is a common format used in message brokers like Kafka.\n",
    "\n",
    "An Avro schema is defined as JSON and would look something like this\n",
    "```json\n",
    "{\"namespace\": \"acme.avro\",\n",
    " \"type\": \"record\",\n",
    " \"name\": \"Sales\",\n",
    " \"fields\": [\n",
    "     {\"name\": \"Seller\", \"type\": [\"string\", \"null\"]},\n",
    "     {\"name\": \"Product\",  \"type\": \"string\"},\n",
    "     {\"name\": \"Sales\", \"type\": \"float\"}\n",
    " ]\n",
    "}\n",
    "```\n",
    "\n",
    "The data is then encoded into the Avro binary format based on the schema, and the consumer would use the schema to decode the incoming binary data.\n",
    "While used in the Hadoop ecosystem to transmit data back and forth between nodes, Avro is not commonly seen as the format used to store data in a Data Lake"
   ]
  },
  {
   "cell_type": "code",
   "execution_count": 9,
   "id": "5bca3add-9c9f-452c-9cf6-16563b0c3a00",
   "metadata": {},
   "outputs": [],
   "source": [
    "import avro.schema\n",
    "from avro.datafile import DataFileWriter\n",
    "from avro.io import DatumWriter\n",
    "import json\n",
    "\n",
    "avro_schema = {\"namespace\": \"reviews.avro\",\n",
    " \"type\": \"record\",\n",
    " \"name\": \"Review\",\n",
    " \"fields\": [\n",
    "     {\"name\": \"recommendationid\", \"type\": [\"int\", \"null\"]},\n",
    "     {\"name\": \"language\",  \"type\": \"string\", \"logicalType\": \"time-millis\"},\n",
    "     {\"name\": \"timestamp_created\", \"type\": \"int\", \"logicalType\": \"time-millis\"},\n",
    "     {\"name\": \"timestamp_updated\", \"type\": \"int\", \"logicalType\": \"time-millis\"},\n",
    "     {\"name\": 'voted_up', \"type\": \"int\"},\n",
    "     {\"name\": 'votes_up', \"type\": \"long\"},\n",
    "     {\"name\": 'votes_funny', \"type\": \"long\"},\n",
    "     {\"name\": 'weighted_vote_score', \"type\": \"float\"},\n",
    "     {\"name\": 'comment_count', \"type\": \"long\"},\n",
    "     {\"name\": 'steam_purchase', \"type\": \"int\"},\n",
    "     {\"name\": 'received_for_free',\"type\": \"int\"},\n",
    "     {\"name\": 'written_during_early_access', \"type\": [\"int\", \"null\"]},\n",
    "     {\"name\": 'hidden_in_steam_china', \"type\": \"long\"},\n",
    "     {\"name\": 'steam_china_location', \"type\": [\"string\", \"null\"]},\n",
    "     {\"name\": 'author_steamid', \"type\": \"long\"},\n",
    "     {\"name\": 'author_num_games_owned', \"type\": \"int\"},\n",
    "     {\"name\": 'author_num_reviews', \"type\": \"int\"},\n",
    "     {\"name\": 'author_playtime_forever', \"type\": \"int\"},\n",
    "     {\"name\": 'author_playtime_last_two_weeks', \"type\": \"int\"},\n",
    "     {\"name\": 'author_playtime_at_review', \"type\": [\"int\", \"null\"]},\n",
    "     {\"name\": 'author_last_played', \"type\": \"int\", \"logicalType\": \"time-millis\"}\n",
    " ]\n",
    "}\n",
    "\n",
    "reviews_schema = avro.schema.parse(json.dumps(avro_schema))"
   ]
  },
  {
   "cell_type": "code",
   "execution_count": 10,
   "id": "19f7e7cc-feaa-44c2-9733-867dc2fe1409",
   "metadata": {},
   "outputs": [],
   "source": [
    "with open(\"data/reviews.avro\", \"wb\") as f:\n",
    "    writer = DataFileWriter(f, DatumWriter(), reviews_schema)\n",
    "    for record in df.filter(pl.col(\"recommendationid\").is_not_null()).to_dicts():\n",
    "        writer.append(record)\n",
    "    writer.close()"
   ]
  },
  {
   "cell_type": "code",
   "execution_count": 11,
   "id": "f03f26eb-c7bd-4b03-b55f-c4cea103d772",
   "metadata": {},
   "outputs": [
    {
     "name": "stdout",
     "output_type": "stream",
     "text": [
      "total 1.3G\n",
      " 26M 10.csv\t 243M 578080.csv\t   15M reviews.avro\n",
      "129M 10.json\t 820M 730.csv\t\t   11M reviews.orc\n",
      " 34M 289070.csv   14M appid_mapping.json  6.1M reviews.parquet\n"
     ]
    }
   ],
   "source": [
    "!ls -hs ./data"
   ]
  },
  {
   "cell_type": "code",
   "execution_count": 12,
   "id": "c5cd0ee7-caa9-4616-b43f-744b957caeed",
   "metadata": {},
   "outputs": [
    {
     "data": {
      "text/html": [
       "<div><style>\n",
       ".dataframe > thead > tr,\n",
       ".dataframe > tbody > tr {\n",
       "  text-align: right;\n",
       "  white-space: pre-wrap;\n",
       "}\n",
       "</style>\n",
       "<small>shape: (238_827, 21)</small><table border=\"1\" class=\"dataframe\"><thead><tr><th>recommendationid</th><th>language</th><th>timestamp_created</th><th>timestamp_updated</th><th>voted_up</th><th>votes_up</th><th>votes_funny</th><th>weighted_vote_score</th><th>comment_count</th><th>steam_purchase</th><th>received_for_free</th><th>written_during_early_access</th><th>hidden_in_steam_china</th><th>steam_china_location</th><th>author_steamid</th><th>author_num_games_owned</th><th>author_num_reviews</th><th>author_playtime_forever</th><th>author_playtime_last_two_weeks</th><th>author_playtime_at_review</th><th>author_last_played</th></tr><tr><td>i32</td><td>str</td><td>i32</td><td>i32</td><td>i32</td><td>i64</td><td>i64</td><td>f32</td><td>i64</td><td>i32</td><td>i32</td><td>i32</td><td>i64</td><td>str</td><td>i64</td><td>i32</td><td>i32</td><td>i32</td><td>i32</td><td>i32</td><td>i32</td></tr></thead><tbody><tr><td>147937429</td><td>&quot;english&quot;</td><td>1696875102</td><td>1717510986</td><td>1</td><td>3</td><td>0</td><td>0.5268</td><td>0</td><td>1</td><td>0</td><td>0</td><td>1</td><td>null</td><td>76561199550893216</td><td>35</td><td>23</td><td>59161</td><td>4738</td><td>58753</td><td>1717541057</td></tr><tr><td>166664841</td><td>&quot;russian&quot;</td><td>1717510100</td><td>1717510100</td><td>1</td><td>0</td><td>0</td><td>0.0</td><td>0</td><td>1</td><td>0</td><td>0</td><td>1</td><td>null</td><td>76561199161536896</td><td>24</td><td>11</td><td>436</td><td>71</td><td>385</td><td>1717512997</td></tr><tr><td>166664763</td><td>&quot;russian&quot;</td><td>1717510009</td><td>1717510009</td><td>1</td><td>0</td><td>0</td><td>0.0</td><td>0</td><td>0</td><td>0</td><td>0</td><td>1</td><td>null</td><td>76561198046827632</td><td>0</td><td>7</td><td>23750</td><td>7</td><td>23743</td><td>1717510490</td></tr><tr><td>166663001</td><td>&quot;turkish&quot;</td><td>1717508182</td><td>1717508182</td><td>0</td><td>0</td><td>0</td><td>0.0</td><td>0</td><td>0</td><td>0</td><td>0</td><td>1</td><td>null</td><td>76561199374468448</td><td>32</td><td>4</td><td>361</td><td>19</td><td>356</td><td>1717508513</td></tr><tr><td>166658743</td><td>&quot;brazilian&quot;</td><td>1717503385</td><td>1717503385</td><td>1</td><td>1</td><td>0</td><td>0.52381</td><td>0</td><td>1</td><td>0</td><td>0</td><td>1</td><td>null</td><td>76561198018922960</td><td>9</td><td>1</td><td>1497</td><td>0</td><td>1497</td><td>1478272196</td></tr><tr><td>&hellip;</td><td>&hellip;</td><td>&hellip;</td><td>&hellip;</td><td>&hellip;</td><td>&hellip;</td><td>&hellip;</td><td>&hellip;</td><td>&hellip;</td><td>&hellip;</td><td>&hellip;</td><td>&hellip;</td><td>&hellip;</td><td>&hellip;</td><td>&hellip;</td><td>&hellip;</td><td>&hellip;</td><td>&hellip;</td><td>&hellip;</td><td>&hellip;</td><td>&hellip;</td></tr><tr><td>8227337</td><td>&quot;polish&quot;</td><td>1387815443</td><td>1387815443</td><td>1</td><td>0</td><td>0</td><td>0.0</td><td>0</td><td>0</td><td>0</td><td>0</td><td>0</td><td>null</td><td>76561198054766880</td><td>114</td><td>2</td><td>68669</td><td>0</td><td>47901</td><td>1524517419</td></tr><tr><td>149330962</td><td>&quot;russian&quot;</td><td>1698868683</td><td>1698868683</td><td>1</td><td>0</td><td>0</td><td>0.0</td><td>0</td><td>1</td><td>0</td><td>0</td><td>1</td><td>null</td><td>76561199093871104</td><td>62</td><td>26</td><td>29</td><td>10</td><td>29</td><td>1698427415</td></tr><tr><td>149284037</td><td>&quot;english&quot;</td><td>1698800321</td><td>1698800321</td><td>1</td><td>0</td><td>0</td><td>0.0</td><td>0</td><td>0</td><td>1</td><td>0</td><td>1</td><td>null</td><td>76561199052025216</td><td>46</td><td>3</td><td>3367</td><td>2694</td><td>3016</td><td>1698892194</td></tr><tr><td>127959835</td><td>&quot;schinese&quot;</td><td>1670214704</td><td>1698915106</td><td>1</td><td>0</td><td>0</td><td>0.0</td><td>0</td><td>1</td><td>0</td><td>0</td><td>1</td><td>null</td><td>76561199209656688</td><td>47</td><td>11</td><td>1179</td><td>0</td><td>1179</td><td>1694817767</td></tr><tr><td>1092034</td><td>&quot;english&quot;</td><td>1291918689</td><td>1291918689</td><td>1</td><td>0</td><td>0</td><td>0.0</td><td>0</td><td>0</td><td>0</td><td>0</td><td>0</td><td>null</td><td>76561197986485904</td><td>0</td><td>2</td><td>119070</td><td>0</td><td>116910</td><td>1396684983</td></tr></tbody></table></div>"
      ],
      "text/plain": [
       "shape: (238_827, 21)\n",
       "┌───────────┬───────────┬───────────┬───────────┬───┬───────────┬───────────┬───────────┬──────────┐\n",
       "│ recommend ┆ language  ┆ timestamp ┆ timestamp ┆ … ┆ author_pl ┆ author_pl ┆ author_pl ┆ author_l │\n",
       "│ ationid   ┆ ---       ┆ _created  ┆ _updated  ┆   ┆ aytime_fo ┆ aytime_la ┆ aytime_at ┆ ast_play │\n",
       "│ ---       ┆ str       ┆ ---       ┆ ---       ┆   ┆ rever     ┆ st_two_we ┆ _review   ┆ ed       │\n",
       "│ i32       ┆           ┆ i32       ┆ i32       ┆   ┆ ---       ┆ eks       ┆ ---       ┆ ---      │\n",
       "│           ┆           ┆           ┆           ┆   ┆ i32       ┆ ---       ┆ i32       ┆ i32      │\n",
       "│           ┆           ┆           ┆           ┆   ┆           ┆ i32       ┆           ┆          │\n",
       "╞═══════════╪═══════════╪═══════════╪═══════════╪═══╪═══════════╪═══════════╪═══════════╪══════════╡\n",
       "│ 147937429 ┆ english   ┆ 169687510 ┆ 171751098 ┆ … ┆ 59161     ┆ 4738      ┆ 58753     ┆ 17175410 │\n",
       "│           ┆           ┆ 2         ┆ 6         ┆   ┆           ┆           ┆           ┆ 57       │\n",
       "│ 166664841 ┆ russian   ┆ 171751010 ┆ 171751010 ┆ … ┆ 436       ┆ 71        ┆ 385       ┆ 17175129 │\n",
       "│           ┆           ┆ 0         ┆ 0         ┆   ┆           ┆           ┆           ┆ 97       │\n",
       "│ 166664763 ┆ russian   ┆ 171751000 ┆ 171751000 ┆ … ┆ 23750     ┆ 7         ┆ 23743     ┆ 17175104 │\n",
       "│           ┆           ┆ 9         ┆ 9         ┆   ┆           ┆           ┆           ┆ 90       │\n",
       "│ 166663001 ┆ turkish   ┆ 171750818 ┆ 171750818 ┆ … ┆ 361       ┆ 19        ┆ 356       ┆ 17175085 │\n",
       "│           ┆           ┆ 2         ┆ 2         ┆   ┆           ┆           ┆           ┆ 13       │\n",
       "│ 166658743 ┆ brazilian ┆ 171750338 ┆ 171750338 ┆ … ┆ 1497      ┆ 0         ┆ 1497      ┆ 14782721 │\n",
       "│           ┆           ┆ 5         ┆ 5         ┆   ┆           ┆           ┆           ┆ 96       │\n",
       "│ …         ┆ …         ┆ …         ┆ …         ┆ … ┆ …         ┆ …         ┆ …         ┆ …        │\n",
       "│ 8227337   ┆ polish    ┆ 138781544 ┆ 138781544 ┆ … ┆ 68669     ┆ 0         ┆ 47901     ┆ 15245174 │\n",
       "│           ┆           ┆ 3         ┆ 3         ┆   ┆           ┆           ┆           ┆ 19       │\n",
       "│ 149330962 ┆ russian   ┆ 169886868 ┆ 169886868 ┆ … ┆ 29        ┆ 10        ┆ 29        ┆ 16984274 │\n",
       "│           ┆           ┆ 3         ┆ 3         ┆   ┆           ┆           ┆           ┆ 15       │\n",
       "│ 149284037 ┆ english   ┆ 169880032 ┆ 169880032 ┆ … ┆ 3367      ┆ 2694      ┆ 3016      ┆ 16988921 │\n",
       "│           ┆           ┆ 1         ┆ 1         ┆   ┆           ┆           ┆           ┆ 94       │\n",
       "│ 127959835 ┆ schinese  ┆ 167021470 ┆ 169891510 ┆ … ┆ 1179      ┆ 0         ┆ 1179      ┆ 16948177 │\n",
       "│           ┆           ┆ 4         ┆ 6         ┆   ┆           ┆           ┆           ┆ 67       │\n",
       "│ 1092034   ┆ english   ┆ 129191868 ┆ 129191868 ┆ … ┆ 119070    ┆ 0         ┆ 116910    ┆ 13966849 │\n",
       "│           ┆           ┆ 9         ┆ 9         ┆   ┆           ┆           ┆           ┆ 83       │\n",
       "└───────────┴───────────┴───────────┴───────────┴───┴───────────┴───────────┴───────────┴──────────┘"
      ]
     },
     "execution_count": 12,
     "metadata": {},
     "output_type": "execute_result"
    }
   ],
   "source": [
    "pl.read_avro('data/reviews.avro')"
   ]
  },
  {
   "cell_type": "markdown",
   "id": "f0168d13-4b28-4465-a8ae-78cdf81aa21f",
   "metadata": {},
   "source": [
    "# The Column-oriented Formats"
   ]
  },
  {
   "cell_type": "markdown",
   "id": "269b5db9-5acb-4607-bb21-aac1d9fa761a",
   "metadata": {},
   "source": [
    "## Apache ORC\n",
    "\n",
    "![Apache ORC Logo](images/logos/apache_orc_logo.png)\n",
    "\n",
    "Initially released in 2013, ORC was developed by Hortonworks, a now-defunct provider of Hadoop-as-a-platform, and Facebook who have been heavily invested in the Hadoop ecosystem to handle it's analytical needs. It was the successor to the RCFile format that was previously used in Hive.\n",
    "\n",
    "ORC is our first example of a columnar-based dataformat - a typed binary format that is stored in columns, allowing for easy access to a given column of data.\n",
    "\n",
    "![Column-oriented storage](images/column_storage.png)\n",
    "\n",
    "Now we can leverage metadata to skip reading large parts of the file that we don't need, and the binary nature means we should get small files\n",
    "\n",
    "ORC is closely linked to the Hive ecosystem, and is commonly seen in organizations that invested heavily in Hive, such as Facebook."
   ]
  },
  {
   "cell_type": "code",
   "execution_count": 13,
   "id": "84476b39-c26e-46a0-a6bf-18867c15f603",
   "metadata": {},
   "outputs": [],
   "source": [
    "from pyarrow import orc\n",
    "# Known issue with all-null columns\n",
    "orc.write_table(df.select(pl.all().exclude('steam_china_location')).to_arrow(), \"data/reviews.orc\")"
   ]
  },
  {
   "cell_type": "code",
   "execution_count": 14,
   "id": "23bb6e10-022b-4ee6-b77f-e36a3230af08",
   "metadata": {},
   "outputs": [
    {
     "name": "stdout",
     "output_type": "stream",
     "text": [
      "total 1.3G\n",
      " 26M 10.csv\t 243M 578080.csv\t   15M reviews.avro\n",
      "129M 10.json\t 820M 730.csv\t\t   12M reviews.orc\n",
      " 34M 289070.csv   14M appid_mapping.json  6.1M reviews.parquet\n"
     ]
    }
   ],
   "source": [
    "!ls -hs data/"
   ]
  },
  {
   "cell_type": "code",
   "execution_count": 15,
   "id": "8a30bdec-931a-491b-bb9f-3e758aaa6021",
   "metadata": {},
   "outputs": [
    {
     "data": {
      "text/html": [
       "<div><style>\n",
       ".dataframe > thead > tr,\n",
       ".dataframe > tbody > tr {\n",
       "  text-align: right;\n",
       "  white-space: pre-wrap;\n",
       "}\n",
       "</style>\n",
       "<small>shape: (238_827, 2)</small><table border=\"1\" class=\"dataframe\"><thead><tr><th>language</th><th>votes_up</th></tr><tr><td>str</td><td>i64</td></tr></thead><tbody><tr><td>&quot;english&quot;</td><td>3</td></tr><tr><td>&quot;russian&quot;</td><td>0</td></tr><tr><td>&quot;russian&quot;</td><td>0</td></tr><tr><td>&quot;turkish&quot;</td><td>0</td></tr><tr><td>&quot;brazilian&quot;</td><td>1</td></tr><tr><td>&hellip;</td><td>&hellip;</td></tr><tr><td>&quot;polish&quot;</td><td>0</td></tr><tr><td>&quot;russian&quot;</td><td>0</td></tr><tr><td>&quot;english&quot;</td><td>0</td></tr><tr><td>&quot;schinese&quot;</td><td>0</td></tr><tr><td>&quot;english&quot;</td><td>0</td></tr></tbody></table></div>"
      ],
      "text/plain": [
       "shape: (238_827, 2)\n",
       "┌───────────┬──────────┐\n",
       "│ language  ┆ votes_up │\n",
       "│ ---       ┆ ---      │\n",
       "│ str       ┆ i64      │\n",
       "╞═══════════╪══════════╡\n",
       "│ english   ┆ 3        │\n",
       "│ russian   ┆ 0        │\n",
       "│ russian   ┆ 0        │\n",
       "│ turkish   ┆ 0        │\n",
       "│ brazilian ┆ 1        │\n",
       "│ …         ┆ …        │\n",
       "│ polish    ┆ 0        │\n",
       "│ russian   ┆ 0        │\n",
       "│ english   ┆ 0        │\n",
       "│ schinese  ┆ 0        │\n",
       "│ english   ┆ 0        │\n",
       "└───────────┴──────────┘"
      ]
     },
     "execution_count": 15,
     "metadata": {},
     "output_type": "execute_result"
    }
   ],
   "source": [
    "pl.from_arrow(orc.read_table('data/reviews.orc', columns=['language', 'votes_up']))"
   ]
  },
  {
   "cell_type": "markdown",
   "id": "d145a530-c17b-4dd4-ab5f-448321699b68",
   "metadata": {},
   "source": [
    "## Apache Parquet\n",
    "\n",
    "![Apache Parquet Logo](images/logos/Apache_Parquet_logo.png)\n",
    "\n",
    "The other column-oriented fileformat, Parquet was created by Twitter and Cloudera in 2013, announced only a month after ORC. \n",
    "\n",
    "Generally considered more language-agnostic, Parquet has become the default choice outside of Hive implementations and is generally the go-to format when working in Python\n",
    "\n",
    "While Parquet and ORC are generally considered column-oriented dataformat, this is actually not quite true - they are hybdrid formats, combining the strengths of row-and-column orientation through striping (ORC term) or row groups (Parquet term). A Row Group will contain a set of grouped data\n",
    "\n",
    "![Parquet Architecture](images/parquet_format.jpeg)"
   ]
  },
  {
   "cell_type": "code",
   "execution_count": 16,
   "id": "d14932b5-ddc7-4692-92a3-4ab3e7bbac17",
   "metadata": {},
   "outputs": [],
   "source": [
    "df.write_parquet(\"data/reviews.parquet\")"
   ]
  },
  {
   "cell_type": "code",
   "execution_count": 18,
   "id": "658a86b0-23fd-41c5-ae3e-13fffc946214",
   "metadata": {},
   "outputs": [
    {
     "data": {
      "text/html": [
       "<div><style>\n",
       ".dataframe > thead > tr,\n",
       ".dataframe > tbody > tr {\n",
       "  text-align: right;\n",
       "  white-space: pre-wrap;\n",
       "}\n",
       "</style>\n",
       "<small>shape: (238_827, 21)</small><table border=\"1\" class=\"dataframe\"><thead><tr><th>recommendationid</th><th>language</th><th>timestamp_created</th><th>timestamp_updated</th><th>voted_up</th><th>votes_up</th><th>votes_funny</th><th>weighted_vote_score</th><th>comment_count</th><th>steam_purchase</th><th>received_for_free</th><th>written_during_early_access</th><th>hidden_in_steam_china</th><th>steam_china_location</th><th>author_steamid</th><th>author_num_games_owned</th><th>author_num_reviews</th><th>author_playtime_forever</th><th>author_playtime_last_two_weeks</th><th>author_playtime_at_review</th><th>author_last_played</th></tr><tr><td>i64</td><td>str</td><td>i64</td><td>i64</td><td>i64</td><td>i64</td><td>i64</td><td>f64</td><td>i64</td><td>i64</td><td>i64</td><td>i64</td><td>i64</td><td>null</td><td>i64</td><td>i64</td><td>i64</td><td>i64</td><td>i64</td><td>i64</td><td>i64</td></tr></thead><tbody><tr><td>147937429</td><td>&quot;english&quot;</td><td>1696875102</td><td>1717510986</td><td>1</td><td>3</td><td>0</td><td>0.5268</td><td>0</td><td>1</td><td>0</td><td>0</td><td>1</td><td>null</td><td>76561199550893216</td><td>35</td><td>23</td><td>59161</td><td>4738</td><td>58753</td><td>1717541057</td></tr><tr><td>166664841</td><td>&quot;russian&quot;</td><td>1717510100</td><td>1717510100</td><td>1</td><td>0</td><td>0</td><td>0.0</td><td>0</td><td>1</td><td>0</td><td>0</td><td>1</td><td>null</td><td>76561199161536896</td><td>24</td><td>11</td><td>436</td><td>71</td><td>385</td><td>1717512997</td></tr><tr><td>166664763</td><td>&quot;russian&quot;</td><td>1717510009</td><td>1717510009</td><td>1</td><td>0</td><td>0</td><td>0.0</td><td>0</td><td>0</td><td>0</td><td>0</td><td>1</td><td>null</td><td>76561198046827632</td><td>0</td><td>7</td><td>23750</td><td>7</td><td>23743</td><td>1717510490</td></tr><tr><td>166663001</td><td>&quot;turkish&quot;</td><td>1717508182</td><td>1717508182</td><td>0</td><td>0</td><td>0</td><td>0.0</td><td>0</td><td>0</td><td>0</td><td>0</td><td>1</td><td>null</td><td>76561199374468448</td><td>32</td><td>4</td><td>361</td><td>19</td><td>356</td><td>1717508513</td></tr><tr><td>166658743</td><td>&quot;brazilian&quot;</td><td>1717503385</td><td>1717503385</td><td>1</td><td>1</td><td>0</td><td>0.52381</td><td>0</td><td>1</td><td>0</td><td>0</td><td>1</td><td>null</td><td>76561198018922960</td><td>9</td><td>1</td><td>1497</td><td>0</td><td>1497</td><td>1478272196</td></tr><tr><td>&hellip;</td><td>&hellip;</td><td>&hellip;</td><td>&hellip;</td><td>&hellip;</td><td>&hellip;</td><td>&hellip;</td><td>&hellip;</td><td>&hellip;</td><td>&hellip;</td><td>&hellip;</td><td>&hellip;</td><td>&hellip;</td><td>&hellip;</td><td>&hellip;</td><td>&hellip;</td><td>&hellip;</td><td>&hellip;</td><td>&hellip;</td><td>&hellip;</td><td>&hellip;</td></tr><tr><td>8227337</td><td>&quot;polish&quot;</td><td>1387815443</td><td>1387815443</td><td>1</td><td>0</td><td>0</td><td>0.0</td><td>0</td><td>0</td><td>0</td><td>0</td><td>0</td><td>null</td><td>76561198054766880</td><td>114</td><td>2</td><td>68669</td><td>0</td><td>47901</td><td>1524517419</td></tr><tr><td>149330962</td><td>&quot;russian&quot;</td><td>1698868683</td><td>1698868683</td><td>1</td><td>0</td><td>0</td><td>0.0</td><td>0</td><td>1</td><td>0</td><td>0</td><td>1</td><td>null</td><td>76561199093871104</td><td>62</td><td>26</td><td>29</td><td>10</td><td>29</td><td>1698427415</td></tr><tr><td>149284037</td><td>&quot;english&quot;</td><td>1698800321</td><td>1698800321</td><td>1</td><td>0</td><td>0</td><td>0.0</td><td>0</td><td>0</td><td>1</td><td>0</td><td>1</td><td>null</td><td>76561199052025216</td><td>46</td><td>3</td><td>3367</td><td>2694</td><td>3016</td><td>1698892194</td></tr><tr><td>127959835</td><td>&quot;schinese&quot;</td><td>1670214704</td><td>1698915106</td><td>1</td><td>0</td><td>0</td><td>0.0</td><td>0</td><td>1</td><td>0</td><td>0</td><td>1</td><td>null</td><td>76561199209656688</td><td>47</td><td>11</td><td>1179</td><td>0</td><td>1179</td><td>1694817767</td></tr><tr><td>1092034</td><td>&quot;english&quot;</td><td>1291918689</td><td>1291918689</td><td>1</td><td>0</td><td>0</td><td>0.0</td><td>0</td><td>0</td><td>0</td><td>0</td><td>0</td><td>null</td><td>76561197986485904</td><td>0</td><td>2</td><td>119070</td><td>0</td><td>116910</td><td>1396684983</td></tr></tbody></table></div>"
      ],
      "text/plain": [
       "shape: (238_827, 21)\n",
       "┌───────────┬───────────┬───────────┬───────────┬───┬───────────┬───────────┬───────────┬──────────┐\n",
       "│ recommend ┆ language  ┆ timestamp ┆ timestamp ┆ … ┆ author_pl ┆ author_pl ┆ author_pl ┆ author_l │\n",
       "│ ationid   ┆ ---       ┆ _created  ┆ _updated  ┆   ┆ aytime_fo ┆ aytime_la ┆ aytime_at ┆ ast_play │\n",
       "│ ---       ┆ str       ┆ ---       ┆ ---       ┆   ┆ rever     ┆ st_two_we ┆ _review   ┆ ed       │\n",
       "│ i64       ┆           ┆ i64       ┆ i64       ┆   ┆ ---       ┆ eks       ┆ ---       ┆ ---      │\n",
       "│           ┆           ┆           ┆           ┆   ┆ i64       ┆ ---       ┆ i64       ┆ i64      │\n",
       "│           ┆           ┆           ┆           ┆   ┆           ┆ i64       ┆           ┆          │\n",
       "╞═══════════╪═══════════╪═══════════╪═══════════╪═══╪═══════════╪═══════════╪═══════════╪══════════╡\n",
       "│ 147937429 ┆ english   ┆ 169687510 ┆ 171751098 ┆ … ┆ 59161     ┆ 4738      ┆ 58753     ┆ 17175410 │\n",
       "│           ┆           ┆ 2         ┆ 6         ┆   ┆           ┆           ┆           ┆ 57       │\n",
       "│ 166664841 ┆ russian   ┆ 171751010 ┆ 171751010 ┆ … ┆ 436       ┆ 71        ┆ 385       ┆ 17175129 │\n",
       "│           ┆           ┆ 0         ┆ 0         ┆   ┆           ┆           ┆           ┆ 97       │\n",
       "│ 166664763 ┆ russian   ┆ 171751000 ┆ 171751000 ┆ … ┆ 23750     ┆ 7         ┆ 23743     ┆ 17175104 │\n",
       "│           ┆           ┆ 9         ┆ 9         ┆   ┆           ┆           ┆           ┆ 90       │\n",
       "│ 166663001 ┆ turkish   ┆ 171750818 ┆ 171750818 ┆ … ┆ 361       ┆ 19        ┆ 356       ┆ 17175085 │\n",
       "│           ┆           ┆ 2         ┆ 2         ┆   ┆           ┆           ┆           ┆ 13       │\n",
       "│ 166658743 ┆ brazilian ┆ 171750338 ┆ 171750338 ┆ … ┆ 1497      ┆ 0         ┆ 1497      ┆ 14782721 │\n",
       "│           ┆           ┆ 5         ┆ 5         ┆   ┆           ┆           ┆           ┆ 96       │\n",
       "│ …         ┆ …         ┆ …         ┆ …         ┆ … ┆ …         ┆ …         ┆ …         ┆ …        │\n",
       "│ 8227337   ┆ polish    ┆ 138781544 ┆ 138781544 ┆ … ┆ 68669     ┆ 0         ┆ 47901     ┆ 15245174 │\n",
       "│           ┆           ┆ 3         ┆ 3         ┆   ┆           ┆           ┆           ┆ 19       │\n",
       "│ 149330962 ┆ russian   ┆ 169886868 ┆ 169886868 ┆ … ┆ 29        ┆ 10        ┆ 29        ┆ 16984274 │\n",
       "│           ┆           ┆ 3         ┆ 3         ┆   ┆           ┆           ┆           ┆ 15       │\n",
       "│ 149284037 ┆ english   ┆ 169880032 ┆ 169880032 ┆ … ┆ 3367      ┆ 2694      ┆ 3016      ┆ 16988921 │\n",
       "│           ┆           ┆ 1         ┆ 1         ┆   ┆           ┆           ┆           ┆ 94       │\n",
       "│ 127959835 ┆ schinese  ┆ 167021470 ┆ 169891510 ┆ … ┆ 1179      ┆ 0         ┆ 1179      ┆ 16948177 │\n",
       "│           ┆           ┆ 4         ┆ 6         ┆   ┆           ┆           ┆           ┆ 67       │\n",
       "│ 1092034   ┆ english   ┆ 129191868 ┆ 129191868 ┆ … ┆ 119070    ┆ 0         ┆ 116910    ┆ 13966849 │\n",
       "│           ┆           ┆ 9         ┆ 9         ┆   ┆           ┆           ┆           ┆ 83       │\n",
       "└───────────┴───────────┴───────────┴───────────┴───┴───────────┴───────────┴───────────┴──────────┘"
      ]
     },
     "execution_count": 18,
     "metadata": {},
     "output_type": "execute_result"
    }
   ],
   "source": [
    "pl.read_parquet(\"data/reviews.parquet\")"
   ]
  },
  {
   "cell_type": "code",
   "execution_count": 19,
   "id": "a293b2fd-4350-48ca-8606-1cbc49ebdc55",
   "metadata": {},
   "outputs": [
    {
     "name": "stdout",
     "output_type": "stream",
     "text": [
      "total 1.3G\n",
      " 26M 10.csv\t 243M 578080.csv\t   15M reviews.avro\n",
      "129M 10.json\t 820M 730.csv\t\t   12M reviews.orc\n",
      " 34M 289070.csv   14M appid_mapping.json  6.1M reviews.parquet\n"
     ]
    },
    {
     "name": "stderr",
     "output_type": "stream",
     "text": [
      "/usr/local/lib/python3.12/pty.py:95: RuntimeWarning: Using fork() can cause Polars to deadlock in the child process.\n",
      "In addition, using fork() with Python in general is a recipe for mysterious\n",
      "deadlocks and crashes.\n",
      "\n",
      "The most likely reason you are seeing this error is because you are using the\n",
      "multiprocessing module on Linux, which uses fork() by default. This will be\n",
      "fixed in Python 3.14. Until then, you want to use the \"spawn\" context instead.\n",
      "\n",
      "See https://docs.pola.rs/user-guide/misc/multiprocessing/ for details.\n",
      "\n",
      "  pid, fd = os.forkpty()\n"
     ]
    }
   ],
   "source": [
    "!ls -hs data/"
   ]
  },
  {
   "cell_type": "markdown",
   "id": "00b549fe-6f61-466b-9752-d01ccf7f5312",
   "metadata": {},
   "source": [
    "A key detail in their implementation is storing metadata alongside the data. This allows query engines to skip parts of the file that aren't relevant to the query, as the metadata will have information such as number of rows, columns, min, max etc. depending on the writing engine. \n",
    "\n",
    "The name of the game is to skip files - the most expensive part of any query is opening a file for reading. At scale, anything that lets us skip reading files will be key to performance. "
   ]
  },
  {
   "cell_type": "code",
   "execution_count": null,
   "id": "593c5ce2-7eb1-444e-915c-49a9de057d8d",
   "metadata": {},
   "outputs": [],
   "source": [
    "# This takes a while!\n",
    "import polars as pl\n",
    "pl.scan_csv('s3://datalake/extract/reviews/*.csv', storage_options={\"aws_access_key_id\": \"minio\", \n",
    "                                                                    \"aws_secret_access_key\": \"minio1234\", \n",
    "                                                                    \"endpoint_url\": \"http://minio:9000\"}).filter(pl.col(\"recommendationid\").is_not_null()).sink_parquet(\"data/all_reviews.parquet\")"
   ]
  },
  {
   "cell_type": "markdown",
   "id": "a190e913-2bf6-48c1-8ba0-81caf6519e28",
   "metadata": {},
   "source": [
    "## Apache Arrow\n",
    "\n",
    "![Apache Arrow Logo](images/logos/apache_arrow_logo.svg)\n",
    "\n",
    "Apache Arrow is an in-memory data format specification. While this means that it's not a file format, it's a key player in the data landscape, as it specifies a shared memory format for tools to adopt. This means that tools can perform zero-copy conversions between representations, as long as they can understand the Arrow specification. \n",
    "\n",
    "In the Python ecosystem, many tools have moved towards adopting Arrow as the native memory format. This includes Pandas, Polars, DuckDB and a whole host of other libraries. The ecosystem also contains tools such as Arrow Flight, an RPC protocol for exchanging client-server via Arrow, Arrow FlightSQL as a server specification for SQL, as well as the Arrow Database Connectivity (ADBC) which aims to provide a client-side abstraction on top.\n",
    "\n",
    "In short, Arrow is the Lingua Franca of exchanging data, and many of the examples in this notebook are driven by the `pyarrow` library, which is the Python reference implementation based on C++ bindings. "
   ]
  },
  {
   "cell_type": "code",
   "execution_count": null,
   "id": "e0028035-cf93-47ef-a2d1-477808d9943d",
   "metadata": {},
   "outputs": [],
   "source": []
  }
 ],
 "metadata": {
  "kernelspec": {
   "display_name": "Python 3 (ipykernel)",
   "language": "python",
   "name": "python3"
  },
  "language_info": {
   "codemirror_mode": {
    "name": "ipython",
    "version": 3
   },
   "file_extension": ".py",
   "mimetype": "text/x-python",
   "name": "python",
   "nbconvert_exporter": "python",
   "pygments_lexer": "ipython3",
   "version": "3.12.7"
  }
 },
 "nbformat": 4,
 "nbformat_minor": 5
}
