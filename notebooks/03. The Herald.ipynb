{
 "cells": [
  {
   "attachments": {},
   "cell_type": "markdown",
   "id": "d590e067-bd78-4a3c-94ff-18b9fcc31f68",
   "metadata": {},
   "source": [
    "# The Herald - Parquet\n",
    "\n",
    "Parquet is the default standard for analytical usecases - it's a binary, column-oriented file format.\n",
    "\n",
    "Before we were storing data as text in CSV. To read a single column, we would need to read the whole row, and throw away the data we don't need. CSV is also pure text data, so we need to convert the string to a given datatype each time.\n",
    "\n",
    "Columnar data is easy to only select the data we want - it's stored together. Parquet also stores metadata about the columns in order to help query engines pick out the correct data\n",
    "\n",
    "![Parquet file format](images/parquet_format.jpeg)"
   ]
  },
  {
   "cell_type": "code",
   "execution_count": 1,
   "id": "cd5744e1-a95d-4425-aeb8-21c0e8292018",
   "metadata": {
    "editable": true,
    "slideshow": {
     "slide_type": ""
    },
    "tags": []
   },
   "outputs": [
    {
     "name": "stdout",
     "output_type": "stream",
     "text": [
      "6.1G\t../data/parquet/steam_reviews.parquet\n"
     ]
    }
   ],
   "source": [
    "!du -hs ../data/parquet/steam_reviews.parquet"
   ]
  },
  {
   "cell_type": "code",
   "execution_count": 2,
   "id": "4460e36a-b76f-474d-bb5f-a925252f7aef",
   "metadata": {},
   "outputs": [],
   "source": [
    "import ibis\n",
    "from ibis import _"
   ]
  },
  {
   "cell_type": "code",
   "execution_count": 3,
   "id": "725673a1-16e2-4283-aaa0-3d166909e75b",
   "metadata": {},
   "outputs": [],
   "source": [
    "p = ibis.read_parquet('../data/parquet/steam_reviews.parquet', table_name='reviews')"
   ]
  },
  {
   "cell_type": "code",
   "execution_count": 4,
   "id": "3658dc32-8ad2-494b-b253-7fa89b52f29e",
   "metadata": {
    "editable": true,
    "slideshow": {
     "slide_type": ""
    },
    "tags": []
   },
   "outputs": [
    {
     "data": {
      "text/html": [
       "<pre style=\"white-space:pre;overflow-x:auto;line-height:normal;font-family:Menlo,'DejaVu Sans Mono',consolas,'Courier New',monospace\">DatabaseTable: reviews\n",
       "  recommendationid               int64\n",
       "  language                       string\n",
       "  timestamp_created              timestamp('UTC', 6)\n",
       "  timestamp_updated              timestamp('UTC', 6)\n",
       "  voted_up                       boolean\n",
       "  votes_up                       int64\n",
       "  votes_funny                    int64\n",
       "  weighted_vote_score            float64\n",
       "  comment_count                  int64\n",
       "  steam_purchase                 boolean\n",
       "  received_for_free              int64\n",
       "  written_during_early_access    int64\n",
       "  hidden_in_steam_china          int64\n",
       "  steam_china_location           string\n",
       "  author_steamid                 int64\n",
       "  author_num_games_owned         int64\n",
       "  author_num_reviews             int64\n",
       "  author_playtime_forever        int64\n",
       "  author_playtime_last_two_weeks int64\n",
       "  author_playtime_at_review      int64\n",
       "  author_last_played             timestamp('UTC', 6)\n",
       "  year_created                   int64\n",
       "  month_created                  int64\n",
       "  game_id                        string\n",
       "</pre>\n"
      ],
      "text/plain": [
       "DatabaseTable: reviews\n",
       "  recommendationid               int64\n",
       "  language                       string\n",
       "  timestamp_created              timestamp('UTC', 6)\n",
       "  timestamp_updated              timestamp('UTC', 6)\n",
       "  voted_up                       boolean\n",
       "  votes_up                       int64\n",
       "  votes_funny                    int64\n",
       "  weighted_vote_score            float64\n",
       "  comment_count                  int64\n",
       "  steam_purchase                 boolean\n",
       "  received_for_free              int64\n",
       "  written_during_early_access    int64\n",
       "  hidden_in_steam_china          int64\n",
       "  steam_china_location           string\n",
       "  author_steamid                 int64\n",
       "  author_num_games_owned         int64\n",
       "  author_num_reviews             int64\n",
       "  author_playtime_forever        int64\n",
       "  author_playtime_last_two_weeks int64\n",
       "  author_playtime_at_review      int64\n",
       "  author_last_played             timestamp('UTC', 6)\n",
       "  year_created                   int64\n",
       "  month_created                  int64\n",
       "  game_id                        string"
      ]
     },
     "execution_count": 4,
     "metadata": {},
     "output_type": "execute_result"
    }
   ],
   "source": [
    "p"
   ]
  },
  {
   "cell_type": "code",
   "execution_count": 5,
   "id": "2d372d27-945a-47b9-aea2-9f272ebec0f2",
   "metadata": {},
   "outputs": [
    {
     "name": "stdout",
     "output_type": "stream",
     "text": [
      "127,572,734\n"
     ]
    }
   ],
   "source": [
    "print(f\"{p.count().execute():,}\")"
   ]
  },
  {
   "cell_type": "code",
   "execution_count": 13,
   "id": "f58d9bba-1640-4dfe-bd09-6ea4063b51c1",
   "metadata": {
    "editable": true,
    "slideshow": {
     "slide_type": ""
    },
    "tags": []
   },
   "outputs": [
    {
     "name": "stdout",
     "output_type": "stream",
     "text": [
      "416 ms ± 6.2 ms per loop (mean ± std. dev. of 7 runs, 1 loop each)\n"
     ]
    }
   ],
   "source": [
    "%%timeit\n",
    "p.language.value_counts().order_by(_.language_count.desc()).to_polars()"
   ]
  },
  {
   "cell_type": "code",
   "execution_count": 12,
   "id": "3816686b-dfe9-485f-96f1-c139c32404ed",
   "metadata": {
    "editable": true,
    "slideshow": {
     "slide_type": ""
    },
    "tags": []
   },
   "outputs": [
    {
     "name": "stdout",
     "output_type": "stream",
     "text": [
      "314 ms ± 5.57 ms per loop (mean ± std. dev. of 7 runs, 1 loop each)\n"
     ]
    }
   ],
   "source": [
    "%%timeit\n",
    "p.group_by(p.year_created, p.month_created).aggregate(p.voted_up.sum()).to_polars()"
   ]
  },
  {
   "cell_type": "code",
   "execution_count": 11,
   "id": "612e35c8-2656-46be-b8bf-78716b4e7023",
   "metadata": {
    "editable": true,
    "slideshow": {
     "slide_type": ""
    },
    "tags": []
   },
   "outputs": [
    {
     "data": {
      "text/html": [
       "<div>\n",
       "<style scoped>\n",
       "    .dataframe tbody tr th:only-of-type {\n",
       "        vertical-align: middle;\n",
       "    }\n",
       "\n",
       "    .dataframe tbody tr th {\n",
       "        vertical-align: top;\n",
       "    }\n",
       "\n",
       "    .dataframe thead th {\n",
       "        text-align: right;\n",
       "    }\n",
       "</style>\n",
       "<table border=\"1\" class=\"dataframe\">\n",
       "  <thead>\n",
       "    <tr style=\"text-align: right;\">\n",
       "      <th></th>\n",
       "      <th>voted_up</th>\n",
       "      <th>Sum(votes_funny)</th>\n",
       "      <th>Sum(votes_up)</th>\n",
       "    </tr>\n",
       "  </thead>\n",
       "  <tbody>\n",
       "    <tr>\n",
       "      <th>0</th>\n",
       "      <td>False</td>\n",
       "      <td>1760953801658</td>\n",
       "      <td>80917810</td>\n",
       "    </tr>\n",
       "    <tr>\n",
       "      <th>1</th>\n",
       "      <td>True</td>\n",
       "      <td>6244949726479</td>\n",
       "      <td>199077852</td>\n",
       "    </tr>\n",
       "  </tbody>\n",
       "</table>\n",
       "</div>"
      ],
      "text/plain": [
       "   voted_up  Sum(votes_funny)  Sum(votes_up)\n",
       "0     False     1760953801658       80917810\n",
       "1      True     6244949726479      199077852"
      ]
     },
     "execution_count": 11,
     "metadata": {},
     "output_type": "execute_result"
    }
   ],
   "source": [
    "p.group_by(p.voted_up).aggregate(p.votes_funny.sum(), p.votes_up.sum()).execute()"
   ]
  },
  {
   "cell_type": "code",
   "execution_count": null,
   "id": "ddb26607-3d7f-4b19-aeb3-b3ddfad304aa",
   "metadata": {},
   "outputs": [],
   "source": [
    "\n"
   ]
  }
 ],
 "metadata": {
  "kernelspec": {
   "display_name": "Python 3 (ipykernel)",
   "language": "python",
   "name": "python3"
  },
  "language_info": {
   "codemirror_mode": {
    "name": "ipython",
    "version": 3
   },
   "file_extension": ".py",
   "mimetype": "text/x-python",
   "name": "python",
   "nbconvert_exporter": "python",
   "pygments_lexer": "ipython3",
   "version": "3.12.2"
  }
 },
 "nbformat": 4,
 "nbformat_minor": 5
}
