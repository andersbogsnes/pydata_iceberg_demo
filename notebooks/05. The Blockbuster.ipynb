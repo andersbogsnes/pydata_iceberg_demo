{
 "cells": [
  {
   "cell_type": "code",
   "execution_count": 1,
   "id": "fb16ad71-6e20-4230-bb84-44da43a67243",
   "metadata": {},
   "outputs": [],
   "source": [
    "from pyiceberg.catalog import load_catalog\n",
    "import ibis"
   ]
  },
  {
   "cell_type": "code",
   "execution_count": 35,
   "id": "621ebe77-1b12-4e96-852b-75d8b164b06b",
   "metadata": {},
   "outputs": [],
   "source": [
    "df = ibis.read_parquet('../data/parquet/steam_reviews.parquet')\n",
    "arrow_table = df.to_pyarrow()"
   ]
  },
  {
   "cell_type": "code",
   "execution_count": 54,
   "id": "d3f9bb75-bca6-4ab5-8896-c1ef63c70ef1",
   "metadata": {},
   "outputs": [],
   "source": [
    "catalog = load_catalog('reviews', uri='http://localhost:19120/iceberg', \n",
    "                       **{\"s3.endpoint\": \"http://localhost:9000\",\n",
    "                         \"s3.access-key-id\": \"LGMGAGLrVCiiEEo4p0LM\",\n",
    "                         \"s3.secret-access-key\": \"LGMGAGLrVCiiEEo4p0LM\",})"
   ]
  },
  {
   "cell_type": "code",
   "execution_count": 43,
   "id": "5f706fc9-f22a-4acd-9c30-10999a775779",
   "metadata": {},
   "outputs": [],
   "source": [
    "catalog.drop_table('reviews.reviews')"
   ]
  },
  {
   "cell_type": "code",
   "execution_count": 44,
   "id": "8db16c38-8f23-4163-8132-03da645cd73a",
   "metadata": {},
   "outputs": [],
   "source": [
    "catalog.drop_namespace('reviews')"
   ]
  },
  {
   "cell_type": "code",
   "execution_count": 45,
   "id": "78b6d1e2-0db5-4d40-8dca-fe8029b8641f",
   "metadata": {},
   "outputs": [
    {
     "data": {
      "text/plain": [
       "[]"
      ]
     },
     "execution_count": 45,
     "metadata": {},
     "output_type": "execute_result"
    }
   ],
   "source": [
    "catalog.list_namespaces()"
   ]
  },
  {
   "cell_type": "code",
   "execution_count": 46,
   "id": "6f5e05fe-f664-4a5c-9a7b-f3fd9752cf75",
   "metadata": {},
   "outputs": [],
   "source": [
    "catalog.create_namespace('reviews')"
   ]
  },
  {
   "cell_type": "code",
   "execution_count": null,
   "id": "65039cde-72b9-4d3f-bd5d-3eec28b022f1",
   "metadata": {},
   "outputs": [],
   "source": []
  },
  {
   "cell_type": "code",
   "execution_count": 47,
   "id": "ce2ee4f2-068a-45da-8699-a6eaca6cae8a",
   "metadata": {},
   "outputs": [
    {
     "data": {
      "text/plain": [
       "[('reviews',)]"
      ]
     },
     "execution_count": 47,
     "metadata": {},
     "output_type": "execute_result"
    }
   ],
   "source": [
    "catalog.list_namespaces()"
   ]
  },
  {
   "cell_type": "code",
   "execution_count": 48,
   "id": "e10c6f25-139b-4940-b64c-fac95b6b447a",
   "metadata": {},
   "outputs": [
    {
     "data": {
      "text/plain": [
       "reviews(\n",
       "  1: recommendationid: optional long,\n",
       "  2: language: optional string,\n",
       "  3: timestamp_created: optional timestamptz,\n",
       "  4: timestamp_updated: optional timestamptz,\n",
       "  5: voted_up: optional boolean,\n",
       "  6: votes_up: optional long,\n",
       "  7: votes_funny: optional long,\n",
       "  8: weighted_vote_score: optional double,\n",
       "  9: comment_count: optional long,\n",
       "  10: steam_purchase: optional boolean,\n",
       "  11: received_for_free: optional long,\n",
       "  12: written_during_early_access: optional long,\n",
       "  13: hidden_in_steam_china: optional long,\n",
       "  14: steam_china_location: optional string,\n",
       "  15: author_steamid: optional long,\n",
       "  16: author_num_games_owned: optional long,\n",
       "  17: author_num_reviews: optional long,\n",
       "  18: author_playtime_forever: optional long,\n",
       "  19: author_playtime_last_two_weeks: optional long,\n",
       "  20: author_playtime_at_review: optional long,\n",
       "  21: author_last_played: optional timestamptz,\n",
       "  22: year_created: optional long,\n",
       "  23: month_created: optional long,\n",
       "  24: game_id: optional string\n",
       "),\n",
       "partition by: [],\n",
       "sort order: [],\n",
       "snapshot: null"
      ]
     },
     "execution_count": 48,
     "metadata": {},
     "output_type": "execute_result"
    }
   ],
   "source": [
    "catalog.create_table('reviews.reviews', schema=arrow_table.schema)"
   ]
  },
  {
   "cell_type": "code",
   "execution_count": 55,
   "id": "74053e10-b3f5-41de-966d-4017375d78ac",
   "metadata": {},
   "outputs": [],
   "source": [
    "table = catalog.load_table('reviews.reviews')"
   ]
  },
  {
   "cell_type": "code",
   "execution_count": 56,
   "id": "0536c2f5-5732-4826-ad2a-0566cffc5a4b",
   "metadata": {},
   "outputs": [],
   "source": [
    "table.overwrite(arrow_table)"
   ]
  },
  {
   "cell_type": "code",
   "execution_count": 65,
   "id": "357d2635-ab16-4a54-b2d6-272d2bf470ee",
   "metadata": {},
   "outputs": [],
   "source": [
    "conn = table.scan(selected_fields=('language', 'game_id', 'voted_up')).to_duckdb('reviews')"
   ]
  },
  {
   "cell_type": "code",
   "execution_count": 82,
   "id": "c95cd279-4533-4c15-a2e7-291c309f1c73",
   "metadata": {
    "editable": true,
    "slideshow": {
     "slide_type": ""
    },
    "tags": []
   },
   "outputs": [],
   "source": [
    "r = conn.sql(\"\"\"with lang_reviews as (\n",
    "    SELECT language, game_id, count(*) as num_reviews \n",
    "    FROM reviews group by all\n",
    "), max_reviews as (\n",
    "    select \n",
    "    language, \n",
    "    game_id, \n",
    "    num_reviews,\n",
    "    RANK() OVER (partition by language order by num_reviews desc) as ordering \n",
    "    from lang_reviews\n",
    ")\n",
    "select language, game_id, num_reviews from max_reviews\n",
    "where ordering = 1\n",
    "order by num_reviews desc\n",
    "    \n",
    "\"\"\")"
   ]
  },
  {
   "cell_type": "code",
   "execution_count": 83,
   "id": "196362bc-f87f-4b43-a1e4-f222d5ed06ea",
   "metadata": {},
   "outputs": [
    {
     "name": "stdout",
     "output_type": "stream",
     "text": [
      "┌────────────┬─────────┬─────────────┐\n",
      "│  language  │ game_id │ num_reviews │\n",
      "│  varchar   │ varchar │    int64    │\n",
      "├────────────┼─────────┼─────────────┤\n",
      "│ english    │ 730     │     2102886 │\n",
      "│ russian    │ 730     │     2006616 │\n",
      "│ schinese   │ 578080  │     1166691 │\n",
      "│ brazilian  │ 730     │      435306 │\n",
      "│ polish     │ 730     │      417014 │\n",
      "│ turkish    │ 730     │      389142 │\n",
      "│ spanish    │ 730     │      283405 │\n",
      "│ german     │ 730     │      205558 │\n",
      "│ french     │ 730     │      123453 │\n",
      "│ koreana    │ 578080  │      119080 │\n",
      "│  ·         │  ·      │         ·   │\n",
      "│  ·         │  ·      │         ·   │\n",
      "│  ·         │  ·      │         ·   │\n",
      "│ thai       │ 730     │       22326 │\n",
      "│ latam      │ 730     │       19880 │\n",
      "│ italian    │ 730     │       19369 │\n",
      "│ dutch      │ 730     │       17458 │\n",
      "│ norwegian  │ 730     │       14019 │\n",
      "│ vietnamese │ 730     │       10445 │\n",
      "│ bulgarian  │ 730     │        9670 │\n",
      "│ japanese   │ 1172470 │        8976 │\n",
      "│ greek      │ 730     │        6955 │\n",
      "│ indonesian │ 271590  │         173 │\n",
      "├────────────┴─────────┴─────────────┤\n",
      "│ 29 rows (20 shown)       3 columns │\n",
      "└────────────────────────────────────┘\n",
      "\n"
     ]
    }
   ],
   "source": [
    "r.show()"
   ]
  },
  {
   "cell_type": "code",
   "execution_count": null,
   "id": "e161dcc1-ca06-447f-abb1-dec08ffd5a6a",
   "metadata": {},
   "outputs": [],
   "source": []
  }
 ],
 "metadata": {
  "kernelspec": {
   "display_name": "Python 3 (ipykernel)",
   "language": "python",
   "name": "python3"
  },
  "language_info": {
   "codemirror_mode": {
    "name": "ipython",
    "version": 3
   },
   "file_extension": ".py",
   "mimetype": "text/x-python",
   "name": "python",
   "nbconvert_exporter": "python",
   "pygments_lexer": "ipython3",
   "version": "3.12.2"
  }
 },
 "nbformat": 4,
 "nbformat_minor": 5
}
